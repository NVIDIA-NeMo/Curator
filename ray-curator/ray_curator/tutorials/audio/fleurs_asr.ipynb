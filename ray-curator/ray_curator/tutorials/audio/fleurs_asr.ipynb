{
 "cells": [
  {
   "cell_type": "markdown",
   "id": "4f680d95",
   "metadata": {},
   "source": [
    "# Audio curation in NeMo Curator\n",
    "\n",
    "In the following notebook, we'll be exploring basic functionality that NeMo Curator has for audio dataset curation. NeMo Curator has a few built-in modules for:\n",
    "\n",
    "- Download and ManifestFleursStage\n",
    "\n",
    "- ASR (Autimatic Speech Recognition) Inference using NeMo toolkit\n",
    "\n",
    "- Calculate pairwise WER (Word Error Rate)\n",
    "\n",
    "- Get duration for each audio \n",
    "\n",
    "- Save metadata to Jsonl file\n",
    "\n",
    "We'll cover all the modules in this tutorial notebook. First, we'll need to install NeMo toolkit and NeMo Curator!\n",
    "\n",
    "NOTE: Please ensure you meet the requirements before proceeding!"
   ]
  },
  {
   "cell_type": "code",
   "execution_count": null,
   "id": "0886c811",
   "metadata": {},
   "outputs": [],
   "source": []
  }
 ],
 "metadata": {
  "kernelspec": {
   "display_name": "Python 3",
   "language": "python",
   "name": "python3"
  },
  "language_info": {
   "codemirror_mode": {
    "name": "ipython",
    "version": 3
   },
   "file_extension": ".py",
   "mimetype": "text/x-python",
   "name": "python",
   "nbconvert_exporter": "python",
   "pygments_lexer": "ipython3",
   "version": "3.8.10"
  }
 },
 "nbformat": 4,
 "nbformat_minor": 5
}
