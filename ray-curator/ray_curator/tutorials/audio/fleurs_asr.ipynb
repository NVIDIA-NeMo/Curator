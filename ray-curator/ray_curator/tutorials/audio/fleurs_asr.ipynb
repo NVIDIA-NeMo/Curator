{
 "cells": [
  {
   "cell_type": "markdown",
   "id": "e926a0b4",
   "metadata": {},
   "source": [
    "# Audio curation in NeMo Curator\n",
    "\n",
    "In the following notebook, we'll be exploring basic functionality that NeMo Curator has for audio dataset curation. NeMo Curator has a few built-in modules for:\n",
    "\n",
    "- Download and prepare FLEURS data\n",
    "\n",
    "- Inference of ASR (Autimatic Speech Recognition) using NeMo toolkit\n",
    "\n",
    "- Calculate pairwise WER (Word Error Rate)\n",
    "\n",
    "- Get duration for each audio \n",
    "\n",
    "- Save metadata to Jsonl file\n",
    "\n",
    "We'll cover all the modules in this tutorial notebook. First, we'll need to install NeMo toolkit and NeMo Curator!\n",
    "\n",
    "NOTE: Please ensure you meet the requirements before proceeding!\n",
    "\n",
    "## Table of Contents\n",
    "\n",
    "## Install NeMo Curator\n",
    "\n",
    "If you have not already, please install NeMo Curator by following the README; you should install either nemo-curator[all] or nemo-curator[audio] for this tutorial. If you are using the NeMo Framework Container, then NeMo Curator is already installed and no action is needed.\n",
    "\n",
    "We also need to install some additional libraries for helper functions in the notebook:"
   ]
  },
  {
   "cell_type": "markdown",
   "id": "91c9ea52",
   "metadata": {},
   "source": [
    "# Install Ray Curator"
   ]
  },
  {
   "cell_type": "code",
   "execution_count": 3,
   "id": "0f8557b7",
   "metadata": {},
   "outputs": [],
   "source": [
    "import sys\n",
    "\n",
    "CURATORPATH = \"~/workspace/Curator/ray-curator\"\n",
    "sys.path.append(CURATORPATH)"
   ]
  },
  {
   "cell_type": "markdown",
   "id": "02031f8a",
   "metadata": {},
   "source": [
    "# Install cosmos_xenna"
   ]
  },
  {
   "cell_type": "code",
   "execution_count": null,
   "id": "ec924872",
   "metadata": {},
   "outputs": [],
   "source": [
    "! pip install cosmos_xenna"
   ]
  },
  {
   "cell_type": "markdown",
   "id": "b4d71cd3",
   "metadata": {},
   "source": [
    "# Start Ray Cluster "
   ]
  },
  {
   "cell_type": "code",
   "execution_count": null,
   "id": "e64c58d3",
   "metadata": {},
   "outputs": [],
   "source": [
    "!"
   ]
  },
  {
   "cell_type": "code",
   "execution_count": null,
   "id": "c7e83cfb",
   "metadata": {},
   "outputs": [],
   "source": [
    "import argparse\n",
    "import os\n",
    "import shutil\n",
    "import tempfile\n",
    "\n",
    "from loguru import logger\n",
    "\n",
    "from ray_curator.backends.xenna import XennaExecutor\n",
    "from ray_curator.pipeline import Pipeline\n",
    "from ray_curator.stages.audio.common import GetAudioDurationStage, PreserveByValueStage\n",
    "from ray_curator.stages.audio.datasets.fleurs.create_initial_manifest import CreateInitialManifestFleursStage\n",
    "from ray_curator.stages.audio.inference.asr_nemo import InferenceAsrNemoStage\n",
    "from ray_curator.stages.audio.io.object_to_batch import ObjectToBatchStage\n",
    "from ray_curator.stages.audio.metrics.get_wer import GetPairwiseWerStage\n",
    "from ray_curator.stages.resources import Resources\n",
    "from ray_curator.stages.text.io.writer import JsonlWriter"
   ]
  },
  {
   "cell_type": "code",
   "execution_count": null,
   "id": "93d8842d",
   "metadata": {},
   "outputs": [],
   "source": [
    "def create_audio_pipeline(args: argparse.Namespace) -> Pipeline:\n",
    "    # Define pipeline\n",
    "    pipeline = Pipeline(name=\"audio_inference\", description=\"Inference audio and filter by WER threshold.\")\n",
    "\n",
    "    # Add stages\n",
    "    # Add the composite stage that combines reading and downloading\n",
    "    pipeline.add_stage(\n",
    "        CreateInitialManifestFleursStage(\n",
    "            lang=args.lang,\n",
    "            split=args.split,\n",
    "            raw_data_dir=args.raw_data_dir,\n",
    "        )\n",
    "    )\n",
    "    pipeline.add_stage(\n",
    "        InferenceAsrNemoStage(model_name=args.model_name).with_(batch_size=16, resources=Resources(gpus=1.0))\n",
    "    )\n",
    "    pipeline.add_stage(GetPairwiseWerStage(text_key=\"text\", pred_text_key=\"pred_text\", wer_key=\"wer\"))\n",
    "    pipeline.add_stage(GetAudioDurationStage(audio_filepath_key=\"audio_filepath\", duration_key=\"duration\"))\n",
    "    pipeline.add_stage(PreserveByValueStage(input_value_key=\"wer\", target_value=args.wer_threshold, operator=\"le\"))\n",
    "    pipeline.add_stage(ObjectToBatchStage().with_(batch_size=1))\n",
    "    result_dir = os.path.join(args.raw_data_dir, \"result\")\n",
    "    if os.path.isdir(result_dir):\n",
    "        shutil.rmtree(result_dir)  # clean up resulting folder\n",
    "    pipeline.add_stage(JsonlWriter(output_dir=result_dir, force_ascii=False))\n",
    "    return pipeline"
   ]
  },
  {
   "cell_type": "code",
   "execution_count": null,
   "id": "702e8757",
   "metadata": {},
   "outputs": [],
   "source": [
    "tmpdir = tempfile.TemporaryDirectory()\n",
    "\n",
    "args = argparse.Namespace(\n",
    "    raw_data_dir=os.path.join(tmpdir, \"armenian/fleurs\"),\n",
    "    model_name=\"nvidia/stt_hy_fastconformer_hybrid_large_pc\",\n",
    "    lang=\"hy_am\",\n",
    "    split=\"dev\",\n",
    "    wer_threshold=5.5,\n",
    ")"
   ]
  },
  {
   "cell_type": "code",
   "execution_count": null,
   "id": "75bca780",
   "metadata": {},
   "outputs": [],
   "source": [
    "\"\"\"\n",
    "Prepare FLEURS dataset, run ASR inference and filer by WER threshold.\n",
    "\"\"\"\n",
    "pipeline = create_audio_pipeline(args)\n",
    "\n",
    "# Print pipeline description\n",
    "logger.info(pipeline.describe())\n",
    "logger.info(\"\\n\" + \"=\" * 50 + \"\\n\")\n",
    "\n",
    "# Create executor\n",
    "executor = XennaExecutor()\n",
    "\n",
    "# Execute pipeline\n",
    "logger.info(\"Starting pipeline execution...\")\n",
    "pipeline.run(executor)\n",
    "tmpdir.cleanup()\n",
    "# Print results\n",
    "logger.info(\"\\nPipeline completed!\")"
   ]
  },
  {
   "cell_type": "code",
   "execution_count": null,
   "id": "31456a80",
   "metadata": {},
   "outputs": [],
   "source": [
    "# Clear temporary folder\n",
    "tmpdir.cleanup()"
   ]
  }
 ],
 "metadata": {
  "kernelspec": {
   "display_name": "Python 3",
   "language": "python",
   "name": "python3"
  },
  "language_info": {
   "codemirror_mode": {
    "name": "ipython",
    "version": 3
   },
   "file_extension": ".py",
   "mimetype": "text/x-python",
   "name": "python",
   "nbconvert_exporter": "python",
   "pygments_lexer": "ipython3",
   "version": "3.8.10"
  }
 },
 "nbformat": 4,
 "nbformat_minor": 5
}
