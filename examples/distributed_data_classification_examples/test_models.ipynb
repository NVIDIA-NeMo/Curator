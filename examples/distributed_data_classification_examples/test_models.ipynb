{
 "cells": [
  {
   "cell_type": "markdown",
   "metadata": {},
   "source": [
    "#### Silence Warnings (Majorly HF internal warnings)"
   ]
  },
  {
   "cell_type": "code",
   "execution_count": 1,
   "metadata": {},
   "outputs": [
    {
     "name": "stdout",
     "output_type": "stream",
     "text": [
      "env: PYTHONWARNINGS=ignore\n"
     ]
    }
   ],
   "source": [
    "%env PYTHONWARNINGS=ignore\n",
    "\n",
    "import warnings\n",
    "warnings.filterwarnings(\"ignore\")"
   ]
  },
  {
   "cell_type": "code",
   "execution_count": 2,
   "metadata": {},
   "outputs": [],
   "source": [
    "from dask_cuda import LocalCUDACluster\n",
    "from dask.distributed import Client\n",
    "from nemo_curator import DomainClassifier, QualityClassifier\n",
    "from nemo_curator.datasets import DocumentDataset\n",
    "#from nemo_curator.utils.distributed_utils import start_dask_gpu_local_cluster"
   ]
  },
  {
   "cell_type": "code",
   "execution_count": 3,
   "metadata": {},
   "outputs": [],
   "source": [
    "cluster = LocalCUDACluster(rmm_async=True, rmm_pool_size=\"1GB\")\n",
    "client = Client(cluster)"
   ]
  },
  {
   "cell_type": "markdown",
   "metadata": {},
   "source": [
    "# Data File Paths "
   ]
  },
  {
   "cell_type": "code",
   "execution_count": 4,
   "metadata": {},
   "outputs": [],
   "source": [
    "input_file_path=\"/home/nfs/syurick/LLM_domain_classifier_inference/4360_results_jsonl_dir/\"\n",
    "output_file_path = \"/raid/vjawa/output_file.parquet\""
   ]
  },
  {
   "cell_type": "markdown",
   "metadata": {},
   "source": [
    "# Create a Classifier"
   ]
  },
  {
   "cell_type": "code",
   "execution_count": 5,
   "metadata": {},
   "outputs": [],
   "source": [
    "classifier_type=\"QualityClassifier\""
   ]
  },
  {
   "cell_type": "code",
   "execution_count": 6,
   "metadata": {},
   "outputs": [
    {
     "name": "stdout",
     "output_type": "stream",
     "text": [
      "Reading 16 files\n",
      "CPU times: user 7.29 s, sys: 5.66 s, total: 13 s\n",
      "Wall time: 9.1 s\n"
     ]
    }
   ],
   "source": [
    "%%time\n",
    "\n",
    "input_dataset = DocumentDataset.read_json(\n",
    "    input_file_path, backend=\"cudf\", add_filename=True\n",
    ")\n",
    "\n",
    "if classifier_type == \"DomainClassifier\":\n",
    "    domain_labels = [\n",
    "    \"Adult\",\n",
    "    \"Arts_and_Entertainment\",\n",
    "    \"Autos_and_Vehicles\",\n",
    "    \"Beauty_and_Fitness\",\n",
    "    \"Books_and_Literature\",\n",
    "    \"Business_and_Industrial\",\n",
    "    \"Computers_and_Electronics\",\n",
    "    \"Finance\",\n",
    "    \"Food_and_Drink\",\n",
    "    \"Games\",\n",
    "    \"Health\",\n",
    "    \"Hobbies_and_Leisure\",\n",
    "    \"Home_and_Garden\",\n",
    "    \"Internet_and_Telecom\",\n",
    "    \"Jobs_and_Education\",\n",
    "    \"Law_and_Government\",\n",
    "    \"News\",\n",
    "    \"Online_Communities\",\n",
    "    \"People_and_Society\",\n",
    "    \"Pets_and_Animals\",\n",
    "    \"Real_Estate\",\n",
    "    \"Science\",\n",
    "    \"Sensitive_Subjects\",\n",
    "    \"Shopping\",\n",
    "    \"Sports\",\n",
    "    \"Travel_and_Transportation\",\n",
    "    ]\n",
    "    model_file_name = \"/home/nfs/syurick/LLM_domain_classifier_inference/\" + \\\n",
    "                      \"GoogleDebertaAgree_v3b_bce_maxlen512_bs64_noRef_best.pth\"\n",
    "    classifier = DomainClassifier(\n",
    "        model_file_name=model_file_name,\n",
    "        labels=domain_labels,\n",
    "        batch_size=1024,\n",
    "    )\n",
    "elif classifier_type == \"QualityClassifier\":\n",
    "    quality_labels = [\"High\", \"Medium\", \"Low\"]\n",
    "    model_file_name = \"/home/nfs/syurick/LLM_quality_classifier_inference/\" + \\\n",
    "                      \"quality_rnd3_2014val1070_10ep_2xhigh_1024_fold4_last-001.pth\"\n",
    "\n",
    "\n",
    "    classifier = QualityClassifier(\n",
    "        model_file_name=model_file_name,\n",
    "        labels=quality_labels,\n",
    "        batch_size=1024,\n",
    "    )\n",
    "else:\n",
    "    raise ValueError(\"Invalid classifier type\")"
   ]
  },
  {
   "cell_type": "markdown",
   "metadata": {},
   "source": [
    "# Run the actuall classifier"
   ]
  },
  {
   "cell_type": "code",
   "execution_count": 12,
   "metadata": {},
   "outputs": [
    {
     "name": "stdout",
     "output_type": "stream",
     "text": [
      "Starting Quality classifier inference\n"
     ]
    },
    {
     "ename": "AttributeError",
     "evalue": "'DocumentDataset' object has no attribute 'rename'",
     "output_type": "error",
     "traceback": [
      "\u001b[0;31m---------------------------------------------------------------------------\u001b[0m",
      "\u001b[0;31mAttributeError\u001b[0m                            Traceback (most recent call last)",
      "Cell \u001b[0;32mIn[12], line 2\u001b[0m\n\u001b[1;32m      1\u001b[0m result_dataset \u001b[38;5;241m=\u001b[39m classifier(dataset\u001b[38;5;241m=\u001b[39minput_dataset)\n\u001b[0;32m----> 2\u001b[0m output_df \u001b[38;5;241m=\u001b[39m \u001b[43mresult_dataset\u001b[49m\u001b[38;5;241;43m.\u001b[39;49m\u001b[43mdf\u001b[49m\u001b[38;5;241;43m.\u001b[39;49m\u001b[43mrename\u001b[49m({\u001b[38;5;124m\"\u001b[39m\u001b[38;5;124mlabels\u001b[39m\u001b[38;5;124m\"\u001b[39m:\u001b[38;5;124m\"\u001b[39m\u001b[38;5;132;01m{classifier_type}\u001b[39;00m\u001b[38;5;124m_prediction\u001b[39m\u001b[38;5;124m\"\u001b[39m})\n\u001b[1;32m      3\u001b[0m output_df\u001b[38;5;241m.\u001b[39mto_json(output_file_dir\u001b[38;5;241m=\u001b[39moutput_file_path, write_to_filename\u001b[38;5;241m=\u001b[39m\u001b[38;5;28;01mTrue\u001b[39;00m)\n",
      "\u001b[0;31mAttributeError\u001b[0m: 'DocumentDataset' object has no attribute 'rename'"
     ]
    }
   ],
   "source": [
    "result_dataset = classifier(dataset=input_dataset)\n",
    "output_df = result_dataset.df.rename({\"labels\":\"{classifier_type}_prediction\"})\n",
    "output_df.to_json(output_file_dir=output_file_path, write_to_filename=True)"
   ]
  },
  {
   "cell_type": "markdown",
   "metadata": {},
   "source": [
    "#### Verify The file was written correctly"
   ]
  },
  {
   "cell_type": "code",
   "execution_count": 9,
   "metadata": {},
   "outputs": [
    {
     "name": "stdout",
     "output_type": "stream",
     "text": [
      "Reading 16 files\n"
     ]
    },
    {
     "data": {
      "text/html": [
       "<div>\n",
       "<style scoped>\n",
       "    .dataframe tbody tr th:only-of-type {\n",
       "        vertical-align: middle;\n",
       "    }\n",
       "\n",
       "    .dataframe tbody tr th {\n",
       "        vertical-align: top;\n",
       "    }\n",
       "\n",
       "    .dataframe thead th {\n",
       "        text-align: right;\n",
       "    }\n",
       "</style>\n",
       "<table border=\"1\" class=\"dataframe\">\n",
       "  <thead>\n",
       "    <tr style=\"text-align: right;\">\n",
       "      <th></th>\n",
       "      <th>adlr_id</th>\n",
       "      <th>filename</th>\n",
       "      <th>id</th>\n",
       "      <th>labels</th>\n",
       "      <th>pred</th>\n",
       "      <th>source_id</th>\n",
       "      <th>split_id</th>\n",
       "      <th>text</th>\n",
       "      <th>url</th>\n",
       "    </tr>\n",
       "  </thead>\n",
       "  <tbody>\n",
       "    <tr>\n",
       "      <th>0</th>\n",
       "      <td>cc-2022-40-0431053204</td>\n",
       "      <td>00.jsonl</td>\n",
       "      <td>a8083fe4-525d-4888-8513-b91f43bd8ee1</td>\n",
       "      <td>Medium</td>\n",
       "      <td>Online_Communities</td>\n",
       "      <td>crawl-data-CC-MAIN-2022-40-segments-1664030336...</td>\n",
       "      <td>lambada-0003225258-0000</td>\n",
       "      <td>Having been a community leader—and member—for ...</td>\n",
       "      <td>https://lisalarter.com/7-tips-for-building-ste...</td>\n",
       "    </tr>\n",
       "    <tr>\n",
       "      <th>1</th>\n",
       "      <td>cc-2022-40-0510168267</td>\n",
       "      <td>00.jsonl</td>\n",
       "      <td>559febdc-cb7f-4217-897a-c8dac325123b</td>\n",
       "      <td>Low</td>\n",
       "      <td>Finance</td>\n",
       "      <td>crawl-data-CC-MAIN-2022-40-segments-1664030337...</td>\n",
       "      <td>lambada-0003918122-0000</td>\n",
       "      <td>Zelle is a way of sending money to almost anyo...</td>\n",
       "      <td>https://oregonmassageandwellnessclinic.com/app...</td>\n",
       "    </tr>\n",
       "  </tbody>\n",
       "</table>\n",
       "</div>"
      ],
      "text/plain": [
       "                 adlr_id  filename                                    id  \\\n",
       "0  cc-2022-40-0431053204  00.jsonl  a8083fe4-525d-4888-8513-b91f43bd8ee1   \n",
       "1  cc-2022-40-0510168267  00.jsonl  559febdc-cb7f-4217-897a-c8dac325123b   \n",
       "\n",
       "   labels                pred  \\\n",
       "0  Medium  Online_Communities   \n",
       "1     Low             Finance   \n",
       "\n",
       "                                           source_id                 split_id  \\\n",
       "0  crawl-data-CC-MAIN-2022-40-segments-1664030336...  lambada-0003225258-0000   \n",
       "1  crawl-data-CC-MAIN-2022-40-segments-1664030337...  lambada-0003918122-0000   \n",
       "\n",
       "                                                text  \\\n",
       "0  Having been a community leader—and member—for ...   \n",
       "1  Zelle is a way of sending money to almost anyo...   \n",
       "\n",
       "                                                 url  \n",
       "0  https://lisalarter.com/7-tips-for-building-ste...  \n",
       "1  https://oregonmassageandwellnessclinic.com/app...  "
      ]
     },
     "execution_count": 9,
     "metadata": {},
     "output_type": "execute_result"
    }
   ],
   "source": [
    "output_dataset = DocumentDataset.read_json(output_file_path, backend=\"cudf\", add_filename=True)\n",
    "output_dataset.df.head(2)"
   ]
  },
  {
   "cell_type": "markdown",
   "metadata": {},
   "source": [
    "##### cleanup the output file"
   ]
  },
  {
   "cell_type": "code",
   "execution_count": null,
   "metadata": {},
   "outputs": [],
   "source": [
    "!rm -rf $output_file_path"
   ]
  }
 ],
 "metadata": {
  "kernelspec": {
   "display_name": "NeMo-Curator-env-2",
   "language": "python",
   "name": "python3"
  },
  "language_info": {
   "codemirror_mode": {
    "name": "ipython",
    "version": 3
   },
   "file_extension": ".py",
   "mimetype": "text/x-python",
   "name": "python",
   "nbconvert_exporter": "python",
   "pygments_lexer": "ipython3",
   "version": "3.10.14"
  }
 },
 "nbformat": 4,
 "nbformat_minor": 2
}
