{
 "cells": [
  {
   "cell_type": "markdown",
   "metadata": {},
   "source": [
    "# Distributed Data Classification with Multiple Quality Classifiers\n",
    "\n",
    "The notebook demonstrates the use of five quality classifiers for distributed data classification. Each fold was trained on 80% of the data, so the results can be ensembled into a single prediction. These classifers help with annotation which helps data blending for foundation model training.\n",
    "\n",
    "The classifiers are accelerated using [CrossFit](https://github.com/rapidsai/crossfit), a library that leverages intellegent batching and RAPIDS to accelerate the offline inference on large datasets."
   ]
  },
  {
   "cell_type": "code",
   "execution_count": 1,
   "metadata": {},
   "outputs": [
    {
     "name": "stdout",
     "output_type": "stream",
     "text": [
      "env: PYTHONWARNINGS=ignore\n",
      "env: DASK_DATAFRAME__QUERY_PLANNING=False\n"
     ]
    }
   ],
   "source": [
    "# Silence Warnings (HuggingFace internal warnings)\n",
    "\n",
    "%env PYTHONWARNINGS=ignore\n",
    "%env DASK_DATAFRAME__QUERY_PLANNING=False\n",
    "import warnings\n",
    "warnings.filterwarnings(\"ignore\")"
   ]
  },
  {
   "cell_type": "code",
   "execution_count": 2,
   "metadata": {},
   "outputs": [],
   "source": [
    "from nemo_curator.classifiers import QualityClassifier\n",
    "from nemo_curator.datasets import DocumentDataset\n",
    "from nemo_curator.utils.distributed_utils import get_client\n",
    "import cudf\n",
    "import dask_cudf"
   ]
  },
  {
   "cell_type": "code",
   "execution_count": 3,
   "metadata": {},
   "outputs": [],
   "source": [
    "client = get_client(cluster_type=\"gpu\")"
   ]
  },
  {
   "cell_type": "markdown",
   "metadata": {},
   "source": [
    "# Set File Paths "
   ]
  },
  {
   "cell_type": "code",
   "execution_count": 4,
   "metadata": {},
   "outputs": [],
   "source": [
    "output_file_path = \"output_data_dir/\"\n",
    "output_file_path = \"/home/nfs/syurick/NeMo-Curator/tutorials/distributed_data_classification/nb_q_result\"\n",
    "quality_model_paths = [\n",
    "    \"quality_model0.pth\",\n",
    "    \"quality_model1.pth\",\n",
    "    \"quality_model2.pth\",\n",
    "    \"quality_model3.pth\",\n",
    "    \"quality_model4.pth\",\n",
    "]\n",
    "quality_model_paths = [\n",
    "    \"/home/nfs/syurick/LLM_quality_classifier_inference/ensemble/quality_surge_full_22828_1e5_5ep_bs64_1024_fold0_best.pth\",\n",
    "    \"/home/nfs/syurick/LLM_quality_classifier_inference/ensemble/quality_surge_full_22828_1e5_5ep_bs64_1024_fold1_best.pth\",\n",
    "    \"/home/nfs/syurick/LLM_quality_classifier_inference/ensemble/quality_surge_full_22828_1e5_5ep_bs64_1024_fold2_best.pth\",\n",
    "    \"/home/nfs/syurick/LLM_quality_classifier_inference/ensemble/quality_surge_full_22828_1e5_5ep_bs64_1024_fold3_best.pth\",\n",
    "    \"/home/nfs/syurick/LLM_quality_classifier_inference/ensemble/quality_surge_full_22828_1e5_5ep_bs64_1024_fold4_best.pth\",\n",
    "]"
   ]
  },
  {
   "cell_type": "markdown",
   "metadata": {},
   "source": [
    "# Create and Run Classifiers"
   ]
  },
  {
   "cell_type": "code",
   "execution_count": 17,
   "metadata": {},
   "outputs": [],
   "source": [
    "# Create sample DataFrame\n",
    "text = [\n",
    "    \"Quantum computing is set to revolutionize the field of cryptography.\",\n",
    "    \"Investing in index funds is a popular strategy for long-term financial growth.\",\n",
    "    \"Recent advancements in gene therapy offer new hope for treating genetic disorders.\",\n",
    "    \"Online learning platforms have transformed the way students access educational resources.\",\n",
    "    \"Traveling to Europe during the off-season can be a more budget-friendly option.\",\n",
    "    \"Training regimens for athletes have become more sophisticated with the use of data analytics.\",\n",
    "    \"Streaming services are changing the way people consume television and film content.\",\n",
    "    \"Vegan recipes have gained popularity as more people adopt plant-based diets.\",\n",
    "    \"Climate change research is critical for developing sustainable environmental policies.\",\n",
    "    \"Telemedicine has become increasingly popular due to its convenience and accessibility.\",\n",
    "]\n",
    "df = cudf.DataFrame({\"text\": text})\n",
    "dataset = DocumentDataset(dask_cudf.from_cudf(df, npartitions=1))\n",
    "write_to_filename = False\n",
    "\n",
    "# Alternatively, read existing directory of JSONL files\n",
    "# input_file_path=\"/input_data_dir/\"\n",
    "# input_dataset = DocumentDataset.read_json(\n",
    "#     input_file_path, backend=\"cudf\", add_filename=True\n",
    "# )\n",
    "# write_to_filename = True"
   ]
  },
  {
   "cell_type": "code",
   "execution_count": 18,
   "metadata": {},
   "outputs": [
    {
     "name": "stdout",
     "output_type": "stream",
     "text": [
      "Starting Quality classifier inference\n",
      "Starting Quality classifier inference\n"
     ]
    }
   ],
   "source": [
    "pred_columns = []\n",
    "prob_columns = []\n",
    "\n",
    "# Fold 0\n",
    "quality_model_path = quality_model_paths[0]\n",
    "pred_column = \"quality_pred_0\"\n",
    "prob_column = \"quality_prob_0\"\n",
    "pred_columns.append(pred_column)\n",
    "prob_columns.append(prob_column)\n",
    "classifier_0 = QualityClassifier(\n",
    "    model_path=quality_model_path,\n",
    "    batch_size=1024,\n",
    "    pred_column=pred_column,\n",
    "    prob_column=prob_column,\n",
    ")\n",
    "dataset_0 = classifier_0(dataset=dataset)\n",
    "\n",
    "# Fold 1\n",
    "quality_model_path = quality_model_paths[1]\n",
    "pred_column = \"quality_pred_1\"\n",
    "prob_column = \"quality_prob_1\"\n",
    "pred_columns.append(pred_column)\n",
    "prob_columns.append(prob_column)\n",
    "classifier_1 = QualityClassifier(\n",
    "    model_path=quality_model_path,\n",
    "    batch_size=1024,\n",
    "    pred_column=pred_column,\n",
    "    prob_column=prob_column,\n",
    ")\n",
    "dataset_1 = classifier_1(dataset=dataset)"
   ]
  },
  {
   "cell_type": "code",
   "execution_count": 22,
   "metadata": {},
   "outputs": [
    {
     "name": "stderr",
     "output_type": "stream",
     "text": [
      "GPU: 0, Part: 0: 100%|██████████| 10/10 [00:03<00:00,  3.18it/s]\n",
      "GPU: 0, Part: 0: 100%|██████████| 10/10 [00:03<00:00,  3.23it/s]\n"
     ]
    },
    {
     "data": {
      "text/html": [
       "<div>\n",
       "<style scoped>\n",
       "    .dataframe tbody tr th:only-of-type {\n",
       "        vertical-align: middle;\n",
       "    }\n",
       "\n",
       "    .dataframe tbody tr th {\n",
       "        vertical-align: top;\n",
       "    }\n",
       "\n",
       "    .dataframe thead th {\n",
       "        text-align: right;\n",
       "    }\n",
       "</style>\n",
       "<table border=\"1\" class=\"dataframe\">\n",
       "  <thead>\n",
       "    <tr style=\"text-align: right;\">\n",
       "      <th></th>\n",
       "      <th>text</th>\n",
       "      <th>quality_prob_0</th>\n",
       "      <th>quality_pred_0</th>\n",
       "      <th>quality_prob_1</th>\n",
       "      <th>quality_pred_1</th>\n",
       "    </tr>\n",
       "  </thead>\n",
       "  <tbody>\n",
       "    <tr>\n",
       "      <th>0</th>\n",
       "      <td>Quantum computing is set to revolutionize the ...</td>\n",
       "      <td>[0.3728572130203247, 0.499016135931015, 0.1281...</td>\n",
       "      <td>Medium</td>\n",
       "      <td>[0.3728572130203247, 0.499016135931015, 0.1281...</td>\n",
       "      <td>Medium</td>\n",
       "    </tr>\n",
       "    <tr>\n",
       "      <th>1</th>\n",
       "      <td>Investing in index funds is a popular strategy...</td>\n",
       "      <td>[0.34133055806159973, 0.5345032215118408, 0.12...</td>\n",
       "      <td>Medium</td>\n",
       "      <td>[0.34133055806159973, 0.5345032215118408, 0.12...</td>\n",
       "      <td>Medium</td>\n",
       "    </tr>\n",
       "    <tr>\n",
       "      <th>2</th>\n",
       "      <td>Recent advancements in gene therapy offer new ...</td>\n",
       "      <td>[0.3898108899593353, 0.4821754992008209, 0.128...</td>\n",
       "      <td>Medium</td>\n",
       "      <td>[0.3898108899593353, 0.4821754992008209, 0.128...</td>\n",
       "      <td>Medium</td>\n",
       "    </tr>\n",
       "    <tr>\n",
       "      <th>3</th>\n",
       "      <td>Online learning platforms have transformed the...</td>\n",
       "      <td>[0.38701269030570984, 0.4876796007156372, 0.12...</td>\n",
       "      <td>Medium</td>\n",
       "      <td>[0.38701269030570984, 0.4876796007156372, 0.12...</td>\n",
       "      <td>Medium</td>\n",
       "    </tr>\n",
       "    <tr>\n",
       "      <th>4</th>\n",
       "      <td>Traveling to Europe during the off-season can ...</td>\n",
       "      <td>[0.32102224230766296, 0.5830105543136597, 0.09...</td>\n",
       "      <td>Medium</td>\n",
       "      <td>[0.32102224230766296, 0.5830105543136597, 0.09...</td>\n",
       "      <td>Medium</td>\n",
       "    </tr>\n",
       "    <tr>\n",
       "      <th>5</th>\n",
       "      <td>Training regimens for athletes have become mor...</td>\n",
       "      <td>[0.34178370237350464, 0.5548713207244873, 0.10...</td>\n",
       "      <td>Medium</td>\n",
       "      <td>[0.34178370237350464, 0.5548713207244873, 0.10...</td>\n",
       "      <td>Medium</td>\n",
       "    </tr>\n",
       "    <tr>\n",
       "      <th>6</th>\n",
       "      <td>Streaming services are changing the way people...</td>\n",
       "      <td>[0.35998600721359253, 0.525088906288147, 0.114...</td>\n",
       "      <td>Medium</td>\n",
       "      <td>[0.35998600721359253, 0.525088906288147, 0.114...</td>\n",
       "      <td>Medium</td>\n",
       "    </tr>\n",
       "    <tr>\n",
       "      <th>7</th>\n",
       "      <td>Vegan recipes have gained popularity as more p...</td>\n",
       "      <td>[0.3145926594734192, 0.5717698335647583, 0.113...</td>\n",
       "      <td>Medium</td>\n",
       "      <td>[0.3145926594734192, 0.5717698335647583, 0.113...</td>\n",
       "      <td>Medium</td>\n",
       "    </tr>\n",
       "    <tr>\n",
       "      <th>8</th>\n",
       "      <td>Climate change research is critical for develo...</td>\n",
       "      <td>[0.3767526149749756, 0.5015591979026794, 0.121...</td>\n",
       "      <td>Medium</td>\n",
       "      <td>[0.3767526149749756, 0.5015591979026794, 0.121...</td>\n",
       "      <td>Medium</td>\n",
       "    </tr>\n",
       "    <tr>\n",
       "      <th>9</th>\n",
       "      <td>Telemedicine has become increasingly popular d...</td>\n",
       "      <td>[0.34938278794288635, 0.5144903659820557, 0.13...</td>\n",
       "      <td>Medium</td>\n",
       "      <td>[0.34938278794288635, 0.5144903659820557, 0.13...</td>\n",
       "      <td>Medium</td>\n",
       "    </tr>\n",
       "  </tbody>\n",
       "</table>\n",
       "</div>"
      ],
      "text/plain": [
       "                                                text  \\\n",
       "0  Quantum computing is set to revolutionize the ...   \n",
       "1  Investing in index funds is a popular strategy...   \n",
       "2  Recent advancements in gene therapy offer new ...   \n",
       "3  Online learning platforms have transformed the...   \n",
       "4  Traveling to Europe during the off-season can ...   \n",
       "5  Training regimens for athletes have become mor...   \n",
       "6  Streaming services are changing the way people...   \n",
       "7  Vegan recipes have gained popularity as more p...   \n",
       "8  Climate change research is critical for develo...   \n",
       "9  Telemedicine has become increasingly popular d...   \n",
       "\n",
       "                                      quality_prob_0 quality_pred_0  \\\n",
       "0  [0.3728572130203247, 0.499016135931015, 0.1281...         Medium   \n",
       "1  [0.34133055806159973, 0.5345032215118408, 0.12...         Medium   \n",
       "2  [0.3898108899593353, 0.4821754992008209, 0.128...         Medium   \n",
       "3  [0.38701269030570984, 0.4876796007156372, 0.12...         Medium   \n",
       "4  [0.32102224230766296, 0.5830105543136597, 0.09...         Medium   \n",
       "5  [0.34178370237350464, 0.5548713207244873, 0.10...         Medium   \n",
       "6  [0.35998600721359253, 0.525088906288147, 0.114...         Medium   \n",
       "7  [0.3145926594734192, 0.5717698335647583, 0.113...         Medium   \n",
       "8  [0.3767526149749756, 0.5015591979026794, 0.121...         Medium   \n",
       "9  [0.34938278794288635, 0.5144903659820557, 0.13...         Medium   \n",
       "\n",
       "                                      quality_prob_1 quality_pred_1  \n",
       "0  [0.3728572130203247, 0.499016135931015, 0.1281...         Medium  \n",
       "1  [0.34133055806159973, 0.5345032215118408, 0.12...         Medium  \n",
       "2  [0.3898108899593353, 0.4821754992008209, 0.128...         Medium  \n",
       "3  [0.38701269030570984, 0.4876796007156372, 0.12...         Medium  \n",
       "4  [0.32102224230766296, 0.5830105543136597, 0.09...         Medium  \n",
       "5  [0.34178370237350464, 0.5548713207244873, 0.10...         Medium  \n",
       "6  [0.35998600721359253, 0.525088906288147, 0.114...         Medium  \n",
       "7  [0.3145926594734192, 0.5717698335647583, 0.113...         Medium  \n",
       "8  [0.3767526149749756, 0.5015591979026794, 0.121...         Medium  \n",
       "9  [0.34938278794288635, 0.5144903659820557, 0.13...         Medium  "
      ]
     },
     "execution_count": 22,
     "metadata": {},
     "output_type": "execute_result"
    }
   ],
   "source": [
    "# Only saving Classifier 0 results\n",
    "# Classifier 0: 0.3728572130203247\n",
    "# Classifier 1: 0.3029068112373352\n",
    "\n",
    "merged_df = dataset_0.df.merge(dataset_1.df, on=\"text\")\n",
    "merged_df.compute()"
   ]
  },
  {
   "cell_type": "code",
   "execution_count": 8,
   "metadata": {},
   "outputs": [],
   "source": [
    "# dataset.to_json(output_file_dir=output_file_path, write_to_filename=write_to_filename)"
   ]
  },
  {
   "cell_type": "markdown",
   "metadata": {},
   "source": [
    "# Inspect the Output"
   ]
  },
  {
   "cell_type": "code",
   "execution_count": 23,
   "metadata": {},
   "outputs": [],
   "source": [
    "# output_dataset = DocumentDataset.read_json(output_file_path, backend=\"cudf\", add_filename=write_to_filename)\n",
    "# output_dataset.df.head()"
   ]
  },
  {
   "cell_type": "code",
   "execution_count": null,
   "metadata": {},
   "outputs": [],
   "source": []
  }
 ],
 "metadata": {
  "kernelspec": {
   "display_name": "NeMo-Curator-env-2",
   "language": "python",
   "name": "python3"
  },
  "language_info": {
   "codemirror_mode": {
    "name": "ipython",
    "version": 3
   },
   "file_extension": ".py",
   "mimetype": "text/x-python",
   "name": "python",
   "nbconvert_exporter": "python",
   "pygments_lexer": "ipython3",
   "version": "3.10.14"
  }
 },
 "nbformat": 4,
 "nbformat_minor": 2
}
