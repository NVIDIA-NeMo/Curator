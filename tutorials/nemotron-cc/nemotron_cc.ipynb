{
 "cells": [
  {
   "cell_type": "markdown",
   "id": "9bd01afc",
   "metadata": {},
   "source": [
    "# Building Nemotron-CC data curation pipeline using Nemo Curator\n",
    "\n",
    "This tutorial demonstrates how to build Nemotron-CC data curation pipeline (https://arxiv.org/pdf/2412.02595) using NeMo Curator. The NeMo Curator is a Python library that consists of a collection of scalable data-mining modules for curating natural language processing (NLP) data for training large language models (LLMs). It consists of easy to use modules for data download, extraction, language identification, quality filtering, deduplication to build high-quality data curation pipelines at scale from massive uncurated web corpora.\n",
    "\n",
    "## Nemotron-cc curation pipeline components\n",
    "\n",
    "- Common Crawl data download and extraction\n",
    "- Language Identification and filtering\n",
    "- Exact and fuzzy deduplication\n",
    "- Heuristic filtering and Perplexity filtering\n",
    "- Model based quality labeling\n",
    "- Postprocessing"
   ]
  },
  {
   "cell_type": "markdown",
   "id": "b9c41cfd",
   "metadata": {},
   "source": [
    "## Flowchart"
   ]
  },
  {
   "cell_type": "markdown",
   "id": "3f5c4865",
   "metadata": {},
   "source": [
    "# <img src=\"images/nemotron_cc_diagram.png\" alt=\"Nemotron-CC Diagram\" width=\"800\"/>\n"
   ]
  },
  {
   "cell_type": "code",
   "execution_count": null,
   "id": "ebe32441",
   "metadata": {},
   "outputs": [],
   "source": [
    "# Display each individual phases in the flow chart\n",
    "# !pip install mermaid-python\n",
    "from mermaid import Mermaid\n",
    "\n",
    "with open(\"viz/flowchart.txt\", \"r\") as f:\n",
    "    mermaid_code = f.read()\n",
    "\n",
    "# Create and display the diagram\n",
    "Mermaid(mermaid_code)"
   ]
  },
  {
   "cell_type": "markdown",
   "id": "78537bd7",
   "metadata": {},
   "source": [
    "## Prerequisites\n",
    "\n",
    "### System Requirements\n",
    "Here is the hardware setting for this notebook\n",
    "\n",
    "**GPU**: NVIDIA A100 80GiB.\n",
    "\n",
    "**CUDA & Nvidia Drivers**: CUDA 12.2 with Driver 535.154.05\n",
    "\n",
    "**OS**: ubuntu 22.04\n",
    "\n",
    "### Getting NeMo Framework Training Container\n",
    "- Get access to the container via https://developer.nvidia.com/nemo-framework\n",
    "- Set your docker credentials \n",
    "    ```bash\n",
    "    docker login nvcr.io\n",
    "\n",
    "    Username: $oauthtoken\n",
    "    Password: <Your NGC Key>\n",
    "- Get NeMo NeMo Framework Training Container\n",
    "    ```bash\n",
    "    docker pull nvcr.io/nvidia/nemo:25.05.rc2\n"
   ]
  },
  {
   "cell_type": "markdown",
   "id": "062b5423",
   "metadata": {},
   "source": [
    "## 0. Env Setup"
   ]
  },
  {
   "cell_type": "code",
   "execution_count": null,
   "id": "60d6bc26",
   "metadata": {},
   "outputs": [],
   "source": [
    "# !pip install -r requirements.txt"
   ]
  },
  {
   "cell_type": "code",
   "execution_count": 1,
   "id": "97079227-d9c3-40d2-b939-64b221b86990",
   "metadata": {
    "tags": []
   },
   "outputs": [
    {
     "name": "stdout",
     "output_type": "stream",
     "text": [
      "env: CUDA_VISIBLE_DEVICES=1\n"
     ]
    }
   ],
   "source": [
    "%env CUDA_VISIBLE_DEVICES 1"
   ]
  },
  {
   "cell_type": "code",
   "execution_count": 1,
   "id": "9940c70d",
   "metadata": {
    "tags": []
   },
   "outputs": [
    {
     "name": "stderr",
     "output_type": "stream",
     "text": [
      "/usr/local/lib/python3.12/dist-packages/optuna/study/_optimize.py:21: TqdmWarning: IProgress not found. Please update jupyter and ipywidgets. See https://ipywidgets.readthedocs.io/en/stable/user_install.html\n",
      "  from optuna import progress_bar as pbar_module\n"
     ]
    }
   ],
   "source": [
    "import os\n",
    "\n",
    "from nemo_curator.utils.distributed_utils import get_client, get_num_workers\n",
    "from nemo_curator.utils.file_utils import get_all_files_paths_under, separate_by_metadata\n",
    "from nemo_curator.utils.distributed_utils import read_data, write_to_disk\n",
    "from nemo_curator.datasets import DocumentDataset\n",
    "from viz.helper import DataSizeTracker\n",
    "\n",
    "import pandas as pd\n",
    "import time\n",
    "import cudf\n",
    "import dask_cudf\n",
    "import dask\n",
    "import numpy as np\n",
    "from dask.distributed import Client, LocalCluster\n",
    "import jsonlines"
   ]
  },
  {
   "cell_type": "code",
   "execution_count": 2,
   "id": "fd8a381d",
   "metadata": {
    "tags": []
   },
   "outputs": [],
   "source": [
    "def pre_imports():\n",
    "    import cudf \n",
    "\n",
    "def check_jsonl_file(file_dir):\n",
    "    for file in os.listdir(file_dir):\n",
    "        if 'jsonl' not in file:\n",
    "            continue\n",
    "        with open(os.path.join(file_dir,file), 'r', encoding='utf-8') as f:\n",
    "            first_line = f.readline()\n",
    "            print(first_line)\n",
    "        break\n",
    "\n",
    "def extract_lines_with_id(file_path,target_list):\n",
    "    with jsonlines.open(file_path) as reader:\n",
    "        for obj in reader:\n",
    "            if obj.get('id') in target_list:\n",
    "                yield obj"
   ]
  },
  {
   "cell_type": "code",
   "execution_count": 3,
   "id": "589ff257",
   "metadata": {
    "tags": []
   },
   "outputs": [
    {
     "name": "stdout",
     "output_type": "stream",
     "text": [
      "/workspace/nemotron-cc\n"
     ]
    }
   ],
   "source": [
    "cur_dir = os.getcwd()\n",
    "print(cur_dir)\n",
    "data_dir = f\"{cur_dir}/data/\""
   ]
  },
  {
   "cell_type": "markdown",
   "id": "662d505f",
   "metadata": {},
   "source": [
    "## 1. Data extraction and preprocessing\n",
    "\n",
    "This code demonstrates downloading and processing Common Crawl snapshots. While we use two snapshots here, it can handle any number. The pipeline uses JustText for text extraction, and FasttextLid for language detection."
   ]
  },
  {
   "cell_type": "markdown",
   "id": "e4286341",
   "metadata": {},
   "source": [
    "### 1.1 Download and extraction"
   ]
  },
  {
   "cell_type": "code",
   "execution_count": 9,
   "id": "adb59379",
   "metadata": {
    "tags": []
   },
   "outputs": [],
   "source": [
    "from nemo_curator.download import download_common_crawl"
   ]
  },
  {
   "cell_type": "markdown",
   "id": "9b56f12a",
   "metadata": {},
   "source": [
    "Initialize a CPU-based Dask cluster below. Adjust the number of workers and memory per worker based on your system's capabilities."
   ]
  },
  {
   "cell_type": "code",
   "execution_count": null,
   "id": "5221f900",
   "metadata": {},
   "outputs": [],
   "source": [
    "client = get_client(cluster_type=\"cpu\", n_workers=10, processes=True, memory_limit='16GiB')\n",
    "client"
   ]
  },
  {
   "cell_type": "code",
   "execution_count": 4,
   "id": "9a03b463",
   "metadata": {
    "tags": []
   },
   "outputs": [],
   "source": [
    "#Output\n",
    "download_output_directory = os.path.join(data_dir,\"cc_crawl\", \"data\")\n",
    "\n",
    "#Relevant parameters\n",
    "start_snapshot = \"2024-46\"\n",
    "end_snapshot = \"2024-51\"\n",
    "language = 'EN'\n",
    "url_limit = 10 # Keep this low for testing purposes."
   ]
  },
  {
   "cell_type": "code",
   "execution_count": null,
   "id": "a45965a7",
   "metadata": {
    "tags": []
   },
   "outputs": [],
   "source": [
    "# Download and sample data\n",
    "common_crawl = download_common_crawl(\n",
    "    download_output_directory, \n",
    "    start_snapshot, \n",
    "    end_snapshot, \n",
    "    url_limit=url_limit,\n",
    "    output_type=\"jsonl\", # Default - \"jsonl\"\n",
    "    algorithm=JusTextExtractor(), # Default - JusTextExtractor\n",
    ").df().compute()"
   ]
  },
  {
   "cell_type": "markdown",
   "id": "22b7d5b3",
   "metadata": {},
   "source": [
    "**[Optional]** Verify result"
   ]
  },
  {
   "cell_type": "code",
   "execution_count": 5,
   "id": "45a69041",
   "metadata": {},
   "outputs": [
    {
     "name": "stdout",
     "output_type": "stream",
     "text": [
      "CC-MAIN-20241201162023-20241201192023-00000.warc.gz.jsonl\n",
      "CC-MAIN-20241201162023-20241201192023-00001.warc.gz.jsonl\n",
      "CC-MAIN-20241201162023-20241201192023-00002.warc.gz.jsonl\n",
      "CC-MAIN-20241201162023-20241201192023-00003.warc.gz.jsonl\n",
      "CC-MAIN-20241201162023-20241201192023-00004.warc.gz.jsonl\n",
      "CC-MAIN-20241201162023-20241201192023-00005.warc.gz.jsonl\n",
      "CC-MAIN-20241201162023-20241201192023-00006.warc.gz.jsonl\n",
      "CC-MAIN-20241201162023-20241201192023-00007.warc.gz.jsonl\n",
      "CC-MAIN-20241201162023-20241201192023-00008.warc.gz.jsonl\n",
      "CC-MAIN-20241201162023-20241201192023-00009.warc.gz.jsonl\n"
     ]
    }
   ],
   "source": [
    "# List all the file in the output directory.\n",
    "!ls {download_output_directory}"
   ]
  },
  {
   "cell_type": "code",
   "execution_count": 8,
   "id": "53bdccfd",
   "metadata": {},
   "outputs": [
    {
     "name": "stdout",
     "output_type": "stream",
     "text": [
      "{\"text\":\"Создаем узнаваемость\\n\\nпринимаем заказы по телефону200-19-00ежедневно с 09:00 до 18:00 (без выходных)или по почте zakaz@19.uz (круглосуточно)доставим чехлы бесплатно от 2-х до 4-х днейпо будням с 10:00 до 18:00 в пределах города\",\"language\":\"RUSSIAN\",\"url\":\"http:\\/\\/19.uz\\/product.php?cat=00&id=26\",\"warc_id\":\"327c8605-a7dc-4496-9a74-ac394d20bcbe\",\"source_id\":\"crawl-data-CC-MAIN-2024-51-segments-1733066035857.0-warc-CC-MAIN-20241201162023-20241201192023-00002.warc.gz\"}\n",
      "\n"
     ]
    }
   ],
   "source": [
    "check_jsonl_file(download_output_directory)"
   ]
  },
  {
   "cell_type": "code",
   "execution_count": null,
   "id": "024d7a31-20a3-4d2a-9b89-2f85638fa0da",
   "metadata": {
    "tags": []
   },
   "outputs": [],
   "source": [
    "# Remove the temporary downloads directory that was used during processing\n",
    "!rm -r {download_output_directory}/downloads"
   ]
  },
  {
   "cell_type": "markdown",
   "id": "c5f58643",
   "metadata": {},
   "source": [
    "**[Optional]** Close the Dask cluster.You might encounter error such as `Caught signal 11`.It's OK, just rerun the cell again."
   ]
  },
  {
   "cell_type": "code",
   "execution_count": 18,
   "id": "0669a830",
   "metadata": {},
   "outputs": [],
   "source": [
    "client.cluster.close()\n",
    "client.shutdown()"
   ]
  },
  {
   "cell_type": "markdown",
   "id": "651528e3",
   "metadata": {},
   "source": [
    "Now that we have the dataset, it would be great to see how each step of the pipeline impacts the size of the dataset. Don't worry, we have a small helper function that tracks this for you."
   ]
  },
  {
   "cell_type": "code",
   "execution_count": 5,
   "id": "f3038014",
   "metadata": {},
   "outputs": [
    {
     "name": "stdout",
     "output_type": "stream",
     "text": [
      "Reading 10 files with blocksize='1gb' / files_per_partition=None\n"
     ]
    },
    {
     "name": "stderr",
     "output_type": "stream",
     "text": [
      "/opt/NeMo-Curator/nemo_curator/utils/distributed_utils.py:412: UserWarning: If underlying JSONL data does not have a consistent schema, reading with blocksize will fail. Please use files_per_partition approach instead.\n",
      "  warnings.warn(\n",
      "/opt/NeMo-Curator/nemo_curator/utils/distributed_utils.py:418: UserWarning: Pandas backend with blocksize cannot read multiple JSONL files into a single partition. Please use files_per_partition if blocksize exceeds average file size.\n",
      "  warnings.warn(\n"
     ]
    },
    {
     "name": "stdout",
     "output_type": "stream",
     "text": [
      "Length of downloaded and extracted dataset: 157106\n"
     ]
    }
   ],
   "source": [
    "input_dataset = DocumentDataset.read_json(download_output_directory, backend='pandas')\n",
    "print(\"Length of downloaded and extracted dataset:\", len(input_dataset))\n",
    "tracker = DataSizeTracker(len(input_dataset))"
   ]
  },
  {
   "cell_type": "markdown",
   "id": "43334988",
   "metadata": {},
   "source": [
    "### 1.2 Language seperation and unicode fixing"
   ]
  },
  {
   "cell_type": "markdown",
   "id": "86ccdc1f",
   "metadata": {},
   "source": [
    "In this section, we will be using a language classification model by fasttext to separate the TH wikipedia dataset based on the document major languages, and we will also fix the unicode in the documents. Detailed steps are:\n",
    "\n",
    "1. Download fasttext model for text language detection\n",
    "2. Construct a filter which uses the downloaded fasttext model to produce a language label to each document. \n",
    "3. Separate each document by the language label. This will create sub-folders for each languages under the output path and the documents under the same language will be output to a .jsonl file in the corresponding sub-folder.\n",
    "4. Load .jsonl file in the folder of desirable language. In this example, `TH` folder will be loaded.\n",
    "5. Apply `UnicodeReformatter` to the data and output the result in .jsonl format. \n",
    "\n"
   ]
  },
  {
   "cell_type": "code",
   "execution_count": 19,
   "id": "1e9198e8",
   "metadata": {
    "tags": []
   },
   "outputs": [],
   "source": [
    "from nemo_curator import ScoreFilter, Modify\n",
    "from nemo_curator.filters import FastTextLangId\n",
    "from nemo_curator.modifiers import UnicodeReformatter"
   ]
  },
  {
   "cell_type": "markdown",
   "id": "76e46d2a",
   "metadata": {},
   "source": [
    "**[Optional]** Start a cpu based Dask cluster."
   ]
  },
  {
   "cell_type": "code",
   "execution_count": null,
   "id": "da3aed8a",
   "metadata": {
    "tags": []
   },
   "outputs": [],
   "source": [
    "# client = get_client(cluster_type=\"cpu\", n_workers=10, processes=True, memory_limit='16GiB')\n",
    "# client"
   ]
  },
  {
   "cell_type": "markdown",
   "id": "4a72479c",
   "metadata": {},
   "source": [
    "Define parameters"
   ]
  },
  {
   "cell_type": "code",
   "execution_count": 6,
   "id": "13b9d2b1",
   "metadata": {
    "tags": []
   },
   "outputs": [],
   "source": [
    "# Input path\n",
    "multilingual_data_path = download_output_directory\n",
    "\n",
    "# Output path\n",
    "language_base_output_path = os.path.join(data_dir,\"language_sep\")\n",
    "language_data_output_path = os.path.join(language_base_output_path,\"data\")\n",
    "language_separated_output_path = os.path.join(language_data_output_path,\"language\")\n",
    "lang_sep_cleaned_data_output_path = os.path.join(language_data_output_path,\"cleaned\")\n",
    "\n",
    "# Fasttext model path\n",
    "model_path = language_base_output_path\n",
    "\n",
    "# Define desired language\n",
    "target_language = \"EN\"\n",
    "\n",
    "# Define key in output .jsonl files to store the language information\n",
    "language_field = \"language\""
   ]
  },
  {
   "cell_type": "markdown",
   "id": "8df0322a",
   "metadata": {},
   "source": [
    "Download fasttext model"
   ]
  },
  {
   "cell_type": "code",
   "execution_count": null,
   "id": "2666727d",
   "metadata": {
    "tags": []
   },
   "outputs": [],
   "source": [
    "!wget https://dl.fbaipublicfiles.com/fasttext/supervised-models/lid.176.bin -P {model_path}"
   ]
  },
  {
   "cell_type": "markdown",
   "id": "58452516",
   "metadata": {},
   "source": [
    "Apply fasttext model to separate documents by their languages"
   ]
  },
  {
   "cell_type": "code",
   "execution_count": null,
   "id": "2f689289",
   "metadata": {},
   "outputs": [],
   "source": [
    "t0 = time.time()\n",
    "\n",
    "# Load dataset \n",
    "multilingual_dataset = DocumentDataset.read_json(multilingual_data_path, blocksize=\"64MiB\", add_filename=True)\n",
    "\n",
    "#Define Language separation pipeline\n",
    "lang_filter = FastTextLangId(os.path.join(model_path,'lid.176.bin'))\n",
    "language_id_pipeline = ScoreFilter(lang_filter, score_field=language_field, score_type='object')\n",
    "filtered_dataset = language_id_pipeline(multilingual_dataset)\n",
    "\n",
    "# The language separation pipeline will produce a result looks like ['EN',0.96873], we only want to keep the 'EN' label and drop the detailed classifier score\n",
    "filtered_dataset.df[language_field] = filtered_dataset.df[language_field].apply(lambda score: score[1],meta = (language_field, 'object'))\n",
    "\n",
    "# Split the dataset to corresponding language sub-folders\n",
    "language_stats = separate_by_metadata(filtered_dataset.df, language_separated_output_path, metadata_field=language_field).compute()\n",
    "\n",
    "print(f\"Time taken for splitting language:{time.time()-t0}\")"
   ]
  },
  {
   "cell_type": "markdown",
   "id": "d443a5d1",
   "metadata": {},
   "source": [
    "Load `UnicodeReformatter` to reformat any unicode appeared in the desired language dataset"
   ]
  },
  {
   "cell_type": "code",
   "execution_count": null,
   "id": "272a5f67",
   "metadata": {
    "tags": []
   },
   "outputs": [],
   "source": [
    "t0 = time.time()\n",
    "\n",
    "# Read the language specific data and fix the unicode in it\n",
    "lang_data_path = os.path.join(language_separated_output_path, target_language)\n",
    "lang_data = DocumentDataset.read_json(lang_data_path, blocksize=\"64MiB\", add_filename=True)\n",
    "\n",
    "cleaner = Modify(UnicodeReformatter())\n",
    "cleaned_data = cleaner(lang_data)\n",
    "\n",
    "# Write the cleaned_data\n",
    "cleaned_data.to_json(lang_sep_cleaned_data_output_path, write_to_filename=True)\n",
    "\n",
    "print(f\"Time taken for fixing unicode:{time.time()-t0}\")"
   ]
  },
  {
   "cell_type": "markdown",
   "id": "9bd57a53",
   "metadata": {},
   "source": [
    "**[Optional]** Verify the result. We can see that some documents has been removed from TH wikipedia dataset since the number of lines in this output file is less than the original file "
   ]
  },
  {
   "cell_type": "code",
   "execution_count": 7,
   "id": "e3329c83",
   "metadata": {
    "tags": []
   },
   "outputs": [
    {
     "name": "stdout",
     "output_type": "stream",
     "text": [
      "CC-MAIN-20241201162023-20241201192023-00000.warc.gz.jsonl\n",
      "CC-MAIN-20241201162023-20241201192023-00001.warc.gz.jsonl\n",
      "CC-MAIN-20241201162023-20241201192023-00002.warc.gz.jsonl\n",
      "CC-MAIN-20241201162023-20241201192023-00003.warc.gz.jsonl\n",
      "CC-MAIN-20241201162023-20241201192023-00004.warc.gz.jsonl\n",
      "CC-MAIN-20241201162023-20241201192023-00005.warc.gz.jsonl\n",
      "CC-MAIN-20241201162023-20241201192023-00006.warc.gz.jsonl\n",
      "CC-MAIN-20241201162023-20241201192023-00007.warc.gz.jsonl\n",
      "CC-MAIN-20241201162023-20241201192023-00008.warc.gz.jsonl\n",
      "CC-MAIN-20241201162023-20241201192023-00009.warc.gz.jsonl\n"
     ]
    }
   ],
   "source": [
    "# List all the file in the output directory.\n",
    "! ls {lang_sep_cleaned_data_output_path}"
   ]
  },
  {
   "cell_type": "code",
   "execution_count": 15,
   "id": "050d944c",
   "metadata": {
    "tags": []
   },
   "outputs": [
    {
     "name": "stdout",
     "output_type": "stream",
     "text": [
      "{\"language\":\"EN\",\"source_id\":\"crawl-data-CC-MAIN-2024-51-segments-1733066035857.0-warc-CC-MAIN-20241201162023-20241201192023-00002.warc.gz\",\"text\":\"Cook pasta according to package instructions. Saute ham in oil to brown it a bit and then remove from pan and set aside. Cook onion 4 minutes then add mushrooms and continue cooking another 4 minutes. Mix in flour, rosemary and pepper then gradually add milk and bring to a boil and cook 2 minutes to thicken it up. Then reduce heat and add peas and sour cream and cook 2 minutes. Mix with the drained pasta and ham and heat through.\\n\\nJoin us on Facebook and Get Notified When New Recipes Are Posted\\n\\nAbout 400 Calories or Less\\n\\nWhat's a foodie to do when she passes the 40 mark and her metabolism comes to a screeching halt? (hint...denial did not work !) So I've put together a collection of everyday meals that are simple to make, under 400 calories, yet so savory and delicious that you won't miss your old favorites and standbys. I've tested and tweaked, tested and tweaked and the recipes yield satisfying and scrumptious home cooked foods, because regular 'diet food' just wasn't going to cut it in this house !\\n\\nIf you are cooking for a family, stick to the 400 calories for yourself, but just give larger portion sizes to other family members. I double up dinner for my husband and it is more than enough. That way you are not spending too much time cooking multiple dishes. The family will love these meals !\",\"url\":\"http:\\/\\/400caloriesorless.com\\/?tag=fettucine-with-ham\",\"warc_id\":\"2ab59739-29c3-4314-b57a-93e3c1e00e33\"}\n",
      "\n"
     ]
    }
   ],
   "source": [
    "check_jsonl_file(os.path.join(language_separated_output_path,'EN'))"
   ]
  },
  {
   "cell_type": "code",
   "execution_count": 7,
   "id": "13c179df",
   "metadata": {},
   "outputs": [
    {
     "name": "stdout",
     "output_type": "stream",
     "text": [
      "Reading 10 files with blocksize='1gb' / files_per_partition=None\n"
     ]
    },
    {
     "name": "stderr",
     "output_type": "stream",
     "text": [
      "/opt/NeMo-Curator/nemo_curator/utils/distributed_utils.py:412: UserWarning: If underlying JSONL data does not have a consistent schema, reading with blocksize will fail. Please use files_per_partition approach instead.\n",
      "  warnings.warn(\n",
      "/opt/NeMo-Curator/nemo_curator/utils/distributed_utils.py:418: UserWarning: Pandas backend with blocksize cannot read multiple JSONL files into a single partition. Please use files_per_partition if blocksize exceeds average file size.\n",
      "  warnings.warn(\n"
     ]
    },
    {
     "name": "stdout",
     "output_type": "stream",
     "text": [
      "Data Processing Summary:\n",
      "Original Size: 157106\n",
      "Final Size: 74194\n",
      "Total Filtered: 82912 (52.77% of original)\n",
      "\n",
      "Stage-wise Filtering:\n",
      "  Stage: Language Identification, Result Size: 74194, Filtered Out: 82912 (52.77% of original)\n"
     ]
    }
   ],
   "source": [
    "lang_id_dataset = DocumentDataset.read_json(os.path.join(language_separated_output_path,'EN'), backend='pandas')\n",
    "tracker.record_size(\"Language Identification\", len(lang_id_dataset))\n",
    "tracker.print_summary()"
   ]
  },
  {
   "cell_type": "markdown",
   "id": "7d17f010",
   "metadata": {},
   "source": [
    "**[Optional]** Close the Dask cluster."
   ]
  },
  {
   "cell_type": "code",
   "execution_count": null,
   "id": "7e64cc35",
   "metadata": {
    "tags": []
   },
   "outputs": [],
   "source": [
    "# client.cluster.close()\n",
    "# client.shutdown()"
   ]
  },
  {
   "cell_type": "markdown",
   "id": "1baf027e",
   "metadata": {},
   "source": [
    "## 2. Data deduplication and Quality filtering\n",
    "This section covers deduplication of data using both exact and fuzzy matching approaches.\n",
    "\n",
    "Exact deduplication works by generating a unique hash (like MD5) for each document's text. Documents that produce identical hashes contain identical content. We identify these duplicates using the `ExactDuplicates()` function, which accepts these parameters:\n",
    "- `id_field`: Field containing the document identifier\n",
    "- `text_field`: Field containing the document text content\n",
    "- `hash_method`: Algorithm for generating hashes (defaults to MD5)\n",
    "- `cache_dir`: Optional directory to save IDs of duplicate documents\n",
    "\n",
    "To speed up the deduplication process (both exact and fuzzy), we'll utilize GPU acceleration via a Dask cluster\n"
   ]
  },
  {
   "cell_type": "markdown",
   "id": "1d46cece",
   "metadata": {},
   "source": [
    "To enable effective deduplication, we need to first ensure unique document identification. Standard fields like `source_id` in Common Crawl data may not provide sufficient uniqueness. We'll solve this by creating unique IDs with a `<prefix>_<id>` format using the NeMo Curator `AddID()` function. This approach helps track document origins across multiple datasets during deduplication. Key parameters for `AddID()` include:\n",
    "- `id_field`: Name of the new ID field to add/replace in the JSON\n",
    "- `id_prefix`: Text prefix for generated IDs (like 'doc_id') \n",
    "- `start_index`: Starting number for sequential IDs. Using 0 helps with tracking, while `None` enables faster unordered IDs"
   ]
  },
  {
   "cell_type": "markdown",
   "id": "acda2ead",
   "metadata": {},
   "source": [
    "### 2.1 Preparation"
   ]
  },
  {
   "cell_type": "code",
   "execution_count": 23,
   "id": "5f788b91",
   "metadata": {
    "tags": []
   },
   "outputs": [],
   "source": [
    "from nemo_curator import AddId"
   ]
  },
  {
   "cell_type": "markdown",
   "id": "cd17be33",
   "metadata": {},
   "source": [
    "**[Optional]** If there is no running Dask cluster, start CPU based Dask cluster."
   ]
  },
  {
   "cell_type": "code",
   "execution_count": null,
   "id": "5ba1d54a",
   "metadata": {
    "tags": []
   },
   "outputs": [],
   "source": [
    "# cluster = LocalCluster(n_workers=10, processes=True, memory_limit='16GB')\n",
    "# client = Client(cluster)"
   ]
  },
  {
   "cell_type": "code",
   "execution_count": 8,
   "id": "843eba7f",
   "metadata": {
    "tags": []
   },
   "outputs": [],
   "source": [
    "#Input\n",
    "add_id_input_data_dir = lang_sep_cleaned_data_output_path\n",
    "\n",
    "#Output\n",
    "added_id_output_path = os.path.join(data_dir,\"add_id/cleaned\")\n",
    "\n",
    "#Format of output ID will be <prefix>_<id>, Define prefix here\n",
    "add_ID_id_prefix=\"EN_CC\""
   ]
  },
  {
   "cell_type": "code",
   "execution_count": null,
   "id": "b7a91bf1",
   "metadata": {
    "tags": []
   },
   "outputs": [],
   "source": [
    "t0 = time.time()\n",
    "# Read input files\n",
    "dataset = DocumentDataset.read_json(add_id_input_data_dir,add_filename=True)\n",
    "\n",
    "# Run AddID() on the input dataset\n",
    "add_id = AddId(id_field='id',id_prefix=add_ID_id_prefix,start_index=0)\n",
    "id_dataset = add_id(dataset)\n",
    "\n",
    "#Output files\n",
    "id_dataset.to_json(added_id_output_path, write_to_filename=True)\n",
    "\n",
    "print(f\"Time taken for add ID:{time.time()-t0}\")"
   ]
  },
  {
   "cell_type": "code",
   "execution_count": 25,
   "id": "e585cedd",
   "metadata": {
    "tags": []
   },
   "outputs": [
    {
     "name": "stdout",
     "output_type": "stream",
     "text": [
      "{\"language\":\"EN\",\"source_id\":\"crawl-data-CC-MAIN-2024-51-segments-1733066035857.0-warc-CC-MAIN-20241201162023-20241201192023-00002.warc.gz\",\"text\":\"Cook pasta according to package instructions. Saute ham in oil to brown it a bit and then remove from pan and set aside. Cook onion 4 minutes then add mushrooms and continue cooking another 4 minutes. Mix in flour, rosemary and pepper then gradually add milk and bring to a boil and cook 2 minutes to thicken it up. Then reduce heat and add peas and sour cream and cook 2 minutes. Mix with the drained pasta and ham and heat through.\\n\\nJoin us on Facebook and Get Notified When New Recipes Are Posted\\n\\nAbout 400 Calories or Less\\n\\nWhat's a foodie to do when she passes the 40 mark and her metabolism comes to a screeching halt? (hint...denial did not work !) So I've put together a collection of everyday meals that are simple to make, under 400 calories, yet so savory and delicious that you won't miss your old favorites and standbys. I've tested and tweaked, tested and tweaked and the recipes yield satisfying and scrumptious home cooked foods, because regular 'diet food' just wasn't going to cut it in this house !\\n\\nIf you are cooking for a family, stick to the 400 calories for yourself, but just give larger portion sizes to other family members. I double up dinner for my husband and it is more than enough. That way you are not spending too much time cooking multiple dishes. The family will love these meals !\",\"url\":\"http:\\/\\/400caloriesorless.com\\/?tag=fettucine-with-ham\",\"warc_id\":\"2ab59739-29c3-4314-b57a-93e3c1e00e33\",\"id\":\"EN_CC-0000014867\"}\n",
      "\n"
     ]
    }
   ],
   "source": [
    "check_jsonl_file(added_id_output_path)"
   ]
  },
  {
   "cell_type": "markdown",
   "id": "0cbddf6e",
   "metadata": {},
   "source": [
    "Close Dask cluster. This cell needs to be run as we are starting a new GPU Dask cluster in the following task"
   ]
  },
  {
   "cell_type": "code",
   "execution_count": null,
   "id": "4daa1f2a",
   "metadata": {
    "tags": []
   },
   "outputs": [],
   "source": [
    "# client.cluster.close()\n",
    "# client.shutdown()"
   ]
  },
  {
   "cell_type": "markdown",
   "id": "1882204a",
   "metadata": {},
   "source": [
    "### 2.2 Exact deduplication"
   ]
  },
  {
   "cell_type": "markdown",
   "id": "c527b95c",
   "metadata": {},
   "source": [
    "Next, we will perform exact deduplication to remove duplicate documents."
   ]
  },
  {
   "cell_type": "code",
   "execution_count": 26,
   "id": "3f7ba34c",
   "metadata": {
    "tags": []
   },
   "outputs": [],
   "source": [
    "from nemo_curator.modules import ExactDuplicates"
   ]
  },
  {
   "cell_type": "markdown",
   "id": "e268cfca",
   "metadata": {},
   "source": [
    "Start a GPU based Dask cluster. Since GPU based Dask cluster involves setting several arguments, we will use the `get_client()` wrapper function to quickly set up. "
   ]
  },
  {
   "cell_type": "code",
   "execution_count": null,
   "id": "4b73e5f9",
   "metadata": {
    "tags": []
   },
   "outputs": [],
   "source": [
    "client = get_client(cluster_type = 'gpu', set_torch_to_use_rmm=False)\n",
    "print(f\"Number of dask worker:{get_num_workers(client)}\")\n",
    "client.run(pre_imports)\n",
    "client"
   ]
  },
  {
   "cell_type": "markdown",
   "id": "0fc99440",
   "metadata": {},
   "source": [
    "If you encounter the following error\n",
    "`get_client() missing 1 required positional argument: 'args'`:\n",
    "\n",
    "This is probably because the `nemo_curator` library is not updated to the newer version. Please run the following line in the terminal, following instruction in our [GitHub](https://github.com/nicoleeeluo/NeMo-Curator/tree/main) repo, and restart the notebook. Intermediate result of the previous section has been saved to local, you can start from this section after updating."
   ]
  },
  {
   "cell_type": "code",
   "execution_count": null,
   "id": "a590c78a",
   "metadata": {
    "tags": []
   },
   "outputs": [],
   "source": [
    "#pip install --extra-index-url https://pypi.nvidia.com \".[cuda12x]\""
   ]
  },
  {
   "cell_type": "markdown",
   "id": "0151abe0",
   "metadata": {},
   "source": [
    "Define parameters"
   ]
  },
  {
   "cell_type": "code",
   "execution_count": 9,
   "id": "54b627a4",
   "metadata": {
    "tags": []
   },
   "outputs": [],
   "source": [
    "#Input\n",
    "exact_dedup_input_dataset_dir = added_id_output_path\n",
    "\n",
    "#Output\n",
    "exact_dedup_base_output_path = os.path.join(data_dir,\"exact_dedup\")\n",
    "exact_dedup_log_dir = os.path.join(exact_dedup_base_output_path,'log')\n",
    "exact_dedup_output_dir = os.path.join(exact_dedup_base_output_path,'data')\n",
    "\n",
    "#Parameters for ExactDuplicates()\n",
    "exact_dedup_dataset_id_field = \"id\"\n",
    "exact_dedup_dataset_text_field = \"text\"\n"
   ]
  },
  {
   "cell_type": "code",
   "execution_count": null,
   "id": "6ede2e41",
   "metadata": {
    "tags": []
   },
   "outputs": [],
   "source": [
    "!mkdir -p {exact_dedup_log_dir}\n",
    "!mkdir -p {exact_dedup_output_dir}"
   ]
  },
  {
   "cell_type": "code",
   "execution_count": null,
   "id": "dfaaa765",
   "metadata": {
    "tags": []
   },
   "outputs": [],
   "source": [
    "t0 = time.time()\n",
    "# Read input dataset\n",
    "input_dataset = DocumentDataset.read_json(exact_dedup_input_dataset_dir, backend='cudf')\n",
    "\n",
    "#Run exact deduplication to the input\n",
    "exact_dup = ExactDuplicates(\n",
    "    logger=exact_dedup_log_dir,\n",
    "    id_field=exact_dedup_dataset_id_field,\n",
    "    text_field=exact_dedup_dataset_text_field,\n",
    "    hash_method=\"md5\",\n",
    "    cache_dir=exact_dedup_output_dir #Duplicated document ID list is output to the cache_dir\n",
    ")\n",
    "duplicates = exact_dup(dataset=input_dataset)\n",
    "\n",
    "print(f\"Number of exact duplicated file:{len(duplicates)}\")\n",
    "\n",
    "print(f\"Time taken for exact duplicate:{time.time()-t0}\")"
   ]
  },
  {
   "cell_type": "markdown",
   "id": "e68f0399",
   "metadata": {},
   "source": [
    "**[Optional]** Verify the output duplicated ID. We can group by the `_hashes` to get the list of duplicated documents having the same _hashes and use `extract_lines_with_id()` to verify that those documents are indeed exact duplicates. Please note that the `id` might changes, therefore, please replace the `target_list` when necessary"
   ]
  },
  {
   "cell_type": "code",
   "execution_count": 12,
   "id": "28d8bb0b",
   "metadata": {
    "tags": []
   },
   "outputs": [
    {
     "name": "stdout",
     "output_type": "stream",
     "text": [
      "Number of exact duplicated document:8937\n"
     ]
    },
    {
     "data": {
      "text/html": [
       "<div>\n",
       "<style scoped>\n",
       "    .dataframe tbody tr th:only-of-type {\n",
       "        vertical-align: middle;\n",
       "    }\n",
       "\n",
       "    .dataframe tbody tr th {\n",
       "        vertical-align: top;\n",
       "    }\n",
       "\n",
       "    .dataframe thead th {\n",
       "        text-align: right;\n",
       "    }\n",
       "</style>\n",
       "<table border=\"1\" class=\"dataframe\">\n",
       "  <thead>\n",
       "    <tr style=\"text-align: right;\">\n",
       "      <th></th>\n",
       "      <th>id</th>\n",
       "      <th>_hashes</th>\n",
       "    </tr>\n",
       "  </thead>\n",
       "  <tbody>\n",
       "    <tr>\n",
       "      <th>0</th>\n",
       "      <td>EN_CC-0000046819</td>\n",
       "      <td>77379811cec5b6e3fe4177bc8952d5a6</td>\n",
       "    </tr>\n",
       "    <tr>\n",
       "      <th>1</th>\n",
       "      <td>EN_CC-0000046826</td>\n",
       "      <td>6ed376a4efeaf953a74767081ef7a92d</td>\n",
       "    </tr>\n",
       "    <tr>\n",
       "      <th>2</th>\n",
       "      <td>EN_CC-0000022152</td>\n",
       "      <td>ec19ecd0d832ffc850abae4e6083f549</td>\n",
       "    </tr>\n",
       "    <tr>\n",
       "      <th>3</th>\n",
       "      <td>EN_CC-0000046828</td>\n",
       "      <td>52436a6bce2e093cb74a81f6402a2da7</td>\n",
       "    </tr>\n",
       "    <tr>\n",
       "      <th>4</th>\n",
       "      <td>EN_CC-0000046829</td>\n",
       "      <td>52436a6bce2e093cb74a81f6402a2da7</td>\n",
       "    </tr>\n",
       "  </tbody>\n",
       "</table>\n",
       "</div>"
      ],
      "text/plain": [
       "                 id                           _hashes\n",
       "0  EN_CC-0000046819  77379811cec5b6e3fe4177bc8952d5a6\n",
       "1  EN_CC-0000046826  6ed376a4efeaf953a74767081ef7a92d\n",
       "2  EN_CC-0000022152  ec19ecd0d832ffc850abae4e6083f549\n",
       "3  EN_CC-0000046828  52436a6bce2e093cb74a81f6402a2da7\n",
       "4  EN_CC-0000046829  52436a6bce2e093cb74a81f6402a2da7"
      ]
     },
     "execution_count": 12,
     "metadata": {},
     "output_type": "execute_result"
    }
   ],
   "source": [
    "exact_dedup_res = pd.read_parquet(os.path.join(exact_dedup_output_dir,\"_exact_duplicates.parquet\"))\n",
    "print(f\"Number of exact duplicated document:{len(exact_dedup_res)}\")\n",
    "exact_dedup_res.head()"
   ]
  },
  {
   "cell_type": "code",
   "execution_count": 13,
   "id": "fca41870",
   "metadata": {
    "tags": []
   },
   "outputs": [
    {
     "data": {
      "text/html": [
       "<div>\n",
       "<style scoped>\n",
       "    .dataframe tbody tr th:only-of-type {\n",
       "        vertical-align: middle;\n",
       "    }\n",
       "\n",
       "    .dataframe tbody tr th {\n",
       "        vertical-align: top;\n",
       "    }\n",
       "\n",
       "    .dataframe thead th {\n",
       "        text-align: right;\n",
       "    }\n",
       "</style>\n",
       "<table border=\"1\" class=\"dataframe\">\n",
       "  <thead>\n",
       "    <tr style=\"text-align: right;\">\n",
       "      <th></th>\n",
       "      <th>_hashes</th>\n",
       "      <th>id</th>\n",
       "    </tr>\n",
       "  </thead>\n",
       "  <tbody>\n",
       "    <tr>\n",
       "      <th>0</th>\n",
       "      <td>0016fa4543e1d6913cf7ebebe9b2d2f9</td>\n",
       "      <td>[EN_CC-0000044369, EN_CC-0000014715]</td>\n",
       "    </tr>\n",
       "    <tr>\n",
       "      <th>1</th>\n",
       "      <td>00246b1ca1ac91e27c0e9d5806f6fbf2</td>\n",
       "      <td>[EN_CC-0000022205, EN_CC-0000036878]</td>\n",
       "    </tr>\n",
       "    <tr>\n",
       "      <th>2</th>\n",
       "      <td>00362d462942216e6aa8fcc583c2ca81</td>\n",
       "      <td>[EN_CC-0000051215, EN_CC-0000066095]</td>\n",
       "    </tr>\n",
       "    <tr>\n",
       "      <th>3</th>\n",
       "      <td>0090d246b4f44804647d2601964a2932</td>\n",
       "      <td>[EN_CC-0000029524, EN_CC-0000014830, EN_CC-000...</td>\n",
       "    </tr>\n",
       "    <tr>\n",
       "      <th>4</th>\n",
       "      <td>009b7a3794bce22726148ac37b74b92b</td>\n",
       "      <td>[EN_CC-0000066627, EN_CC-0000059195, EN_CC-000...</td>\n",
       "    </tr>\n",
       "  </tbody>\n",
       "</table>\n",
       "</div>"
      ],
      "text/plain": [
       "                            _hashes  \\\n",
       "0  0016fa4543e1d6913cf7ebebe9b2d2f9   \n",
       "1  00246b1ca1ac91e27c0e9d5806f6fbf2   \n",
       "2  00362d462942216e6aa8fcc583c2ca81   \n",
       "3  0090d246b4f44804647d2601964a2932   \n",
       "4  009b7a3794bce22726148ac37b74b92b   \n",
       "\n",
       "                                                  id  \n",
       "0               [EN_CC-0000044369, EN_CC-0000014715]  \n",
       "1               [EN_CC-0000022205, EN_CC-0000036878]  \n",
       "2               [EN_CC-0000051215, EN_CC-0000066095]  \n",
       "3  [EN_CC-0000029524, EN_CC-0000014830, EN_CC-000...  \n",
       "4  [EN_CC-0000066627, EN_CC-0000059195, EN_CC-000...  "
      ]
     },
     "execution_count": 13,
     "metadata": {},
     "output_type": "execute_result"
    }
   ],
   "source": [
    "duplicated_list = exact_dedup_res.groupby('_hashes')['id'].agg(list).reset_index().head()\n",
    "duplicated_list"
   ]
  },
  {
   "cell_type": "markdown",
   "id": "4013203c",
   "metadata": {},
   "source": [
    "**[Optional]** You might choose to close Dask cluster here"
   ]
  },
  {
   "cell_type": "code",
   "execution_count": null,
   "id": "5ef2f05e",
   "metadata": {
    "tags": []
   },
   "outputs": [],
   "source": [
    "# client.cluster.close()\n",
    "# client.shutdown()"
   ]
  },
  {
   "cell_type": "markdown",
   "id": "60c2f13c",
   "metadata": {},
   "source": [
    "### 2.3 Fuzzy deduplication"
   ]
  },
  {
   "cell_type": "markdown",
   "id": "7a2feadc",
   "metadata": {},
   "source": [
    "Now, lets perform Fuzzy Deduplication.\n",
    "\n",
    "Fuzzy deduplication involves 3 to 5 intermediate steps to generate duplicates. Refer to https://docs.nvidia.com/nemo-framework/user-guide/latest/datacuration/gpudeduplication.html for details.\n",
    "\n",
    "Fuzzy deduplication in this example is a GPU implementation of MinhashLSH algorithm. This algorithm measures similarity based on statistics but not semantic meanings of text. There are a few concepts to be introduced before heading into fuzzy deduplication.\n",
    "\n",
    "This algorithm has following steps in a high-level:\n",
    "1. Compute minhash for each document.\n",
    "2. Run Locality Sensitive Hashing (LSH) based on the minhash which further assign buckets to each document. Each document will be assigned to multiple buckets. Documents within the same bucket are deemed to be similar.\n",
    "3. **[Optional]**: Run pair-wise Jaccard similarity within documents in each bucket to remove false positive cases within the buckets.\n",
    "4. Based on the Buckets and jaccard values between documents (if computed), transform documents across buckets (deemed similar) into a graph and run the connected components algorithm. For a group of connected components in the graph, they are the final similar document groups and the IDs within each groups will be output for duplicate removal.\n",
    "More detailed explanation please refer to https://docs.nvidia.com/nemo-framework/user-guide/latest/datacuration/gpudeduplication.html#fuzzy-deduplication.\n",
    "\n",
    "In this section, we will use the fuzzy deduplication wrapper offered by NeMo curator instead of running each step individually."
   ]
  },
  {
   "cell_type": "markdown",
   "id": "ffca14ad",
   "metadata": {},
   "source": [
    "**If there is not running Dask cluster, start a GPU Dask cluster here**"
   ]
  },
  {
   "cell_type": "code",
   "execution_count": null,
   "id": "e00ba2fd",
   "metadata": {},
   "outputs": [],
   "source": [
    "# client = get_client(cluster_type = 'gpu', set_torch_to_use_rmm=False)\n",
    "# print(f\"Number of dask worker:{get_num_workers(client)}\")\n",
    "# client.run(pre_imports)"
   ]
  },
  {
   "cell_type": "code",
   "execution_count": 27,
   "id": "eb52ec06",
   "metadata": {
    "tags": []
   },
   "outputs": [],
   "source": [
    "from nemo_curator import FuzzyDuplicates, FuzzyDuplicatesConfig"
   ]
  },
  {
   "cell_type": "code",
   "execution_count": 10,
   "id": "625c1828",
   "metadata": {
    "tags": []
   },
   "outputs": [],
   "source": [
    "#Input\n",
    "fuzzy_dedup_data_path = added_id_output_path\n",
    "#Output\n",
    "fuzzy_dedup_base_output_path = os.path.join(data_dir,\"fuzzy_wrapper\")\n",
    "fuzzy_dedup_log_dir = os.path.join(fuzzy_dedup_base_output_path,'log')\n",
    "fuzzy_dedup_no_false_positive_cache_dir = os.path.join(fuzzy_dedup_base_output_path,'cache_nofp')\n",
    "fuzzy_dedup_false_positive_cache_dir = os.path.join(fuzzy_dedup_base_output_path,'cache_fp')\n",
    "fuzzy_dedup_output_dir = os.path.join(fuzzy_dedup_base_output_path,'data')\n",
    "#Specify dataset name\n",
    "dataset_name = 'EN_CC'\n",
    "\n",
    "#Relevant parameters\n",
    "id_field = 'id'\n",
    "text_field = 'text'\n",
    "filetype = \"parquet\"\n",
    "\n",
    "!mkdir -p {fuzzy_dedup_base_output_path}\n",
    "!mkdir -p {fuzzy_dedup_log_dir}\n",
    "!mkdir -p {fuzzy_dedup_no_false_positive_cache_dir}\n",
    "!mkdir -p {fuzzy_dedup_false_positive_cache_dir}\n",
    "!mkdir -p {fuzzy_dedup_output_dir}"
   ]
  },
  {
   "cell_type": "markdown",
   "id": "cb76d8e5",
   "metadata": {},
   "source": [
    "**[Optional]** If the cache folder is not empty, please CLEAR the folder before proceeding"
   ]
  },
  {
   "cell_type": "code",
   "execution_count": null,
   "id": "e7fb4c4c",
   "metadata": {
    "tags": []
   },
   "outputs": [],
   "source": [
    "# !rm -r {fuzzy_dedup_no_false_positive_cache_dir}"
   ]
  },
  {
   "cell_type": "code",
   "execution_count": null,
   "id": "2368443f",
   "metadata": {
    "tags": []
   },
   "outputs": [],
   "source": [
    "t0 = time.time()\n",
    "\n",
    "input_dataset = DocumentDataset.read_json(fuzzy_dedup_data_path, backend='cudf')\n",
    "\n",
    "fuzzy_dedup_config = FuzzyDuplicatesConfig(\n",
    "    cache_dir=fuzzy_dedup_no_false_positive_cache_dir,\n",
    "    id_field=id_field,\n",
    "    text_field=text_field,\n",
    "    seed=10,\n",
    "    char_ngrams=24,\n",
    "    num_buckets=20,\n",
    "    hashes_per_bucket=13,\n",
    "    use_64_bit_hash=False,\n",
    "    buckets_per_shuffle=5,\n",
    "    false_positive_check=False,\n",
    ")\n",
    "\n",
    "fuzzy_dup = FuzzyDuplicates(logger=fuzzy_dedup_log_dir, config=fuzzy_dedup_config)\n",
    "duplicates = fuzzy_dup(dataset=input_dataset)\n",
    "\n",
    "duplicates.to_parquet(fuzzy_dedup_output_dir, write_to_filename=False)\n",
    "\n",
    "print(f\"Time taken for Fuzzy Deduplication (No False Positive Check): {time.time()-t0} s\")\n"
   ]
  },
  {
   "cell_type": "code",
   "execution_count": 15,
   "id": "14bfe3bc",
   "metadata": {
    "tags": []
   },
   "outputs": [
    {
     "data": {
      "text/html": [
       "<div>\n",
       "<style scoped>\n",
       "    .dataframe tbody tr th:only-of-type {\n",
       "        vertical-align: middle;\n",
       "    }\n",
       "\n",
       "    .dataframe tbody tr th {\n",
       "        vertical-align: top;\n",
       "    }\n",
       "\n",
       "    .dataframe thead th {\n",
       "        text-align: right;\n",
       "    }\n",
       "</style>\n",
       "<table border=\"1\" class=\"dataframe\">\n",
       "  <thead>\n",
       "    <tr style=\"text-align: right;\">\n",
       "      <th></th>\n",
       "      <th>group</th>\n",
       "      <th>id</th>\n",
       "    </tr>\n",
       "  </thead>\n",
       "  <tbody>\n",
       "    <tr>\n",
       "      <th>0</th>\n",
       "      <td>6872</td>\n",
       "      <td>EN_CC-0000066724</td>\n",
       "    </tr>\n",
       "    <tr>\n",
       "      <th>1</th>\n",
       "      <td>10232</td>\n",
       "      <td>EN_CC-0000006501</td>\n",
       "    </tr>\n",
       "    <tr>\n",
       "      <th>2</th>\n",
       "      <td>6874</td>\n",
       "      <td>EN_CC-0000019908</td>\n",
       "    </tr>\n",
       "    <tr>\n",
       "      <th>3</th>\n",
       "      <td>10234</td>\n",
       "      <td>EN_CC-0000047960</td>\n",
       "    </tr>\n",
       "    <tr>\n",
       "      <th>4</th>\n",
       "      <td>2872</td>\n",
       "      <td>EN_CC-0000004459</td>\n",
       "    </tr>\n",
       "  </tbody>\n",
       "</table>\n",
       "</div>"
      ],
      "text/plain": [
       "   group                id\n",
       "0   6872  EN_CC-0000066724\n",
       "1  10232  EN_CC-0000006501\n",
       "2   6874  EN_CC-0000019908\n",
       "3  10234  EN_CC-0000047960\n",
       "4   2872  EN_CC-0000004459"
      ]
     },
     "execution_count": 15,
     "metadata": {},
     "output_type": "execute_result"
    }
   ],
   "source": [
    "fuzzy_dedup_res = pd.read_parquet(fuzzy_dedup_output_dir)\n",
    "fuzzy_dedup_res.head()"
   ]
  },
  {
   "cell_type": "markdown",
   "id": "d2726cf9",
   "metadata": {},
   "source": [
    "This section removes duplicate documents identified by exact and fuzzy deduplication. It loads the deduplication results and the input dataset, then removes the identified duplicates using DataFrame operations."
   ]
  },
  {
   "cell_type": "markdown",
   "id": "e4dd78db",
   "metadata": {},
   "source": [
    "Define parameters"
   ]
  },
  {
   "cell_type": "code",
   "execution_count": 11,
   "id": "0027c8d2",
   "metadata": {
    "tags": []
   },
   "outputs": [],
   "source": [
    "#Input\n",
    "dataset_dir = added_id_output_path\n",
    "\n",
    "#Output\n",
    "dudped_output_dir = os.path.join(data_dir,\"remove_duplicate/result.parquet\")\n",
    "\n",
    "#Relevant parameters\n",
    "input_id_field = 'id'\n",
    "id_prefix = add_ID_id_prefix\n",
    "\n",
    "!mkdir -p {dudped_output_dir}"
   ]
  },
  {
   "cell_type": "markdown",
   "id": "a373860d",
   "metadata": {},
   "source": [
    "We will first process the result of exact deduplication. Since result of exact deduplication contains original ID used in input dataset, it is more straightforward to deal with."
   ]
  },
  {
   "cell_type": "code",
   "execution_count": null,
   "id": "f59e92c3",
   "metadata": {
    "tags": []
   },
   "outputs": [],
   "source": [
    "#Load .jsonl dataset\n",
    "input_dataset = DocumentDataset.read_json(dataset_dir, backend='cudf')\n",
    "\n",
    "#Load exact deduplicate result and extract list of duplicated document ID\n",
    "exact_duplicates = DocumentDataset.read_parquet(os.path.join(exact_dedup_output_dir,\"_exact_duplicates.parquet\"), backend='cudf')\n",
    "exact_docs_to_remove = exact_duplicates.df.map_partitions(\n",
    "    lambda x: x[x._hashes.duplicated(keep=\"first\")]\n",
    ")\n",
    "\n",
    "#Remove the duplicated document from input dataset\n",
    "result = input_dataset.df[\n",
    "    ~input_dataset.df[input_id_field].isin(exact_docs_to_remove[input_id_field].compute())\n",
    "]"
   ]
  },
  {
   "cell_type": "code",
   "execution_count": null,
   "id": "746d3673",
   "metadata": {
    "tags": []
   },
   "outputs": [],
   "source": [
    "#Loads result from fuzzy dedup wrapper\n",
    "fuzzy_duplicates = pd.read_parquet(fuzzy_dedup_output_dir)\n",
    "\n",
    "#Generate list of near duplicate document ID\n",
    "fuzzy_docs_to_remove = fuzzy_duplicates[fuzzy_duplicates.duplicated(subset=['group'], keep='first')]"
   ]
  },
  {
   "cell_type": "code",
   "execution_count": null,
   "id": "62b34838",
   "metadata": {
    "tags": []
   },
   "outputs": [],
   "source": [
    "#Remove near duplicates\n",
    "result = result[~result[input_id_field].isin(fuzzy_docs_to_remove[input_id_field])]\n",
    "\n",
    "#Save final result to local\n",
    "result.to_parquet(dudped_output_dir, write_to_filename=True)"
   ]
  },
  {
   "cell_type": "markdown",
   "id": "edfa52ce",
   "metadata": {},
   "source": [
    "Verify the result of duplicate removal. We can see that the number of document in resultant document is less than the original dataset "
   ]
  },
  {
   "cell_type": "code",
   "execution_count": 12,
   "id": "78eee9b3",
   "metadata": {
    "tags": []
   },
   "outputs": [
    {
     "name": "stdout",
     "output_type": "stream",
     "text": [
      "Data Processing Summary:\n",
      "Original Size: 157106\n",
      "Final Size: 62984\n",
      "Total Filtered: 94122 (59.91% of original)\n",
      "\n",
      "Stage-wise Filtering:\n",
      "  Stage: Language Identification, Result Size: 74194, Filtered Out: 82912 (52.77% of original)\n",
      "  Stage: Exact and Fuzzy deduplication, Result Size: 62984, Filtered Out: 11210 (7.14% of original)\n"
     ]
    }
   ],
   "source": [
    "res = pd.read_parquet(dudped_output_dir)\n",
    "tracker.record_size(\"Exact and Fuzzy deduplication\", len(res))\n",
    "tracker.print_summary()"
   ]
  },
  {
   "cell_type": "markdown",
   "id": "15e07a32",
   "metadata": {},
   "source": [
    "Close the GPU Dask Cluster.You might encounter error such as `Caught signal 11`.It's OK, just rerun the cell again."
   ]
  },
  {
   "cell_type": "code",
   "execution_count": null,
   "id": "3f0178d1",
   "metadata": {},
   "outputs": [],
   "source": [
    "client.cluster.close()\n",
    "client.shutdown()"
   ]
  },
  {
   "cell_type": "markdown",
   "id": "a416a293",
   "metadata": {},
   "source": [
    "### 2.4 Heuristic and Perplexity Fitlering\n",
    "\n",
    "In this section, we will apply multiple heuristic filters to the dataset, record the heuristic score for documents and documents removed for each filter. For each heuristic filter, the filter calculates a quality scores based on user defined heuristics/algorithms and classifies documents into high quality documents or low quality documents if the quality score is above the user defined threshold.\n",
    "\n",
    "For detailed implementation and description of each heuristic filter, please refer to `./NeMo-Curator/nemo-curator/filters/heuristics_filter.py`. For customized heuristic filter implementation, user shall follow the sample implementations, write customized filters and update the .yaml files accordingly."
   ]
  },
  {
   "cell_type": "code",
   "execution_count": 16,
   "id": "b988ad1e",
   "metadata": {
    "tags": []
   },
   "outputs": [],
   "source": [
    "from nemo_curator.utils.config_utils import build_filter_pipeline\n",
    "from nemo_curator import Score, ScoreFilter\n",
    "from nemo_curator.utils.file_utils import expand_outdir_and_mkdir"
   ]
  },
  {
   "cell_type": "markdown",
   "id": "097a1b48",
   "metadata": {},
   "source": [
    "**[Optional]** The following cell is to remove warning from dask."
   ]
  },
  {
   "cell_type": "code",
   "execution_count": null,
   "id": "44552288",
   "metadata": {
    "tags": []
   },
   "outputs": [],
   "source": [
    "import warnings\n",
    "\n",
    "# Disable the metadata warning\n",
    "warnings.filterwarnings(\"ignore\", module=\"dask.dataframe.core\")"
   ]
  },
  {
   "cell_type": "markdown",
   "id": "9a59699d",
   "metadata": {},
   "source": [
    "Create a CPU Dask Cluster."
   ]
  },
  {
   "cell_type": "code",
   "execution_count": null,
   "id": "b8f80ab3",
   "metadata": {
    "tags": []
   },
   "outputs": [],
   "source": [
    "client = get_client(cluster_type=\"cpu\", n_workers=10, processes=True, memory_limit='16GiB')\n",
    "client"
   ]
  },
  {
   "cell_type": "markdown",
   "id": "a7702918",
   "metadata": {},
   "source": [
    "Define some helper functions"
   ]
  },
  {
   "cell_type": "code",
   "execution_count": 41,
   "id": "6f2e7523",
   "metadata": {
    "tags": []
   },
   "outputs": [],
   "source": [
    "def get_dataframe_complement(original_df, filtered_df):\n",
    "    def partition_complement(part_original_df, partition_info=None):\n",
    "        if not partition_info:\n",
    "            return part_original_df\n",
    "        part_filtered_df = filtered_df.get_partition(partition_info[\"number\"])\n",
    "        complement_mask = ~part_original_df.index.isin(part_filtered_df.index.persist())\n",
    "        complement_df = part_original_df[complement_mask]\n",
    "        return complement_df\n",
    "\n",
    "    return original_df.map_partitions(partition_complement)\n",
    "\n",
    "def write_scores(df, output_dir):\n",
    "    for column in df.columns:\n",
    "        output_path = os.path.join(output_dir, f\"{column}.txt\")\n",
    "        df[column].to_csv(output_path, single_file=True, encoding=\"utf-8\", header=False, index=False, mode=\"a\")\n",
    "\n",
    "def get_score_fields(pipeline):\n",
    "    score_fields = []\n",
    "    for nc_module in pipeline.modules:\n",
    "        if isinstance(nc_module, Score) or isinstance(nc_module, ScoreFilter):\n",
    "            if nc_module.score_field:\n",
    "                score_fields.append(nc_module.score_field)\n",
    "    return score_fields"
   ]
  },
  {
   "cell_type": "markdown",
   "id": "227fa8b0",
   "metadata": {},
   "source": [
    "Define parameters"
   ]
  },
  {
   "cell_type": "code",
   "execution_count": 13,
   "id": "a894f90f",
   "metadata": {
    "tags": []
   },
   "outputs": [],
   "source": [
    "#Input\n",
    "HF_input_data_dir = dudped_output_dir\n",
    "input_file_type = 'parquet'\n",
    "batch_size = 1\n",
    "\n",
    "#Output\n",
    "HF_base_output_path = os.path.join(data_dir,'heuristic_filtering')\n",
    "kept_document_dir =  os.path.join(HF_base_output_path,'data','hq.parquet')\n",
    "removed_document_dir =  os.path.join(HF_base_output_path,'data','lq.parquet')\n",
    "output_document_score_dir =  os.path.join(HF_base_output_path,'data','score')\n",
    "output_file_type = 'parquet'\n",
    "\n",
    "#Relevant parameters\n",
    "filter_config_file = './config/heuristic_filter_en.yaml'\n",
    "input_id_field = 'id'\n",
    "\n",
    "!mkdir -p {kept_document_dir}\n",
    "!mkdir -p {removed_document_dir}\n",
    "!mkdir -p {output_document_score_dir}"
   ]
  },
  {
   "cell_type": "markdown",
   "id": "ccea406e",
   "metadata": {},
   "source": [
    "Run heuristic filtering"
   ]
  },
  {
   "cell_type": "code",
   "execution_count": null,
   "id": "03b3da27",
   "metadata": {
    "tags": []
   },
   "outputs": [],
   "source": [
    "t0 = time.time()\n",
    "\n",
    "#Load filters from config\n",
    "filter_pipeline = build_filter_pipeline(filter_config_file)\n",
    "score_fields = get_score_fields(filter_pipeline)\n",
    "\n",
    "# Load dataset\n",
    "dataset = DocumentDataset.read_parquet(HF_input_data_dir, files_per_partition=1, blocksize=None, backend='pandas', add_filename=True)\n",
    "\n",
    "filtered_dataset = filter_pipeline(dataset)\n",
    "\n",
    "# Write scores of retained doucment to separate directory\n",
    "output_df = filtered_dataset.df[[input_id_field, *score_fields]]\n",
    "write_scores(output_df, output_document_score_dir)\n",
    "\n",
    "# Remove scores from dataset df\n",
    "filtered_dataset = DocumentDataset(filtered_dataset.df.drop(columns=score_fields))\n",
    "\n",
    "# Output filtered dataset\n",
    "filtered_dataset.to_parquet(kept_document_dir, write_to_filename=True)\n",
    "\n",
    "print(f\"Time taken for Heuristic filtering: {time.time()-t0} s\")"
   ]
  },
  {
   "cell_type": "markdown",
   "id": "a53b04e9",
   "metadata": {},
   "source": [
    "**[Optional]** Verify the result."
   ]
  },
  {
   "cell_type": "code",
   "execution_count": 14,
   "id": "1282f586",
   "metadata": {},
   "outputs": [
    {
     "data": {
      "text/html": [
       "<div>\n",
       "<style scoped>\n",
       "    .dataframe tbody tr th:only-of-type {\n",
       "        vertical-align: middle;\n",
       "    }\n",
       "\n",
       "    .dataframe tbody tr th {\n",
       "        vertical-align: top;\n",
       "    }\n",
       "\n",
       "    .dataframe thead th {\n",
       "        text-align: right;\n",
       "    }\n",
       "</style>\n",
       "<table border=\"1\" class=\"dataframe\">\n",
       "  <thead>\n",
       "    <tr style=\"text-align: right;\">\n",
       "      <th></th>\n",
       "      <th>id</th>\n",
       "      <th>language</th>\n",
       "      <th>source_id</th>\n",
       "      <th>text</th>\n",
       "      <th>url</th>\n",
       "      <th>warc_id</th>\n",
       "    </tr>\n",
       "  </thead>\n",
       "  <tbody>\n",
       "    <tr>\n",
       "      <th>0</th>\n",
       "      <td>EN_CC-0000000000</td>\n",
       "      <td>EN</td>\n",
       "      <td>crawl-data-CC-MAIN-2024-51-segments-1733066035...</td>\n",
       "      <td>Media coverage\\n\\nParallels Coming to the 2014...</td>\n",
       "      <td>http://028zq.com/news/shownews.php?id=16&amp;lang=en</td>\n",
       "      <td>deee4ce0-c404-4ff3-8700-0b45e8ac6b5e</td>\n",
       "    </tr>\n",
       "    <tr>\n",
       "      <th>1</th>\n",
       "      <td>EN_CC-0000000001</td>\n",
       "      <td>EN</td>\n",
       "      <td>crawl-data-CC-MAIN-2024-51-segments-1733066035...</td>\n",
       "      <td>techspace-skywatch\\n\\nA network of Autonomous ...</td>\n",
       "      <td>http://2014.spaceappschallenge.org/project/tec...</td>\n",
       "      <td>6c17be7f-7253-4703-aead-0aa6e53bcb5d</td>\n",
       "    </tr>\n",
       "    <tr>\n",
       "      <th>2</th>\n",
       "      <td>EN_CC-0000000002</td>\n",
       "      <td>EN</td>\n",
       "      <td>crawl-data-CC-MAIN-2024-51-segments-1733066035...</td>\n",
       "      <td>lemon rosemary chicken\\n\\nLeave a Reply\\n\\nJoi...</td>\n",
       "      <td>http://400caloriesorless.com/?attachment_id=3867</td>\n",
       "      <td>f70dc315-8ee5-4cd1-b685-975f36f15e90</td>\n",
       "    </tr>\n",
       "    <tr>\n",
       "      <th>3</th>\n",
       "      <td>EN_CC-0000000004</td>\n",
       "      <td>EN</td>\n",
       "      <td>crawl-data-CC-MAIN-2024-51-segments-1733066035...</td>\n",
       "      <td>Teen Patti Master – Update APK Download &amp; Get ...</td>\n",
       "      <td>http://789mgmslots.com/2024/08/26/teen-patti-m...</td>\n",
       "      <td>48640b9c-d821-4c3a-bf31-a16e3eb30f0f</td>\n",
       "    </tr>\n",
       "    <tr>\n",
       "      <th>4</th>\n",
       "      <td>EN_CC-0000000005</td>\n",
       "      <td>EN</td>\n",
       "      <td>crawl-data-CC-MAIN-2024-51-segments-1733066035...</td>\n",
       "      <td>Lump sum payment specialists since 1992\\n\\nFor...</td>\n",
       "      <td>http://GRANOFFENTERPRISES.COM/</td>\n",
       "      <td>da02f4d5-57bb-4dde-9089-cacb273d2362</td>\n",
       "    </tr>\n",
       "  </tbody>\n",
       "</table>\n",
       "</div>"
      ],
      "text/plain": [
       "                 id language  \\\n",
       "0  EN_CC-0000000000       EN   \n",
       "1  EN_CC-0000000001       EN   \n",
       "2  EN_CC-0000000002       EN   \n",
       "3  EN_CC-0000000004       EN   \n",
       "4  EN_CC-0000000005       EN   \n",
       "\n",
       "                                           source_id  \\\n",
       "0  crawl-data-CC-MAIN-2024-51-segments-1733066035...   \n",
       "1  crawl-data-CC-MAIN-2024-51-segments-1733066035...   \n",
       "2  crawl-data-CC-MAIN-2024-51-segments-1733066035...   \n",
       "3  crawl-data-CC-MAIN-2024-51-segments-1733066035...   \n",
       "4  crawl-data-CC-MAIN-2024-51-segments-1733066035...   \n",
       "\n",
       "                                                text  \\\n",
       "0  Media coverage\\n\\nParallels Coming to the 2014...   \n",
       "1  techspace-skywatch\\n\\nA network of Autonomous ...   \n",
       "2  lemon rosemary chicken\\n\\nLeave a Reply\\n\\nJoi...   \n",
       "3  Teen Patti Master – Update APK Download & Get ...   \n",
       "4  Lump sum payment specialists since 1992\\n\\nFor...   \n",
       "\n",
       "                                                 url  \\\n",
       "0   http://028zq.com/news/shownews.php?id=16&lang=en   \n",
       "1  http://2014.spaceappschallenge.org/project/tec...   \n",
       "2   http://400caloriesorless.com/?attachment_id=3867   \n",
       "3  http://789mgmslots.com/2024/08/26/teen-patti-m...   \n",
       "4                     http://GRANOFFENTERPRISES.COM/   \n",
       "\n",
       "                                warc_id  \n",
       "0  deee4ce0-c404-4ff3-8700-0b45e8ac6b5e  \n",
       "1  6c17be7f-7253-4703-aead-0aa6e53bcb5d  \n",
       "2  f70dc315-8ee5-4cd1-b685-975f36f15e90  \n",
       "3  48640b9c-d821-4c3a-bf31-a16e3eb30f0f  \n",
       "4  da02f4d5-57bb-4dde-9089-cacb273d2362  "
      ]
     },
     "execution_count": 14,
     "metadata": {},
     "output_type": "execute_result"
    }
   ],
   "source": [
    "res = pd.read_parquet(kept_document_dir)\n",
    "res.head()"
   ]
  },
  {
   "cell_type": "code",
   "execution_count": 15,
   "id": "8b50e442",
   "metadata": {},
   "outputs": [
    {
     "name": "stdout",
     "output_type": "stream",
     "text": [
      "Data Processing Summary:\n",
      "Original Size: 157106\n",
      "Final Size: 47107\n",
      "Total Filtered: 109999 (70.02% of original)\n",
      "\n",
      "Stage-wise Filtering:\n",
      "  Stage: Language Identification, Result Size: 74194, Filtered Out: 82912 (52.77% of original)\n",
      "  Stage: Exact and Fuzzy deduplication, Result Size: 62984, Filtered Out: 11210 (7.14% of original)\n",
      "  Stage: Heuristic Filtering, Result Size: 47107, Filtered Out: 15877 (10.11% of original)\n"
     ]
    }
   ],
   "source": [
    "tracker.record_size(\"Heuristic Filtering\", len(res))\n",
    "tracker.print_summary()"
   ]
  },
  {
   "cell_type": "markdown",
   "id": "24e8b173",
   "metadata": {},
   "source": [
    "Close the CPU Dask Cluster"
   ]
  },
  {
   "cell_type": "code",
   "execution_count": null,
   "id": "12508f5e",
   "metadata": {
    "tags": []
   },
   "outputs": [],
   "source": [
    "client.cluster.close()\n",
    "client.shutdown()"
   ]
  },
  {
   "cell_type": "markdown",
   "id": "d03de3ab",
   "metadata": {},
   "source": [
    "Now, let's perform perplexity filtering using a KenLM model trained on wikipedia data. NeMo Curator does not support KenLM filtering out of the box, instead we will use pre-trained KenLM models hosted on HuggingFace (https://huggingface.co/edugp/kenlm/tree/main/wikipedia) to generate perplexity scores for every document and filter based on a threshold."
   ]
  },
  {
   "cell_type": "code",
   "execution_count": null,
   "id": "ed822056",
   "metadata": {},
   "outputs": [],
   "source": [
    "# Install dependencies\n",
    "!pip install sentencepiece https://github.com/kpu/kenlm/archive/master.zip"
   ]
  },
  {
   "cell_type": "code",
   "execution_count": 21,
   "id": "bf2829cc",
   "metadata": {},
   "outputs": [],
   "source": [
    "models_dir = os.path.join(cur_dir, \"models\", \"wikipedia\")\n",
    "os.makedirs(models_dir, exist_ok=True)\n",
    "# Download KenLM pre-trained models\n",
    "# !wget https://huggingface.co/edugp/kenlm/blob/main/wikipedia/en.arpa.bin -P {models_dir}\n",
    "# !wget https://huggingface.co/edugp/kenlm/blob/main/wikipedia/en.sp.model -P {models_dir}\n",
    "# !wget https://huggingface.co/edugp/kenlm/blob/main/wikipedia/en.sp.vocab -P {models_dir}"
   ]
  },
  {
   "cell_type": "code",
   "execution_count": 38,
   "id": "b66b589b",
   "metadata": {},
   "outputs": [],
   "source": [
    "from nemo_curator.filters.doc_filter import DocumentFilter\n",
    "from kenlm_utility import KenlmModel\n",
    "\n",
    "class PerplexityFilter(DocumentFilter):\n",
    "\n",
    "  def __init__(self, threshold):\n",
    "    self._kenlm_model = KenlmModel(model_path=models_dir, language=\"en\")\n",
    "    self._threshold = threshold\n",
    "\n",
    "  def score_document(self, text: str):\n",
    "    return self._kenlm_model.get_perplexity(text, normalize=True)\n",
    "\n",
    "  def keep_document(self, score: int):\n",
    "    return score <= self._threshold"
   ]
  },
  {
   "cell_type": "code",
   "execution_count": null,
   "id": "11ce27de",
   "metadata": {},
   "outputs": [],
   "source": [
    "client = get_client(cluster_type=\"cpu\", n_workers=10, processes=True, memory_limit='16GiB')\n",
    "client"
   ]
  },
  {
   "cell_type": "code",
   "execution_count": 16,
   "id": "b21f0720",
   "metadata": {},
   "outputs": [],
   "source": [
    "#Input\n",
    "PF_input_data_dir = os.path.join(\"/workspace/nemotron-cc/data/heuristic_filtering/data/hq.parquet\",'result.parquet')\n",
    "input_file_type = 'parquet'\n",
    "batch_size = 1\n",
    "\n",
    "#Output\n",
    "PF_base_output_path = os.path.join(data_dir,'perplexity_filtering')\n",
    "kept_document_dir =  os.path.join(PF_base_output_path,'data','hq.parquet')\n",
    "removed_document_dir =  os.path.join(PF_base_output_path,'data','lq.parquet')\n",
    "output_document_score_dir =  os.path.join(PF_base_output_path,'data','score')\n",
    "output_file_type = 'parquet'\n",
    "\n",
    "#Relevant parameters\n",
    "input_id_field = 'id'\n",
    "# Adjust the threshold to control the strictness of filtering; higher values are more lenient, lower values are more strict.\n",
    "# Experiment to find the optimal balance between data reduction and quality retention.\n",
    "threshold = 100000.00\n",
    "\n",
    "!mkdir -p {kept_document_dir}\n",
    "!mkdir -p {removed_document_dir}\n",
    "!mkdir -p {output_document_score_dir}"
   ]
  },
  {
   "cell_type": "code",
   "execution_count": 61,
   "id": "4a844995",
   "metadata": {},
   "outputs": [
    {
     "name": "stdout",
     "output_type": "stream",
     "text": [
      "Reading 1 files with blocksize=None / files_per_partition=1\n"
     ]
    },
    {
     "name": "stderr",
     "output_type": "stream",
     "text": [
      "/usr/local/lib/python3.12/dist-packages/dask_expr/_collection.py:4376: UserWarning: \n",
      "You did not provide metadata, so Dask is running your function on a small dataset to guess output types. It is possible that Dask will guess incorrectly.\n",
      "To provide an explicit output types or to silence this message, please provide the `meta=` keyword, as described in the map or apply function that you are using.\n",
      "  Before: .apply(func)\n",
      "  After:  .apply(func, meta=('text', 'float64'))\n",
      "\n",
      "  warnings.warn(meta_warning(meta))\n"
     ]
    },
    {
     "name": "stdout",
     "output_type": "stream",
     "text": [
      "Writing to disk complete for 1 partition(s)\n",
      "Time taken for Perplexity filtering: 283.00895953178406 s\n"
     ]
    }
   ],
   "source": [
    "t0 = time.time()\n",
    "\n",
    "# Load dataset\n",
    "dataset = DocumentDataset.read_parquet(PF_input_data_dir, files_per_partition=1, blocksize=None, backend='pandas', add_filename=True)\n",
    "\n",
    "perplexity_filter = ScoreFilter(\n",
    "                PerplexityFilter(threshold=100000.00),\n",
    "                text_field=\"text\",\n",
    "                score_field=\"perplexity_score\",\n",
    "            )\n",
    "\n",
    "filtered_dataset = perplexity_filter(dataset)\n",
    "\n",
    "# Write scores of retained doucment to separate directory\n",
    "output_df = filtered_dataset.df[[input_id_field, perplexity_filter.score_field]]\n",
    "write_scores(output_df, output_document_score_dir)\n",
    "\n",
    "# Remove scores from dataset df\n",
    "filtered_dataset = DocumentDataset(filtered_dataset.df.drop(columns=perplexity_filter.score_field))\n",
    "\n",
    "# Output filtered dataset\n",
    "filtered_dataset.to_parquet(kept_document_dir, write_to_filename=True)\n",
    "\n",
    "print(f\"Time taken for Perplexity filtering: {time.time()-t0} s\")"
   ]
  },
  {
   "cell_type": "code",
   "execution_count": 17,
   "id": "5f14926d",
   "metadata": {},
   "outputs": [
    {
     "name": "stdout",
     "output_type": "stream",
     "text": [
      "Data Processing Summary:\n",
      "Original Size: 157106\n",
      "Final Size: 47107\n",
      "Total Filtered: 109999 (70.02% of original)\n",
      "\n",
      "Stage-wise Filtering:\n",
      "  Stage: Language Identification, Result Size: 74194, Filtered Out: 82912 (52.77% of original)\n",
      "  Stage: Exact and Fuzzy deduplication, Result Size: 62984, Filtered Out: 11210 (7.14% of original)\n",
      "  Stage: Heuristic Filtering, Result Size: 47107, Filtered Out: 15877 (10.11% of original)\n",
      "  Stage: Perplexity filtering, Result Size: 47107, Filtered Out: 0 (0.00% of original)\n"
     ]
    }
   ],
   "source": [
    "res = pd.read_parquet(kept_document_dir)\n",
    "tracker.record_size(\"Perplexity filtering\", len(res))\n",
    "tracker.print_summary()"
   ]
  },
  {
   "cell_type": "markdown",
   "id": "3f7a76d8",
   "metadata": {},
   "source": [
    "As you may have noticed, perplexity filtering did not further filter any documents. This is likely because the chosen threshold was too lenient for our already filtered dataset. We can further verify this by plotting a Gaussian curve of all the scores we saved during our filtering process. The plot reveals that the perplexity scores for nearly all texts are below 6000, with the majority falling below 1000. This indicates that the input dataset to this filter was already of relatively high quality. Generally, KenLM perplexity scores below 2000 are considered good, while scores above approximately 10000 are considered poor."
   ]
  },
  {
   "cell_type": "code",
   "execution_count": 27,
   "id": "3c1bd4c4",
   "metadata": {},
   "outputs": [
    {
     "data": {
      "image/png": "[encoded data removed]",
      "text/plain": [
       "<Figure size 1000x600 with 1 Axes>"
      ]
     },
     "metadata": {},
     "output_type": "display_data"
    }
   ],
   "source": [
    "import pandas as pd\n",
    "import numpy as np\n",
    "import matplotlib.pyplot as plt\n",
    "import os\n",
    "\n",
    "# Load perplexity scores from the text file\n",
    "file_path = os.path.join(output_document_score_dir, \"perplexity_scores.txt\")\n",
    "try:\n",
    "    with open(file_path, 'r') as f:\n",
    "        perplexity_scores = [float(line.strip()) for line in f]\n",
    "except FileNotFoundError:\n",
    "    print(f\"Error: The file {file_path} was not found.\")\n",
    "    perplexity_scores = []  # Assign an empty list to avoid errors later\n",
    "except ValueError:\n",
    "    print(f\"Error: Could not convert lines in {file_path} to float. Check the file format.\")\n",
    "    perplexity_scores = []\n",
    "\n",
    "if perplexity_scores:\n",
    "    # Create a pandas Series from the perplexity scores\n",
    "    perplexity_series = pd.Series(perplexity_scores)\n",
    "\n",
    "    # Plot the distribution as a histogram with a Gaussian curve overlay\n",
    "    plt.figure(figsize=(10, 6))\n",
    "    perplexity_series.hist(bins=50, density=True, alpha=0.6, color='skyblue')\n",
    "\n",
    "    # Overlay a Gaussian curve\n",
    "    mu = perplexity_series.mean()\n",
    "    sigma = perplexity_series.std()\n",
    "    x = np.linspace(perplexity_series.min(), perplexity_series.max(), 100)\n",
    "    plt.plot(x, (1 / (sigma * np.sqrt(2 * np.pi))) * np.exp(-0.5 * ((x - mu) / sigma) ** 2), color='red', linewidth=2, label='Gaussian Curve')\n",
    "\n",
    "    plt.title('Distribution of Perplexity Scores')\n",
    "    plt.xlabel('Perplexity Score')\n",
    "    plt.ylabel('Density')\n",
    "    plt.legend()\n",
    "    plt.grid(True)\n",
    "    plt.show()\n",
    "else:\n",
    "    print(\"No perplexity scores to plot.\")\n"
   ]
  },
  {
   "cell_type": "code",
   "execution_count": 43,
   "id": "fa014c77",
   "metadata": {},
   "outputs": [],
   "source": [
    "client.cluster.close()\n",
    "client.shutdown()"
   ]
  },
  {
   "cell_type": "markdown",
   "id": "bf779365",
   "metadata": {},
   "source": [
    "Let's analyze and visualize how the dataset size changed after applying each filtering step in our pipeline."
   ]
  },
  {
   "cell_type": "code",
   "execution_count": null,
   "id": "8032fc0f",
   "metadata": {},
   "outputs": [
    {
     "data": {
      "image/png": "[encoded data removed]",
      "text/plain": [
       "<Figure size 1200x600 with 1 Axes>"
      ]
     },
     "metadata": {},
     "output_type": "display_data"
    }
   ],
   "source": [
    "tracker.plot_size_reduction()"
   ]
  },
  {
   "cell_type": "markdown",
   "id": "c71f8012",
   "metadata": {},
   "source": [
    "### 2.5 Model based quality labeling"
   ]
  },
  {
   "cell_type": "markdown",
   "id": "dbc06d24",
   "metadata": {},
   "source": [
    "Now, we will assess the quality of each document using a model-based quality labeling approach. This involves classifying data into distinct quality buckets based on an ensemble of scores from several language models: [FineWebMixtralEduClassifier](https://huggingface.co/nvidia/nemocurator-fineweb-mixtral-edu-classifier), FineWebNemotronEduClassifier [FineWebNemotronEduClassifier](https://huggingface.co/nvidia/nemocurator-fineweb-nemotron-4-edu-classifier), and fasttext-oh-eli5 [fasttext-oh-eli5](https://huggingface.co/mlfoundations/fasttext-oh-eli5).\n",
    " \n",
    "Much of the code in this section is adapted from this tutorial: [NeMo Curator fineweb-edu-ensemble-classification.ipynb](https://github.com/NVIDIA/NeMo-Curator/blob/main/tutorials/distributed_data_classification/fineweb-edu-ensemble-classification.ipynb). Refer to that notebook for a more detailed explanation of the process."
   ]
  },
  {
   "cell_type": "markdown",
   "id": "f5bd0baf",
   "metadata": {},
   "source": [
    "#### 2.5.1 Quality classification"
   ]
  },
  {
   "cell_type": "code",
   "execution_count": 5,
   "id": "64684165",
   "metadata": {},
   "outputs": [],
   "source": [
    "from nemo_curator.classifiers import FineWebNemotronEduClassifier, FineWebMixtralEduClassifier\n",
    "from nemo_curator.utils.distributed_utils import load_object_on_worker\n",
    "from nemo_curator.utils.distributed_utils import get_device_total_memory\n",
    "from fast_text_classifier import FastTextQualityClassifier"
   ]
  },
  {
   "cell_type": "code",
   "execution_count": 6,
   "id": "d661089e",
   "metadata": {},
   "outputs": [],
   "source": [
    "import json\n",
    "import fasttext\n",
    "import pandas as pd\n",
    "import cudf\n",
    "import dask_cudf\n",
    "import numpy as np\n",
    "import cupy as cp\n",
    "from pathlib import Path\n",
    "from typing import Optional, Tuple, Any, Dict, List\n",
    "from huggingface_hub import hf_hub_download\n",
    "\n",
    "from nemo_curator import get_client\n",
    "from nemo_curator.classifiers import FineWebNemotronEduClassifier, FineWebMixtralEduClassifier\n",
    "from nemo_curator.datasets import DocumentDataset\n",
    "from nemo_curator.utils.distributed_utils import load_object_on_worker\n",
    "from nemo_curator.utils.distributed_utils import get_device_total_memory"
   ]
  },
  {
   "cell_type": "code",
   "execution_count": null,
   "id": "0afc89ed",
   "metadata": {},
   "outputs": [
    {
     "name": "stdout",
     "output_type": "stream",
     "text": [
      "cuDF Spilling is enabled\n"
     ]
    }
   ],
   "source": [
    "client = get_client(cluster_type=\"gpu\")\n",
    "client"
   ]
  },
  {
   "cell_type": "code",
   "execution_count": 5,
   "id": "6a35f9d5",
   "metadata": {},
   "outputs": [],
   "source": [
    "quality_labeling_output_data_dir = os.path.join(data_dir,\"quality_labeling\")\n",
    "quality_classification_results_dir = os.path.join(quality_labeling_output_data_dir, \"classification_results.parquet\")\n",
    "quality_classifcation_thresholds_dir = os.path.join(quality_labeling_output_data_dir, \"classifier_thresholds.json\")\n",
    "output_bucketed_results = os.path.join(quality_labeling_output_data_dir, \"bucketed_results\")\n",
    "\n",
    "!mkdir -p {quality_labeling_output_data_dir}\n",
    "!mkdir -p {output_bucketed_results}"
   ]
  },
  {
   "cell_type": "code",
   "execution_count": 9,
   "id": "b509ed65",
   "metadata": {},
   "outputs": [],
   "source": [
    "# Define classifier score mapping\n",
    "classifier_scores = {\n",
    "    \"nemotron-score\": {\n",
    "        \"int_score\": \"fineweb-nemotron-edu-score-int\",\n",
    "        \"float_score\": \"fineweb-nemotron-edu-score\"\n",
    "    },\n",
    "    \"mixtral-score\": {\n",
    "        \"int_score\": \"fineweb-mixtral-edu-score-int\",\n",
    "        \"float_score\": \"fineweb-mixtral-edu-score\"\n",
    "    },\n",
    "    \"fasttext-score\": {\n",
    "        \"int_score\": \"fasttext-quality-score-int\",\n",
    "        \"float_score\": \"fasttext-quality-score\"\n",
    "    }\n",
    "}\n",
    "\n",
    "\n",
    "\n",
    "# Initialize classifiers\n",
    "classifiers = [\n",
    "    FineWebNemotronEduClassifier(batch_size=1024,\n",
    "                         pred_column=classifier_scores[\"nemotron-score\"][\"float_score\"],\n",
    "                         int_column=classifier_scores[\"nemotron-score\"][\"int_score\"]),\n",
    "    FineWebMixtralEduClassifier(batch_size=1024,\n",
    "                         pred_column=classifier_scores[\"mixtral-score\"][\"float_score\"],\n",
    "                         int_column=classifier_scores[\"mixtral-score\"][\"int_score\"]),\n",
    "    FastTextQualityClassifier(pred_column=classifier_scores[\"fasttext-score\"][\"float_score\"],\n",
    "                         int_column=classifier_scores[\"fasttext-score\"][\"int_score\"])\n",
    "]"
   ]
  },
  {
   "cell_type": "code",
   "execution_count": null,
   "id": "bf342e51",
   "metadata": {},
   "outputs": [],
   "source": [
    "input_dataset = DocumentDataset.read_parquet(\"/workspace/nemotron-cc/data/perplexity_filtering/data/hq.parquet/result.parquet\", backend=\"cudf\")"
   ]
  },
  {
   "cell_type": "code",
   "execution_count": 11,
   "id": "6418114a",
   "metadata": {},
   "outputs": [
    {
     "name": "stdout",
     "output_type": "stream",
     "text": [
      "Starting FineWeb Nemotron-4 Edu Classifier inference\n"
     ]
    },
    {
     "name": "stdout",
     "output_type": "stream",
     "text": [
      "Starting FineWeb Mixtral Edu Classifier inference\n"
     ]
    },
    {
     "name": "stderr",
     "output_type": "stream",
     "text": [
      "GPU: tcp://127.0.0.1:34197, Part: 0:   0%|          | 0/47107 [00:00<?, ?it/s]/usr/local/lib/python3.12/dist-packages/crossfit/backend/torch/loader.py:184: UserWarning: Not enough memory for a batch size of 8192. Retrying with a new batch size of 4096. Consider setting initial batch size to 4096.\n",
      "  warnings.warn(\n",
      "GPU: tcp://127.0.0.1:34197, Part: 0: 100%|██████████| 47107/47107 [00:33<00:00, 1422.94it/s]\n",
      "GPU: tcp://127.0.0.1:34197, Part: 0:   0%|          | 0/47107 [00:00<?, ?it/s]/usr/local/lib/python3.12/dist-packages/crossfit/backend/torch/loader.py:184: UserWarning: Not enough memory for a batch size of 8192. Retrying with a new batch size of 4096. Consider setting initial batch size to 4096.\n",
      "  warnings.warn(\n",
      "GPU: tcp://127.0.0.1:34197, Part: 0: 100%|██████████| 47107/47107 [00:33<00:00, 1423.92it/s]\n"
     ]
    }
   ],
   "source": [
    "output_dataset = input_dataset\n",
    "for classifier in classifiers:\n",
    "    output_dataset = classifier(dataset=output_dataset)\n",
    "\n",
    "# Dropping int columns\n",
    "# As we add new based on a threshold (in the following columns)\n",
    "output_dataset = output_dataset.df.drop(columns=[v[\"int_score\"] for v in classifier_scores.values()]).compute()\n"
   ]
  },
  {
   "cell_type": "code",
   "execution_count": 28,
   "id": "45764f4e",
   "metadata": {},
   "outputs": [],
   "source": [
    "client.cluster.close()\n",
    "client.shutdown()"
   ]
  },
  {
   "cell_type": "code",
   "execution_count": null,
   "id": "5eafbd45",
   "metadata": {},
   "outputs": [],
   "source": [
    "output_dataset.head()"
   ]
  },
  {
   "cell_type": "code",
   "execution_count": 35,
   "id": "484fe764",
   "metadata": {},
   "outputs": [
    {
     "name": "stderr",
     "output_type": "stream",
     "text": [
      "get_mempolicy: Operation not permitted\n"
     ]
    }
   ],
   "source": [
    "output_dataset.to_parquet(path=quality_classification_results_dir)"
   ]
  },
  {
   "cell_type": "code",
   "execution_count": 36,
   "id": "2c36faf4",
   "metadata": {},
   "outputs": [],
   "source": [
    "del classifiers, output_dataset, input_dataset"
   ]
  },
  {
   "cell_type": "markdown",
   "id": "eddec82d",
   "metadata": {},
   "source": [
    "#### 2.5.2 Process scores"
   ]
  },
  {
   "cell_type": "code",
   "execution_count": null,
   "id": "fa49f4d8",
   "metadata": {},
   "outputs": [],
   "source": [
    "scored_data = DocumentDataset.read_parquet(quality_classification_results_dir, backend=\"cudf\")"
   ]
  },
  {
   "cell_type": "code",
   "execution_count": null,
   "id": "6a8c856c",
   "metadata": {},
   "outputs": [],
   "source": [
    "# Compute thresholds\n",
    "from quality_labeling_utlities import  weighted_percentile, compute_thresholds_for_score_columns, save_thresholds, map_score_columns\n",
    "\n",
    "# Adjust fraction based on how much can fit in a single GPU (1/2 ish)\n",
    "gpu_memory_available = get_device_total_memory()/2\n",
    "frac = max(1, scored_data.df.memory_usage(deep=True).sum().compute()/gpu_memory_available)\n",
    "sampled_data =  scored_data.df.sample(frac=frac).repartition(npartitions=1)\n",
    "\n",
    "score_col_names = [v[\"float_score\"] for v in classifier_scores.values()]\n",
    "threshold_dict = sampled_data.map_partitions(compute_thresholds_for_score_columns, text_col_name=\"text\", score_col_names=score_col_names).compute().iloc[0]\n",
    "save_thresholds(threshold_dict, quality_classifcation_thresholds_dir)\n",
    "\n",
    "scored_data.df = scored_data.df.map_partitions(map_score_columns, score_col_names, threshold_dict)"
   ]
  },
  {
   "cell_type": "code",
   "execution_count": 41,
   "id": "aef15317",
   "metadata": {},
   "outputs": [],
   "source": [
    "# Compute final ensembled score\n",
    "int_column_names = [f'{v[\"float_score\"]}-int' for v in classifier_scores.values()]\n",
    "scored_data.df['ensemble-max-int'] = scored_data.df[int_column_names].max(axis=1)"
   ]
  },
  {
   "cell_type": "code",
   "execution_count": 42,
   "id": "d97d4c7c",
   "metadata": {},
   "outputs": [
    {
     "data": {
      "text/html": [
       "<div>\n",
       "<style scoped>\n",
       "    .dataframe tbody tr th:only-of-type {\n",
       "        vertical-align: middle;\n",
       "    }\n",
       "\n",
       "    .dataframe tbody tr th {\n",
       "        vertical-align: top;\n",
       "    }\n",
       "\n",
       "    .dataframe thead th {\n",
       "        text-align: right;\n",
       "    }\n",
       "</style>\n",
       "<table border=\"1\" class=\"dataframe\">\n",
       "  <thead>\n",
       "    <tr style=\"text-align: right;\">\n",
       "      <th></th>\n",
       "      <th>fasttext-quality-score</th>\n",
       "      <th>fineweb-mixtral-edu-score</th>\n",
       "      <th>fineweb-mixtral-edu-score-label</th>\n",
       "      <th>fineweb-nemotron-edu-score</th>\n",
       "      <th>fineweb-nemotron-edu-score-label</th>\n",
       "      <th>id</th>\n",
       "      <th>language</th>\n",
       "      <th>source_id</th>\n",
       "      <th>text</th>\n",
       "      <th>url</th>\n",
       "      <th>warc_id</th>\n",
       "      <th>fineweb-nemotron-edu-score-int</th>\n",
       "      <th>fineweb-mixtral-edu-score-int</th>\n",
       "      <th>fasttext-quality-score-int</th>\n",
       "      <th>ensemble-max-int</th>\n",
       "    </tr>\n",
       "  </thead>\n",
       "  <tbody>\n",
       "    <tr>\n",
       "      <th>0</th>\n",
       "      <td>0.000809</td>\n",
       "      <td>0.959473</td>\n",
       "      <td>low_quality</td>\n",
       "      <td>1.218750</td>\n",
       "      <td>low_quality</td>\n",
       "      <td>EN_CC-0000000000</td>\n",
       "      <td>EN</td>\n",
       "      <td>crawl-data-CC-MAIN-2024-51-segments-1733066035...</td>\n",
       "      <td>Media coverage\\n\\nParallels Coming to the 2014...</td>\n",
       "      <td>http://028zq.com/news/shownews.php?id=16&amp;lang=en</td>\n",
       "      <td>deee4ce0-c404-4ff3-8700-0b45e8ac6b5e</td>\n",
       "      <td>8</td>\n",
       "      <td>7</td>\n",
       "      <td>3</td>\n",
       "      <td>8</td>\n",
       "    </tr>\n",
       "    <tr>\n",
       "      <th>1</th>\n",
       "      <td>0.022132</td>\n",
       "      <td>2.468750</td>\n",
       "      <td>low_quality</td>\n",
       "      <td>2.587891</td>\n",
       "      <td>high_quality</td>\n",
       "      <td>EN_CC-0000000001</td>\n",
       "      <td>EN</td>\n",
       "      <td>crawl-data-CC-MAIN-2024-51-segments-1733066035...</td>\n",
       "      <td>techspace-skywatch\\n\\nA network of Autonomous ...</td>\n",
       "      <td>http://2014.spaceappschallenge.org/project/tec...</td>\n",
       "      <td>6c17be7f-7253-4703-aead-0aa6e53bcb5d</td>\n",
       "      <td>18</td>\n",
       "      <td>17</td>\n",
       "      <td>12</td>\n",
       "      <td>18</td>\n",
       "    </tr>\n",
       "    <tr>\n",
       "      <th>2</th>\n",
       "      <td>0.000411</td>\n",
       "      <td>0.722656</td>\n",
       "      <td>low_quality</td>\n",
       "      <td>0.885254</td>\n",
       "      <td>low_quality</td>\n",
       "      <td>EN_CC-0000000002</td>\n",
       "      <td>EN</td>\n",
       "      <td>crawl-data-CC-MAIN-2024-51-segments-1733066035...</td>\n",
       "      <td>lemon rosemary chicken\\n\\nLeave a Reply\\n\\nJoi...</td>\n",
       "      <td>http://400caloriesorless.com/?attachment_id=3867</td>\n",
       "      <td>f70dc315-8ee5-4cd1-b685-975f36f15e90</td>\n",
       "      <td>5</td>\n",
       "      <td>5</td>\n",
       "      <td>2</td>\n",
       "      <td>5</td>\n",
       "    </tr>\n",
       "    <tr>\n",
       "      <th>3</th>\n",
       "      <td>0.002615</td>\n",
       "      <td>0.399170</td>\n",
       "      <td>low_quality</td>\n",
       "      <td>0.780273</td>\n",
       "      <td>low_quality</td>\n",
       "      <td>EN_CC-0000000004</td>\n",
       "      <td>EN</td>\n",
       "      <td>crawl-data-CC-MAIN-2024-51-segments-1733066035...</td>\n",
       "      <td>Teen Patti Master – Update APK Download &amp; Get ...</td>\n",
       "      <td>http://789mgmslots.com/2024/08/26/teen-patti-m...</td>\n",
       "      <td>48640b9c-d821-4c3a-bf31-a16e3eb30f0f</td>\n",
       "      <td>4</td>\n",
       "      <td>3</td>\n",
       "      <td>6</td>\n",
       "      <td>6</td>\n",
       "    </tr>\n",
       "    <tr>\n",
       "      <th>4</th>\n",
       "      <td>0.001981</td>\n",
       "      <td>0.218994</td>\n",
       "      <td>low_quality</td>\n",
       "      <td>0.188599</td>\n",
       "      <td>low_quality</td>\n",
       "      <td>EN_CC-0000000005</td>\n",
       "      <td>EN</td>\n",
       "      <td>crawl-data-CC-MAIN-2024-51-segments-1733066035...</td>\n",
       "      <td>Lump sum payment specialists since 1992\\n\\nFor...</td>\n",
       "      <td>http://GRANOFFENTERPRISES.COM/</td>\n",
       "      <td>da02f4d5-57bb-4dde-9089-cacb273d2362</td>\n",
       "      <td>1</td>\n",
       "      <td>2</td>\n",
       "      <td>5</td>\n",
       "      <td>5</td>\n",
       "    </tr>\n",
       "  </tbody>\n",
       "</table>\n",
       "</div>"
      ],
      "text/plain": [
       "   fasttext-quality-score  fineweb-mixtral-edu-score  \\\n",
       "0                0.000809                   0.959473   \n",
       "1                0.022132                   2.468750   \n",
       "2                0.000411                   0.722656   \n",
       "3                0.002615                   0.399170   \n",
       "4                0.001981                   0.218994   \n",
       "\n",
       "  fineweb-mixtral-edu-score-label  fineweb-nemotron-edu-score  \\\n",
       "0                     low_quality                    1.218750   \n",
       "1                     low_quality                    2.587891   \n",
       "2                     low_quality                    0.885254   \n",
       "3                     low_quality                    0.780273   \n",
       "4                     low_quality                    0.188599   \n",
       "\n",
       "  fineweb-nemotron-edu-score-label                id language  \\\n",
       "0                      low_quality  EN_CC-0000000000       EN   \n",
       "1                     high_quality  EN_CC-0000000001       EN   \n",
       "2                      low_quality  EN_CC-0000000002       EN   \n",
       "3                      low_quality  EN_CC-0000000004       EN   \n",
       "4                      low_quality  EN_CC-0000000005       EN   \n",
       "\n",
       "                                           source_id  \\\n",
       "0  crawl-data-CC-MAIN-2024-51-segments-1733066035...   \n",
       "1  crawl-data-CC-MAIN-2024-51-segments-1733066035...   \n",
       "2  crawl-data-CC-MAIN-2024-51-segments-1733066035...   \n",
       "3  crawl-data-CC-MAIN-2024-51-segments-1733066035...   \n",
       "4  crawl-data-CC-MAIN-2024-51-segments-1733066035...   \n",
       "\n",
       "                                                text  \\\n",
       "0  Media coverage\\n\\nParallels Coming to the 2014...   \n",
       "1  techspace-skywatch\\n\\nA network of Autonomous ...   \n",
       "2  lemon rosemary chicken\\n\\nLeave a Reply\\n\\nJoi...   \n",
       "3  Teen Patti Master – Update APK Download & Get ...   \n",
       "4  Lump sum payment specialists since 1992\\n\\nFor...   \n",
       "\n",
       "                                                 url  \\\n",
       "0   http://028zq.com/news/shownews.php?id=16&lang=en   \n",
       "1  http://2014.spaceappschallenge.org/project/tec...   \n",
       "2   http://400caloriesorless.com/?attachment_id=3867   \n",
       "3  http://789mgmslots.com/2024/08/26/teen-patti-m...   \n",
       "4                     http://GRANOFFENTERPRISES.COM/   \n",
       "\n",
       "                                warc_id  fineweb-nemotron-edu-score-int  \\\n",
       "0  deee4ce0-c404-4ff3-8700-0b45e8ac6b5e                               8   \n",
       "1  6c17be7f-7253-4703-aead-0aa6e53bcb5d                              18   \n",
       "2  f70dc315-8ee5-4cd1-b685-975f36f15e90                               5   \n",
       "3  48640b9c-d821-4c3a-bf31-a16e3eb30f0f                               4   \n",
       "4  da02f4d5-57bb-4dde-9089-cacb273d2362                               1   \n",
       "\n",
       "   fineweb-mixtral-edu-score-int  fasttext-quality-score-int  ensemble-max-int  \n",
       "0                              7                           3                 8  \n",
       "1                             17                          12                18  \n",
       "2                              5                           2                 5  \n",
       "3                              3                           6                 6  \n",
       "4                              2                           5                 5  "
      ]
     },
     "execution_count": 42,
     "metadata": {},
     "output_type": "execute_result"
    }
   ],
   "source": [
    "scored_data.df.head()"
   ]
  },
  {
   "cell_type": "markdown",
   "id": "e1d33c68",
   "metadata": {},
   "source": [
    "#### [Optional] Write results to partitioned buckets"
   ]
  },
  {
   "cell_type": "markdown",
   "id": "a29fdbfe",
   "metadata": {},
   "source": [
    "Organize and store classified results in a structured, partitioned format to facilitate annealing-based training for downstream LLM fine-tuning and optimization."
   ]
  },
  {
   "cell_type": "code",
   "execution_count": null,
   "id": "536349c2",
   "metadata": {},
   "outputs": [],
   "source": [
    "scored_data.to_parquet(output_bucketed_results, partition_on=\"ensemble-max-int\")\n",
    "all_buckets = sorted(os.listdir(output_bucketed_results))"
   ]
  },
  {
   "cell_type": "markdown",
   "id": "7d872fc5",
   "metadata": {},
   "source": [
    "Examining the distribution of data across buckets reveals a relatively even spread. This indicates our filtering process has generated a diverse dataset with a broad spectrum of content quality."
   ]
  },
  {
   "cell_type": "code",
   "execution_count": 13,
   "id": "98e5ec6e",
   "metadata": {},
   "outputs": [
    {
     "name": "stdout",
     "output_type": "stream",
     "text": [
      "Number of entries in each bucket (sorted by bucket number):\n",
      "ensemble-max-int=0: 658\n",
      "ensemble-max-int=1: 1588\n",
      "ensemble-max-int=2: 1848\n",
      "ensemble-max-int=3: 2037\n",
      "ensemble-max-int=4: 2044\n",
      "ensemble-max-int=5: 2170\n",
      "ensemble-max-int=6: 2171\n",
      "ensemble-max-int=7: 2241\n",
      "ensemble-max-int=8: 2328\n",
      "ensemble-max-int=9: 2340\n",
      "ensemble-max-int=10: 2438\n",
      "ensemble-max-int=11: 2248\n",
      "ensemble-max-int=12: 2510\n",
      "ensemble-max-int=13: 2627\n",
      "ensemble-max-int=14: 2553\n",
      "ensemble-max-int=15: 2598\n",
      "ensemble-max-int=16: 2703\n",
      "ensemble-max-int=17: 2873\n",
      "ensemble-max-int=18: 3208\n",
      "ensemble-max-int=19: 3924\n"
     ]
    },
    {
     "data": {
      "image/png": "[encoded data removed]",
      "text/plain": [
       "<Figure size 1200x600 with 1 Axes>"
      ]
     },
     "metadata": {},
     "output_type": "display_data"
    }
   ],
   "source": [
    "import glob\n",
    "import os\n",
    "import matplotlib.pyplot as plt\n",
    "import pandas as pd\n",
    "import numpy as np\n",
    "\n",
    "bucket_counts = {}\n",
    "for bucket in sorted(os.listdir(output_bucketed_results)):\n",
    "    bucket_path = os.path.join(output_bucketed_results, bucket)\n",
    "    parquet_files = glob.glob(os.path.join(bucket_path, '*.parquet'))\n",
    "    \n",
    "    count = 0\n",
    "    for file in parquet_files:\n",
    "        try:\n",
    "            df = pd.read_parquet(file)\n",
    "            count += len(df)\n",
    "        except Exception as e:\n",
    "            print(f\"Error reading {file}: {e}\")\n",
    "    bucket_counts[bucket] = count\n",
    "\n",
    "# Sort buckets based on the integer value of the last character\n",
    "sorted_buckets = sorted(bucket_counts.keys(), key=lambda x: int(x.split('=')[-1]))\n",
    "\n",
    "print(\"Number of entries in each bucket (sorted by bucket number):\")\n",
    "for bucket in sorted_buckets:\n",
    "    print(f\"{bucket}: {bucket_counts[bucket]}\")\n",
    "\n",
    "# Create a bar plot of bucket counts, using the sorted bucket order\n",
    "plt.figure(figsize=(12, 6))\n",
    "buckets = sorted_buckets\n",
    "counts = [bucket_counts[bucket] for bucket in sorted_buckets]\n",
    "\n",
    "plt.bar(buckets, counts, color='skyblue')\n",
    "plt.xlabel(\"Bucket\")\n",
    "plt.ylabel(\"Number of Entries\")\n",
    "plt.title(\"Number of Entries per Bucket\")\n",
    "plt.xticks(rotation=45, ha='right')  # Rotate x-axis labels for better readability\n",
    "plt.tight_layout()  # Adjust layout to prevent labels from overlapping\n",
    "plt.show()"
   ]
  },
  {
   "cell_type": "markdown",
   "id": "fa3eb7e5",
   "metadata": {},
   "source": [
    "This step labels the data with quality scores but does not alter the dataset size through filtering."
   ]
  },
  {
   "cell_type": "code",
   "execution_count": null,
   "id": "ba82e781",
   "metadata": {},
   "outputs": [],
   "source": [
    "tracker.record_size(\"Model quality labeling\") # tracker takes the last stage's size as current stage's size when no size is provided.\n",
    "tracker.print_summary()"
   ]
  },
  {
   "cell_type": "markdown",
   "id": "92a8e383",
   "metadata": {},
   "source": [
    "## 3. Synthetic Data Generation"
   ]
  },
  {
   "cell_type": "markdown",
   "id": "b2669027",
   "metadata": {},
   "source": [
    "Next, we perform synthetic data generation on low-quality and high-quality data separately. \n",
    "\n",
    "For low-quality data, we use a Wikipedia Rephraser pipeline. This pipeline employs a medium-sized language model to generate an improved parallel corpus of synthetic data, which reduces model perplexity and increases accuracy on downstream tasks. We use the Wikipedia style prompt to rewrite low-quality documents, effectively reducing errors and redundancies while improving formatting."
   ]
  },
  {
   "cell_type": "markdown",
   "id": "287efe6f",
   "metadata": {},
   "source": [
    "#### 3.1 SDG for Low quality data"
   ]
  },
  {
   "cell_type": "markdown",
   "id": "19b97e29",
   "metadata": {},
   "source": [
    "To streamline the process of identifying low-quality data, we adopt the bucket classification system outlined in the paper, eliminating the need for extensive LLM training. Based on the provided table, we designate buckets 0-11 as representative of low-quality data and buckets 12-19 as indicative of high-quality data. Feel free to adjust these ranges to suit your specific requirements."
   ]
  },
  {
   "cell_type": "markdown",
   "id": "fcf667b7",
   "metadata": {},
   "source": [
    "# <img src=\"images/bucket_classification.png\" alt=\"Bucket Classification\">\n"
   ]
  },
  {
   "cell_type": "code",
   "execution_count": 8,
   "id": "987d9052",
   "metadata": {},
   "outputs": [],
   "source": [
    "# Choose your bucket threshold\n",
    "threshold = 11\n",
    "\n",
    "input_data_dir = os.path.join(data_dir, \"quality_labeling\", \"bucketed_results\")\n",
    "low_quality_data_dir = os.path.join(data_dir, \"quality_labeling\", \"low_quality\")\n",
    "high_quality_data_dir = os.path.join(data_dir, \"quality_labeling\", \"high_quality\")\n",
    "\n",
    "os.makedirs(low_quality_data_dir, exist_ok=True)\n",
    "os.makedirs(high_quality_data_dir, exist_ok=True)\n",
    "\n",
    "import re\n",
    "import shutil\n",
    "\n",
    "for f in os.listdir(input_data_dir):\n",
    "    input_bucket_dir = os.path.join(input_data_dir, f)\n",
    "    if os.path.isdir(input_bucket_dir):\n",
    "        match = re.search(r'(\\d+)$', f)  # Extract trailing digits\n",
    "        if match:\n",
    "            bucket_number = int(match.group(1))  # Convert to integer\n",
    "            if 0 <= bucket_number <= threshold:\n",
    "                shutil.copytree(input_bucket_dir, low_quality_data_dir, dirs_exist_ok=True)\n",
    "            elif 12 <= bucket_number <= 19:\n",
    "                shutil.copytree(input_bucket_dir, high_quality_data_dir, dirs_exist_ok=True)\n",
    "            else:\n",
    "                print(f\"Warning: Unexpected bucket number: {bucket_number} in directory {f}. Skipping.\")\n",
    "        else:\n",
    "            print(f\"Warning: Unexpected file/directory name format: {f}. Skipping.\")"
   ]
  },
  {
   "cell_type": "code",
   "execution_count": null,
   "id": "63014d4b",
   "metadata": {},
   "outputs": [],
   "source": [
    "client = get_client(cluster_type=\"cpu\", n_workers=1, processes=True, memory_limit='16GiB')\n",
    "client"
   ]
  },
  {
   "cell_type": "code",
   "execution_count": 5,
   "id": "9f3b9363",
   "metadata": {},
   "outputs": [],
   "source": [
    "# input_data_path = output_bucketed_results\n",
    "from openai import OpenAI\n",
    "from transformers import AutoTokenizer\n",
    "\n",
    "low_quality_data_dir = os.path.join(data_dir, \"quality_labeling\", \"low_quality\")\n",
    "high_quality_data_dir = os.path.join(data_dir, \"quality_labeling\", \"high_quality\")\n",
    "low_quality_output_data_dir = os.path.join(data_dir, \"sdg\", \"low_quality\")\n",
    "high_quality_output_data_dir = os.path.join(data_dir, \"sdg\", \"high_quality\")\n",
    "openai_api_token = \"<your-api-token>\"\n",
    "hf_token = \"<your-hf-token>\"\n",
    "openai_client = OpenAI(base_url=\"https://integrate.api.nvidia.com/v1\", api_key=openai_api_token)\n",
    "tokenizer = AutoTokenizer.from_pretrained(\"mistralai/Mistral-Nemo-Instruct-2407\", token=hf_token)\n",
    "api_model_name = \"nvdev/nv-mistralai/mistral-nemo-12b-instruct\"\n",
    "\n",
    "!mkdir -p {low_quality_output_data_dir}\n",
    "!mkdir -p {high_quality_output_data_dir}"
   ]
  },
  {
   "cell_type": "markdown",
   "id": "cfa8f665",
   "metadata": {},
   "source": [
    "#### 3.1 SDG for Low quality data"
   ]
  },
  {
   "cell_type": "code",
   "execution_count": null,
   "id": "72d5aa8b",
   "metadata": {},
   "outputs": [],
   "source": [
    "from nemotron_sdg_utilities import wikipedia_rephraser\n",
    "\n",
    "low_quality_dataset = DocumentDataset.read_parquet(\n",
    "        input_files=low_quality_data_dir,\n",
    "        blocksize=\"1GiB\",\n",
    "        backend=\"pandas\"\n",
    "    )\n",
    "\n",
    "rephrased_dataset = wikipedia_rephraser(low_quality_dataset,\"text\",openai_client,tokenizer,api_model_name,n_entries)"
   ]
  },
  {
   "cell_type": "code",
   "execution_count": 9,
   "id": "057118a1",
   "metadata": {},
   "outputs": [],
   "source": [
    "rephrased_df = rephrased_dataset.df[[\"id\", \"rephrased\"]]\n",
    "low_quality_dataset.df = low_quality_dataset.df.merge(rephrased_df, on=\"id\", how=\"left\")"
   ]
  },
  {
   "cell_type": "code",
   "execution_count": 15,
   "id": "7dd407c3",
   "metadata": {},
   "outputs": [
    {
     "name": "stdout",
     "output_type": "stream",
     "text": [
      "Writing to disk complete for 1 partition(s)\n"
     ]
    }
   ],
   "source": [
    "low_quality_dataset.to_parquet(low_quality_output_data_dir, write_to_filename=False)"
   ]
  },
  {
   "cell_type": "code",
   "execution_count": 17,
   "id": "ceeb9812",
   "metadata": {},
   "outputs": [],
   "source": [
    "client.cluster.close()\n",
    "client.shutdown()"
   ]
  },
  {
   "cell_type": "markdown",
   "id": "eff7829d",
   "metadata": {},
   "source": [
    "#### 3.2 SDG for High quality data"
   ]
  },
  {
   "cell_type": "markdown",
   "id": "5d74b59d",
   "metadata": {},
   "source": [
    "For high-quality documents, we generate synthetic data using four additional SDG steps:\n",
    "\n",
    "1.  **Diverse Question-Answer (QA) pairs:** Ask questions in various forms (e.g., yes/no, open-ended, multi-choice) about factual information in the text and provide the correct answers.\n",
    "2.  **Distill:** Rewrite the text into a concise and clear passage.\n",
    "3.  **Extract knowledge:** Rewrite knowledge from the text, disregarding uninformative content.\n",
    "4.  **Knowledge list:** Extract key information from the text as an organized list.\n",
    "\n",
    "The preprocessing and postprocessing pipelines for all four SDG steps are implemented as helper functions in `nemotron_sdg_utilities.py`. Review this file to understand how the pipelines are constructed using NeMo Curator."
   ]
  },
  {
   "cell_type": "markdown",
   "id": "90b0c764",
   "metadata": {},
   "source": [
    "The Wikipedia rephraser calls the model via the OpenAI API client for every single entry, which can be time-consuming for large datasets. \n",
    "For this tutorial, we will only rephrase the first few entries, as determined by `n_entries`. \n",
    "Adjust this number based on your infrastructure. \n",
    "If your model is deployed locally then API calls will be faster, so you can choose to process the entire dataset if you prefer."
   ]
  },
  {
   "cell_type": "code",
   "execution_count": 6,
   "id": "550d58f8",
   "metadata": {},
   "outputs": [
    {
     "name": "stdout",
     "output_type": "stream",
     "text": [
      "Original Length: 22996\n",
      "Small dataset length: 2\n"
     ]
    }
   ],
   "source": [
    "# Load the original data with pandas\n",
    "high_quality_df = pd.read_parquet(os.path.join(high_quality_data_dir))\n",
    "print(\"Original Length:\", len(high_quality_df))\n",
    "\n",
    "# Take a sample for processing\n",
    "x = 0.0001  # 0.01% of the dataset\n",
    "sample_indices = high_quality_df.sample(frac=x).index\n",
    "sample_df = high_quality_df.loc[sample_indices].copy()\n",
    "print(\"Small dataset length:\", len(sample_df))\n",
    "\n",
    "# Create DocumentDataset from the sample\n",
    "high_quality_sample_dataset = DocumentDataset.from_pandas(sample_df)"
   ]
  },
  {
   "cell_type": "code",
   "execution_count": 9,
   "id": "675914e2",
   "metadata": {},
   "outputs": [
    {
     "name": "stdout",
     "output_type": "stream",
     "text": [
      "Running diverse_qa preprocessing pipeline\n"
     ]
    },
    {
     "name": "stderr",
     "output_type": "stream",
     "text": [
      "Querying LLM for diverse_qa:   0%|          | 0/3 [00:00<?, ?it/s]/opt/NeMo-Curator/nemo_curator/services/openai_client.py:52: UserWarning: top_k is not used in an OpenAIClient\n",
      "  warnings.warn(\"top_k is not used in an OpenAIClient\")\n",
      "Querying LLM for diverse_qa: 100%|██████████| 3/3 [00:18<00:00,  6.33s/it]\n"
     ]
    },
    {
     "name": "stdout",
     "output_type": "stream",
     "text": [
      "diverse_qa generation complete.\n",
      "Running distill preprocessing pipeline\n"
     ]
    },
    {
     "name": "stderr",
     "output_type": "stream",
     "text": [
      "Querying LLM for distill:   0%|          | 0/2 [00:00<?, ?it/s]/opt/NeMo-Curator/nemo_curator/services/openai_client.py:52: UserWarning: top_k is not used in an OpenAIClient\n",
      "  warnings.warn(\"top_k is not used in an OpenAIClient\")\n",
      "Querying LLM for distill: 100%|██████████| 2/2 [00:14<00:00,  7.40s/it]\n"
     ]
    },
    {
     "name": "stdout",
     "output_type": "stream",
     "text": [
      "distill generation complete.\n",
      "Running extract_knowledge preprocessing pipeline\n"
     ]
    },
    {
     "name": "stderr",
     "output_type": "stream",
     "text": [
      "Querying LLM for extract_knowledge:   0%|          | 0/2 [00:00<?, ?it/s]/opt/NeMo-Curator/nemo_curator/services/openai_client.py:52: UserWarning: top_k is not used in an OpenAIClient\n",
      "  warnings.warn(\"top_k is not used in an OpenAIClient\")\n",
      "Querying LLM for extract_knowledge: 100%|██████████| 2/2 [00:19<00:00,  9.57s/it]\n"
     ]
    },
    {
     "name": "stdout",
     "output_type": "stream",
     "text": [
      "extract_knowledge generation complete.\n",
      "Running knowledge_list preprocessing pipeline\n"
     ]
    },
    {
     "name": "stderr",
     "output_type": "stream",
     "text": [
      "Querying LLM for knowledge_list:   0%|          | 0/2 [00:00<?, ?it/s]/opt/NeMo-Curator/nemo_curator/services/openai_client.py:52: UserWarning: top_k is not used in an OpenAIClient\n",
      "  warnings.warn(\"top_k is not used in an OpenAIClient\")\n",
      "Querying LLM for knowledge_list: 100%|██████████| 2/2 [00:15<00:00,  7.52s/it]\n"
     ]
    },
    {
     "name": "stdout",
     "output_type": "stream",
     "text": [
      "knowledge_list generation complete.\n"
     ]
    }
   ],
   "source": [
    "from nemotron_sdg_utilities import generate_content\n",
    "\n",
    "high_quality_sample_dataset = generate_content(\n",
    "    high_quality_sample_dataset,\n",
    "    \"text\",\n",
    "    openai_client,\n",
    "    tokenizer,\n",
    "    api_model_name, \n",
    "    task_type=\"diverse_qa\"\n",
    ")\n",
    "\n",
    "high_quality_sample_dataset = generate_content(\n",
    "    high_quality_sample_dataset,\n",
    "    \"text\",\n",
    "    openai_client,\n",
    "    tokenizer,\n",
    "    api_model_name, \n",
    "    task_type=\"distill\"\n",
    ")\n",
    "\n",
    "high_quality_sample_dataset = generate_content(\n",
    "    high_quality_sample_dataset,\n",
    "    \"text\",\n",
    "    openai_client,\n",
    "    tokenizer,\n",
    "    api_model_name, \n",
    "    task_type=\"extract_knowledge\"\n",
    ")\n",
    "\n",
    "high_quality_sample_dataset = generate_content(\n",
    "    high_quality_sample_dataset,\n",
    "    \"text\",\n",
    "    openai_client,\n",
    "    tokenizer,\n",
    "    api_model_name, \n",
    "    task_type=\"knowledge_list\"\n",
    ")\n",
    "\n",
    "processed_sample_df = high_quality_sample_dataset.df.compute()"
   ]
  },
  {
   "cell_type": "markdown",
   "id": "0cec4f78",
   "metadata": {},
   "source": [
    "Since we're working with a small sample dataset, we need to merge it back with the full dataset before saving.\n",
    "Note: This merge step would be unnecessary if processing the complete dataset."
   ]
  },
  {
   "cell_type": "code",
   "execution_count": 111,
   "id": "0a2219a6",
   "metadata": {},
   "outputs": [],
   "source": [
    "# Merge new columns from processed samples into high quality dataframe using pd.merge\n",
    "merged_df = pd.merge(\n",
    "    high_quality_df,\n",
    "    processed_sample_df[['id', 'diverse_qa', 'distill', 'extract_knowledge', 'knowledge_list']],\n",
    "    on='id',\n",
    "    how='left'\n",
    ")"
   ]
  },
  {
   "cell_type": "code",
   "execution_count": 112,
   "id": "f043a5ed",
   "metadata": {},
   "outputs": [],
   "source": [
    "merged_df.to_parquet(os.path.join(high_quality_output_data_dir,\"result.parquet\"))"
   ]
  },
  {
   "cell_type": "markdown",
   "id": "5af38bc7",
   "metadata": {},
   "source": [
    "#### 3.3 Merge low quality and high quality datasets into a final dataset"
   ]
  },
  {
   "cell_type": "code",
   "execution_count": 113,
   "id": "dc8833df",
   "metadata": {},
   "outputs": [],
   "source": [
    "high_quality_df = pd.read_parquet(os.path.join(data_dir,\"sdg\",\"high_quality\", \"result.parquet\"))\n",
    "low_quality_df = pd.read_parquet(os.path.join(data_dir,\"sdg\",\"low_quality\", \"result.parquet\"))\n",
    "\n",
    "# Add quality column to both dataframes\n",
    "high_quality_df['quality'] = 'HIGH'\n",
    "low_quality_df['quality'] = 'LOW'\n",
    "\n",
    "# Concatenate vertically\n",
    "final_df = pd.concat([high_quality_df, low_quality_df], axis=0, ignore_index=True)"
   ]
  },
  {
   "cell_type": "code",
   "execution_count": 114,
   "id": "fcfb61c1",
   "metadata": {},
   "outputs": [
    {
     "name": "stdout",
     "output_type": "stream",
     "text": [
      "fasttext-quality-score\n",
      "fineweb-mixtral-edu-score\n",
      "fineweb-mixtral-edu-score-label\n",
      "fineweb-nemotron-edu-score\n",
      "fineweb-nemotron-edu-score-label\n",
      "id\n",
      "language\n",
      "source_id\n",
      "text\n",
      "url\n",
      "warc_id\n",
      "fineweb-nemotron-edu-score-int\n",
      "fineweb-mixtral-edu-score-int\n",
      "fasttext-quality-score-int\n",
      "diverse_qa\n",
      "distill\n",
      "extract_knowledge\n",
      "knowledge_list\n",
      "quality\n",
      "document_token_count\n",
      "rephrased\n"
     ]
    }
   ],
   "source": [
    "for col in final_df.columns:\n",
    "    print(col)"
   ]
  },
  {
   "cell_type": "markdown",
   "id": "4df453a6",
   "metadata": {},
   "source": [
    "The final dataset contains numerous columns, but we only need to retain the essential ones before saving it as our final dataset."
   ]
  },
  {
   "cell_type": "code",
   "execution_count": 115,
   "id": "9e6a6136",
   "metadata": {},
   "outputs": [
    {
     "name": "stderr",
     "output_type": "stream",
     "text": [
      "huggingface/tokenizers: The current process just got forked, after parallelism has already been used. Disabling parallelism to avoid deadlocks...\n",
      "To disable this warning, you can either:\n",
      "\t- Avoid using `tokenizers` before the fork if possible\n",
      "\t- Explicitly set the environment variable TOKENIZERS_PARALLELISM=(true | false)\n"
     ]
    }
   ],
   "source": [
    "!mkdir -p {data_dir}/final\n",
    "final_df[[\"id\",\"text\",\"language\",\"rephrased\",\"diverse_qa\",\"distill\",\"extract_knowledge\",\"knowledge_list\",\"quality\"]].to_json(os.path.join(data_dir,\"final\",\"final_dataset.jsonl\"), orient='records', lines=True)"
   ]
  },
  {
   "cell_type": "code",
   "execution_count": 23,
   "id": "b83f692c",
   "metadata": {},
   "outputs": [
    {
     "data": {
      "text/html": [
       "<div>\n",
       "<style scoped>\n",
       "    .dataframe tbody tr th:only-of-type {\n",
       "        vertical-align: middle;\n",
       "    }\n",
       "\n",
       "    .dataframe tbody tr th {\n",
       "        vertical-align: top;\n",
       "    }\n",
       "\n",
       "    .dataframe thead th {\n",
       "        text-align: right;\n",
       "    }\n",
       "</style>\n",
       "<table border=\"1\" class=\"dataframe\">\n",
       "  <thead>\n",
       "    <tr style=\"text-align: right;\">\n",
       "      <th></th>\n",
       "      <th>id</th>\n",
       "      <th>text</th>\n",
       "      <th>language</th>\n",
       "      <th>rephrased</th>\n",
       "      <th>diverse_qa</th>\n",
       "      <th>distill</th>\n",
       "      <th>extract_knowledge</th>\n",
       "      <th>knowledge_list</th>\n",
       "      <th>quality</th>\n",
       "    </tr>\n",
       "  </thead>\n",
       "  <tbody>\n",
       "    <tr>\n",
       "      <th>0</th>\n",
       "      <td>EN_CC-0000000048</td>\n",
       "      <td>This is an initiative of NOVA ZAGORA associati...</td>\n",
       "      <td>EN</td>\n",
       "      <td>None</td>\n",
       "      <td>None</td>\n",
       "      <td>None</td>\n",
       "      <td>None</td>\n",
       "      <td>None</td>\n",
       "      <td>HIGH</td>\n",
       "    </tr>\n",
       "    <tr>\n",
       "      <th>1</th>\n",
       "      <td>EN_CC-0000000102</td>\n",
       "      <td>CitruSlim – CitruSlim\\n\\nAll orders are protec...</td>\n",
       "      <td>EN</td>\n",
       "      <td>None</td>\n",
       "      <td>None</td>\n",
       "      <td>None</td>\n",
       "      <td>None</td>\n",
       "      <td>None</td>\n",
       "      <td>HIGH</td>\n",
       "    </tr>\n",
       "    <tr>\n",
       "      <th>2</th>\n",
       "      <td>EN_CC-0000000113</td>\n",
       "      <td>NAME\\nMaypole - MVC web application framework\\...</td>\n",
       "      <td>EN</td>\n",
       "      <td>None</td>\n",
       "      <td>None</td>\n",
       "      <td>None</td>\n",
       "      <td>None</td>\n",
       "      <td>None</td>\n",
       "      <td>HIGH</td>\n",
       "    </tr>\n",
       "    <tr>\n",
       "      <th>3</th>\n",
       "      <td>EN_CC-0000000115</td>\n",
       "      <td>E.J. Gold's JazzArt Scrapbook\\n\\nInquire for a...</td>\n",
       "      <td>EN</td>\n",
       "      <td>None</td>\n",
       "      <td>None</td>\n",
       "      <td>None</td>\n",
       "      <td>None</td>\n",
       "      <td>None</td>\n",
       "      <td>HIGH</td>\n",
       "    </tr>\n",
       "    <tr>\n",
       "      <th>4</th>\n",
       "      <td>EN_CC-0000000117</td>\n",
       "      <td>Tour\\n\\nWelcome\\n\\nWelcome to this brief tour ...</td>\n",
       "      <td>EN</td>\n",
       "      <td>None</td>\n",
       "      <td>None</td>\n",
       "      <td>None</td>\n",
       "      <td>None</td>\n",
       "      <td>None</td>\n",
       "      <td>HIGH</td>\n",
       "    </tr>\n",
       "  </tbody>\n",
       "</table>\n",
       "</div>"
      ],
      "text/plain": [
       "                 id                                               text  \\\n",
       "0  EN_CC-0000000048  This is an initiative of NOVA ZAGORA associati...   \n",
       "1  EN_CC-0000000102  CitruSlim – CitruSlim\\n\\nAll orders are protec...   \n",
       "2  EN_CC-0000000113  NAME\\nMaypole - MVC web application framework\\...   \n",
       "3  EN_CC-0000000115  E.J. Gold's JazzArt Scrapbook\\n\\nInquire for a...   \n",
       "4  EN_CC-0000000117  Tour\\n\\nWelcome\\n\\nWelcome to this brief tour ...   \n",
       "\n",
       "  language rephrased diverse_qa distill extract_knowledge knowledge_list  \\\n",
       "0       EN      None       None    None              None           None   \n",
       "1       EN      None       None    None              None           None   \n",
       "2       EN      None       None    None              None           None   \n",
       "3       EN      None       None    None              None           None   \n",
       "4       EN      None       None    None              None           None   \n",
       "\n",
       "  quality  \n",
       "0    HIGH  \n",
       "1    HIGH  \n",
       "2    HIGH  \n",
       "3    HIGH  \n",
       "4    HIGH  "
      ]
     },
     "execution_count": 23,
     "metadata": {},
     "output_type": "execute_result"
    }
   ],
   "source": [
    "final = pd.read_json(os.path.join(data_dir,\"final\",\"final_dataset.jsonl\"), orient='records', lines=True)\n",
    "final.head()\n"
   ]
  },
  {
   "cell_type": "markdown",
   "id": "01b076ee",
   "metadata": {},
   "source": [
    "## Visualization"
   ]
  },
  {
   "cell_type": "markdown",
   "id": "8f0f356d",
   "metadata": {},
   "source": [
    "Use the helper utility to visualize the text transformation between original and rephrased content during the Synthetic Data Generation (SDG) process, comparing low and high quality examples."
   ]
  },
  {
   "cell_type": "code",
   "execution_count": 25,
   "id": "b23b66e6",
   "metadata": {},
   "outputs": [
    {
     "data": {
      "text/html": [
       "\n",
       "    <style>\n",
       "        /* Main container */\n",
       "        #text-comparison-3e4fcd24-container {\n",
       "            font-family: -apple-system, BlinkMacSystemFont, \"Segoe UI\", Roboto, Helvetica, Arial, sans-serif;\n",
       "            background-color: #2d3748;\n",
       "            border-radius: 8px;\n",
       "            overflow: hidden;\n",
       "            box-shadow: 0 4px 12px rgba(0, 0, 0, 0.15);\n",
       "            margin: 20px 0;\n",
       "            width: 100%;\n",
       "            border: 1px solid #4a5568;\n",
       "        }\n",
       "        \n",
       "        /* Table styling */\n",
       "        #text-comparison-3e4fcd24 {\n",
       "            width: 100%;\n",
       "            border-collapse: collapse;\n",
       "            border-spacing: 0;\n",
       "            background-color: #2d3748;\n",
       "        }\n",
       "        \n",
       "        /* Header styling */\n",
       "        #text-comparison-3e4fcd24 th {\n",
       "            background-color: #1a202c;\n",
       "            color: #a0aec0;\n",
       "            font-weight: 600;\n",
       "            font-size: 14px;\n",
       "            text-align: left;\n",
       "            padding: 16px;\n",
       "            border-bottom: 2px solid #4a5568;\n",
       "            text-transform: uppercase;\n",
       "            letter-spacing: 0.5px;\n",
       "        }\n",
       "        \n",
       "        /* Cell styling */\n",
       "        #text-comparison-3e4fcd24 td {\n",
       "            padding: 0;\n",
       "            border-bottom: 1px solid #4a5568;\n",
       "            vertical-align: top;\n",
       "        }\n",
       "        \n",
       "        /* ID column */\n",
       "        #text-comparison-3e4fcd24 .row-id {\n",
       "            font-weight: 600;\n",
       "            padding: 16px;\n",
       "            background-color: #2d3748;\n",
       "            color: #e2e8f0;\n",
       "            font-size: 13px;\n",
       "            text-align: center;\n",
       "            width: 100px;\n",
       "            max-width: 100px;\n",
       "            overflow: hidden;\n",
       "            text-overflow: ellipsis;\n",
       "            box-shadow: 1px 0 0 #4a5568;\n",
       "        }\n",
       "        \n",
       "        /* Text cells */\n",
       "        #text-comparison-3e4fcd24 .text-cell {\n",
       "            overflow-y: auto;\n",
       "            max-height: 800px;\n",
       "            padding: 16px;\n",
       "            white-space: pre-wrap;\n",
       "            word-wrap: break-word;\n",
       "            background-color: #2d3748;\n",
       "            color: #e2e8f0;\n",
       "            font-size: 14px;\n",
       "            line-height: 1.6;\n",
       "            transition: background-color 0.2s;\n",
       "        }\n",
       "        \n",
       "        /* Hover effects */\n",
       "        #text-comparison-3e4fcd24 tr:hover .text-cell {\n",
       "            background-color: #384860;\n",
       "        }\n",
       "        \n",
       "        #text-comparison-3e4fcd24 tr:hover .row-id {\n",
       "            background-color: #384860;\n",
       "        }\n",
       "        \n",
       "        /* Controls styling */\n",
       "        #text-comparison-3e4fcd24-controls {\n",
       "            padding: 12px 16px;\n",
       "            display: flex;\n",
       "            justify-content: space-between;\n",
       "            align-items: center;\n",
       "            background-color: #1a202c;\n",
       "            border-bottom: 1px solid #4a5568;\n",
       "        }\n",
       "        \n",
       "        #text-comparison-3e4fcd24-title {\n",
       "            font-weight: 600;\n",
       "            font-size: 16px;\n",
       "            color: #a0aec0;\n",
       "        }\n",
       "        \n",
       "        #text-comparison-3e4fcd24-buttons {\n",
       "            display: flex;\n",
       "            gap: 8px;\n",
       "        }\n",
       "        \n",
       "        #text-comparison-3e4fcd24-buttons button {\n",
       "            padding: 8px 12px;\n",
       "            border-radius: 6px;\n",
       "            border: none;\n",
       "            background-color: #4a5568;\n",
       "            color: #e2e8f0;\n",
       "            font-size: 13px;\n",
       "            font-weight: 500;\n",
       "            cursor: pointer;\n",
       "            transition: all 0.2s;\n",
       "            display: flex;\n",
       "            align-items: center;\n",
       "            justify-content: center;\n",
       "            box-shadow: 0 1px 3px rgba(0,0,0,0.12);\n",
       "        }\n",
       "        \n",
       "        #text-comparison-3e4fcd24-buttons button:hover {\n",
       "            background-color: #718096;\n",
       "        }\n",
       "        \n",
       "        /* Custom scrollbar styling */\n",
       "        #text-comparison-3e4fcd24 .text-cell::-webkit-scrollbar {\n",
       "            width: 8px;\n",
       "        }\n",
       "        \n",
       "        #text-comparison-3e4fcd24 .text-cell::-webkit-scrollbar-track {\n",
       "            background: #2d3748;\n",
       "            border-radius: 4px;\n",
       "        }\n",
       "        \n",
       "        #text-comparison-3e4fcd24 .text-cell::-webkit-scrollbar-thumb {\n",
       "            background: #4a5568;\n",
       "            border-radius: 4px;\n",
       "        }\n",
       "        \n",
       "        #text-comparison-3e4fcd24 .text-cell::-webkit-scrollbar-thumb:hover {\n",
       "            background: #718096;\n",
       "        }\n",
       "        \n",
       "        /* Difference highlight */\n",
       "        #text-comparison-3e4fcd24 .diff-highlight {\n",
       "            background-color: rgba(255, 230, 0, 0.3);\n",
       "            border-radius: 2px;\n",
       "        }\n",
       "        \n",
       "        /* Footer */\n",
       "        #text-comparison-3e4fcd24-footer {\n",
       "            font-size: 12px;\n",
       "            color: #a0aec0;\n",
       "            padding: 8px 16px;\n",
       "            text-align: right;\n",
       "            background-color: #1a202c;\n",
       "            border-top: 1px solid #4a5568;\n",
       "        }\n",
       "        \n",
       "        /* Responsive adjustments */\n",
       "        @media (max-width: 768px) {\n",
       "            #text-comparison-3e4fcd24 .row-id {\n",
       "                width: 60px;\n",
       "                max-width: 60px;\n",
       "                font-size: 12px;\n",
       "                padding: 12px 8px;\n",
       "            }\n",
       "            \n",
       "            #text-comparison-3e4fcd24 .text-cell {\n",
       "                padding: 12px;\n",
       "                font-size: 13px;\n",
       "            }\n",
       "            \n",
       "            #text-comparison-3e4fcd24 th {\n",
       "                padding: 12px;\n",
       "                font-size: 13px;\n",
       "            }\n",
       "        }\n",
       "    </style>\n",
       "    \n",
       "    <div id=\"text-comparison-3e4fcd24-container\">\n",
       "        <div id=\"text-comparison-3e4fcd24-controls\">\n",
       "            <div id=\"text-comparison-3e4fcd24-title\">Text Comparison</div>\n",
       "            <div id=\"text-comparison-3e4fcd24-buttons\">\n",
       "                <button onclick=\"toggleWordWrap('text-comparison-3e4fcd24')\">\n",
       "                    <svg width=\"14\" height=\"14\" viewBox=\"0 0 24 24\" fill=\"none\" stroke=\"currentColor\" stroke-width=\"2\" stroke-linecap=\"round\" stroke-linejoin=\"round\">\n",
       "                        <polyline points=\"17 1 21 5 17 9\"></polyline>\n",
       "                        <path d=\"M3 11V9a4 4 0 0 1 4-4h14\"></path>\n",
       "                        <polyline points=\"7 23 3 19 7 15\"></polyline>\n",
       "                        <path d=\"M21 13v2a4 4 0 0 1-4 4H3\"></path>\n",
       "                    </svg>\n",
       "                    <span style=\"margin-left: 5px;\">Word Wrap</span>\n",
       "                </button>\n",
       "                <button onclick=\"increaseFontSize('text-comparison-3e4fcd24')\">\n",
       "                    <svg width=\"14\" height=\"14\" viewBox=\"0 0 24 24\" fill=\"none\" stroke=\"currentColor\" stroke-width=\"2\" stroke-linecap=\"round\" stroke-linejoin=\"round\">\n",
       "                        <circle cx=\"12\" cy=\"12\" r=\"10\"></circle>\n",
       "                        <line x1=\"12\" y1=\"8\" x2=\"12\" y2=\"16\"></line>\n",
       "                        <line x1=\"8\" y1=\"12\" x2=\"16\" y2=\"12\"></line>\n",
       "                    </svg>\n",
       "                    <span style=\"margin-left: 5px;\">Larger</span>\n",
       "                </button>\n",
       "                <button onclick=\"decreaseFontSize('text-comparison-3e4fcd24')\">\n",
       "                    <svg width=\"14\" height=\"14\" viewBox=\"0 0 24 24\" fill=\"none\" stroke=\"currentColor\" stroke-width=\"2\" stroke-linecap=\"round\" stroke-linejoin=\"round\">\n",
       "                        <circle cx=\"12\" cy=\"12\" r=\"10\"></circle>\n",
       "                        <line x1=\"8\" y1=\"12\" x2=\"16\" y2=\"12\"></line>\n",
       "                    </svg>\n",
       "                    <span style=\"margin-left: 5px;\">Smaller</span>\n",
       "                </button>\n",
       "            </div>\n",
       "        </div>\n",
       "        \n",
       "        <table id=\"text-comparison-3e4fcd24\">\n",
       "            <thead>\n",
       "                <tr>\n",
       "                    <th>Id</th>\n",
       "                    <th>Original</th>\n",
       "                    <th>Rephrased with Wikipedia rephraser</th>\n",
       "                </tr>\n",
       "            </thead>\n",
       "            <tbody>\n",
       "    \n",
       "        <tr>\n",
       "            <td class=\"row-id\">EN_CC-0000000181</td>\n",
       "            <td><div class=\"text-cell\">OMG!!! I am so so so so so made up to see that this plugin is not dead!! I love MEXP, and was just about to retire it due to sound skipping on very old version, which I believe to be a problem with new version of winamp and old ver of mexp and sqrsoft crossfader, is anyone else having this issue? please put me out of my misery, i have tried everything to find out what is wrong, replacing fans, memory hard drives and even gonna try laptop, mail me on my website http://www.ctadisco.co.uk – this program is the GOD and i have never found any program since to replace it!! – so glad to have you back regards Will – CTA Disco & Karaoke\n",
       "\n",
       "Anders – you said you'd upload a new version in August. Nothing yet. I know you're really busy so I don't feel right about pressuring you, but it was so good to see the MEXP ball rolling again after so many years of nothing! Has anyone being working on the open source project? And can you upload the new version soon?\n",
       "Thanks!</div></td>\n",
       "            <td><div class=\"text-cell\">Oh, what a relief! I'm thrilled to discover that this plugin is still alive and kicking! I'm a huge fan of MEXP, but I was on the verge of abandoning it due to persistent sound skipping issues on older versions. I suspect this might be due to compatibility issues with newer versions of Winamp and the outdated MEXP and Sqrsoft Crossfader. I'm not alone in this struggle, am I? I've exhausted all troubleshooting efforts, from replacing hardware components to contemplating a laptop switch. If anyone has insights, please share. You can reach me via my website, http://www.ctadisco.co.uk. This software is truly unparalleled, and I've yet to find a suitable replacement. Here's to a new beginning, regards, Will – CTA Disco & Karaoke.\n",
       "\n",
       "Anders, you had mentioned an August upload for a new version. It's been a while, and I understand that you're incredibly busy. I wouldn't dream of rushing you, but it was such a joy to see MEXP's revival after years of inactivity. Has anyone been working on the open-source project? I eagerly await the new version's release. Thank you!</div></td>\n",
       "        </tr>\n",
       "        \n",
       "            </tbody>\n",
       "        </table>\n",
       "        <div id=\"text-comparison-3e4fcd24-footer\">\n",
       "            Use mouse wheel to scroll each cell independently\n",
       "        </div>\n",
       "    </div>\n",
       "    \n",
       "    <script>\n",
       "        function toggleWordWrap(widgetId) {\n",
       "            const cells = document.querySelectorAll(`#${widgetId} .text-cell`);\n",
       "            cells.forEach(cell => {\n",
       "                if (cell.style.whiteSpace === 'nowrap') {\n",
       "                    cell.style.whiteSpace = 'pre-wrap';\n",
       "                } else {\n",
       "                    cell.style.whiteSpace = 'nowrap';\n",
       "                }\n",
       "            });\n",
       "        }\n",
       "        \n",
       "        function increaseFontSize(widgetId) {\n",
       "            const cells = document.querySelectorAll(`#${widgetId} .text-cell`);\n",
       "            cells.forEach(cell => {\n",
       "                const currentSize = window.getComputedStyle(cell).fontSize;\n",
       "                const newSize = parseFloat(currentSize) + 1;\n",
       "                cell.style.fontSize = `${newSize}px`;\n",
       "            });\n",
       "        }\n",
       "        \n",
       "        function decreaseFontSize(widgetId) {\n",
       "            const cells = document.querySelectorAll(`#${widgetId} .text-cell`);\n",
       "            cells.forEach(cell => {\n",
       "                const currentSize = window.getComputedStyle(cell).fontSize;\n",
       "                const newSize = Math.max(10, parseFloat(currentSize) - 1);\n",
       "                cell.style.fontSize = `${newSize}px`;\n",
       "            });\n",
       "        }\n",
       "    </script>\n",
       "    "
      ],
      "text/plain": [
       "<IPython.core.display.HTML object>"
      ]
     },
     "execution_count": 25,
     "metadata": {},
     "output_type": "execute_result"
    }
   ],
   "source": [
    "from viz.text_comparison_widget import compare_row_by_id\n",
    "\n",
    "low_quality_exmaple = \"EN_CC-0000000181\"\n",
    "\n",
    "compare_row_by_id(\n",
    "    final,                          \n",
    "    row_id=low_quality_exmaple,   # Change the row id to see different examples\n",
    "    id_column='id',               \n",
    "    col1='text',                 \n",
    "    col2='rephrased',            \n",
    "    title1='Original',            \n",
    "    title2='Rephrased with Wikipedia rephraser',\n",
    "    max_height='800px',\n",
    "    width='100%',\n",
    "    theme='nvidia'\n",
    ")"
   ]
  },
  {
   "cell_type": "code",
   "execution_count": 30,
   "id": "200b87a8",
   "metadata": {},
   "outputs": [
    {
     "data": {
      "text/html": [
       "\n",
       "    <style>\n",
       "        /* Main container */\n",
       "        #text-comparison-56f43885-container {\n",
       "            font-family: -apple-system, BlinkMacSystemFont, \"Segoe UI\", Roboto, Helvetica, Arial, sans-serif;\n",
       "            background-color: #2d3748;\n",
       "            border-radius: 8px;\n",
       "            overflow: hidden;\n",
       "            box-shadow: 0 4px 12px rgba(0, 0, 0, 0.15);\n",
       "            margin: 20px 0;\n",
       "            width: 100%;\n",
       "            border: 1px solid #4a5568;\n",
       "        }\n",
       "        \n",
       "        /* Table styling */\n",
       "        #text-comparison-56f43885 {\n",
       "            width: 100%;\n",
       "            border-collapse: collapse;\n",
       "            border-spacing: 0;\n",
       "            background-color: #2d3748;\n",
       "        }\n",
       "        \n",
       "        /* Header styling */\n",
       "        #text-comparison-56f43885 th {\n",
       "            background-color: #1a202c;\n",
       "            color: #a0aec0;\n",
       "            font-weight: 600;\n",
       "            font-size: 14px;\n",
       "            text-align: left;\n",
       "            padding: 16px;\n",
       "            border-bottom: 2px solid #4a5568;\n",
       "            text-transform: uppercase;\n",
       "            letter-spacing: 0.5px;\n",
       "        }\n",
       "        \n",
       "        /* Cell styling */\n",
       "        #text-comparison-56f43885 td {\n",
       "            padding: 0;\n",
       "            border-bottom: 1px solid #4a5568;\n",
       "            vertical-align: top;\n",
       "        }\n",
       "        \n",
       "        /* ID column */\n",
       "        #text-comparison-56f43885 .row-id {\n",
       "            font-weight: 600;\n",
       "            padding: 16px;\n",
       "            background-color: #2d3748;\n",
       "            color: #e2e8f0;\n",
       "            font-size: 13px;\n",
       "            text-align: center;\n",
       "            width: 100px;\n",
       "            max-width: 100px;\n",
       "            overflow: hidden;\n",
       "            text-overflow: ellipsis;\n",
       "            box-shadow: 1px 0 0 #4a5568;\n",
       "        }\n",
       "        \n",
       "        /* Text cells */\n",
       "        #text-comparison-56f43885 .text-cell {\n",
       "            overflow-y: auto;\n",
       "            max-height: 800px;\n",
       "            padding: 16px;\n",
       "            white-space: pre-wrap;\n",
       "            word-wrap: break-word;\n",
       "            background-color: #2d3748;\n",
       "            color: #e2e8f0;\n",
       "            font-size: 14px;\n",
       "            line-height: 1.6;\n",
       "            transition: background-color 0.2s;\n",
       "        }\n",
       "        \n",
       "        /* Hover effects */\n",
       "        #text-comparison-56f43885 tr:hover .text-cell {\n",
       "            background-color: #384860;\n",
       "        }\n",
       "        \n",
       "        #text-comparison-56f43885 tr:hover .row-id {\n",
       "            background-color: #384860;\n",
       "        }\n",
       "        \n",
       "        /* Controls styling */\n",
       "        #text-comparison-56f43885-controls {\n",
       "            padding: 12px 16px;\n",
       "            display: flex;\n",
       "            justify-content: space-between;\n",
       "            align-items: center;\n",
       "            background-color: #1a202c;\n",
       "            border-bottom: 1px solid #4a5568;\n",
       "        }\n",
       "        \n",
       "        #text-comparison-56f43885-title {\n",
       "            font-weight: 600;\n",
       "            font-size: 16px;\n",
       "            color: #a0aec0;\n",
       "        }\n",
       "        \n",
       "        #text-comparison-56f43885-buttons {\n",
       "            display: flex;\n",
       "            gap: 8px;\n",
       "        }\n",
       "        \n",
       "        #text-comparison-56f43885-buttons button {\n",
       "            padding: 8px 12px;\n",
       "            border-radius: 6px;\n",
       "            border: none;\n",
       "            background-color: #4a5568;\n",
       "            color: #e2e8f0;\n",
       "            font-size: 13px;\n",
       "            font-weight: 500;\n",
       "            cursor: pointer;\n",
       "            transition: all 0.2s;\n",
       "            display: flex;\n",
       "            align-items: center;\n",
       "            justify-content: center;\n",
       "            box-shadow: 0 1px 3px rgba(0,0,0,0.12);\n",
       "        }\n",
       "        \n",
       "        #text-comparison-56f43885-buttons button:hover {\n",
       "            background-color: #718096;\n",
       "        }\n",
       "        \n",
       "        /* Custom scrollbar styling */\n",
       "        #text-comparison-56f43885 .text-cell::-webkit-scrollbar {\n",
       "            width: 8px;\n",
       "        }\n",
       "        \n",
       "        #text-comparison-56f43885 .text-cell::-webkit-scrollbar-track {\n",
       "            background: #2d3748;\n",
       "            border-radius: 4px;\n",
       "        }\n",
       "        \n",
       "        #text-comparison-56f43885 .text-cell::-webkit-scrollbar-thumb {\n",
       "            background: #4a5568;\n",
       "            border-radius: 4px;\n",
       "        }\n",
       "        \n",
       "        #text-comparison-56f43885 .text-cell::-webkit-scrollbar-thumb:hover {\n",
       "            background: #718096;\n",
       "        }\n",
       "        \n",
       "        /* Difference highlight */\n",
       "        #text-comparison-56f43885 .diff-highlight {\n",
       "            background-color: rgba(255, 230, 0, 0.3);\n",
       "            border-radius: 2px;\n",
       "        }\n",
       "        \n",
       "        /* Footer */\n",
       "        #text-comparison-56f43885-footer {\n",
       "            font-size: 12px;\n",
       "            color: #a0aec0;\n",
       "            padding: 8px 16px;\n",
       "            text-align: right;\n",
       "            background-color: #1a202c;\n",
       "            border-top: 1px solid #4a5568;\n",
       "        }\n",
       "        \n",
       "        /* Responsive adjustments */\n",
       "        @media (max-width: 768px) {\n",
       "            #text-comparison-56f43885 .row-id {\n",
       "                width: 60px;\n",
       "                max-width: 60px;\n",
       "                font-size: 12px;\n",
       "                padding: 12px 8px;\n",
       "            }\n",
       "            \n",
       "            #text-comparison-56f43885 .text-cell {\n",
       "                padding: 12px;\n",
       "                font-size: 13px;\n",
       "            }\n",
       "            \n",
       "            #text-comparison-56f43885 th {\n",
       "                padding: 12px;\n",
       "                font-size: 13px;\n",
       "            }\n",
       "        }\n",
       "    </style>\n",
       "    \n",
       "    <div id=\"text-comparison-56f43885-container\">\n",
       "        <div id=\"text-comparison-56f43885-controls\">\n",
       "            <div id=\"text-comparison-56f43885-title\">Text Comparison</div>\n",
       "            <div id=\"text-comparison-56f43885-buttons\">\n",
       "                <button onclick=\"toggleWordWrap('text-comparison-56f43885')\">\n",
       "                    <svg width=\"14\" height=\"14\" viewBox=\"0 0 24 24\" fill=\"none\" stroke=\"currentColor\" stroke-width=\"2\" stroke-linecap=\"round\" stroke-linejoin=\"round\">\n",
       "                        <polyline points=\"17 1 21 5 17 9\"></polyline>\n",
       "                        <path d=\"M3 11V9a4 4 0 0 1 4-4h14\"></path>\n",
       "                        <polyline points=\"7 23 3 19 7 15\"></polyline>\n",
       "                        <path d=\"M21 13v2a4 4 0 0 1-4 4H3\"></path>\n",
       "                    </svg>\n",
       "                    <span style=\"margin-left: 5px;\">Word Wrap</span>\n",
       "                </button>\n",
       "                <button onclick=\"increaseFontSize('text-comparison-56f43885')\">\n",
       "                    <svg width=\"14\" height=\"14\" viewBox=\"0 0 24 24\" fill=\"none\" stroke=\"currentColor\" stroke-width=\"2\" stroke-linecap=\"round\" stroke-linejoin=\"round\">\n",
       "                        <circle cx=\"12\" cy=\"12\" r=\"10\"></circle>\n",
       "                        <line x1=\"12\" y1=\"8\" x2=\"12\" y2=\"16\"></line>\n",
       "                        <line x1=\"8\" y1=\"12\" x2=\"16\" y2=\"12\"></line>\n",
       "                    </svg>\n",
       "                    <span style=\"margin-left: 5px;\">Larger</span>\n",
       "                </button>\n",
       "                <button onclick=\"decreaseFontSize('text-comparison-56f43885')\">\n",
       "                    <svg width=\"14\" height=\"14\" viewBox=\"0 0 24 24\" fill=\"none\" stroke=\"currentColor\" stroke-width=\"2\" stroke-linecap=\"round\" stroke-linejoin=\"round\">\n",
       "                        <circle cx=\"12\" cy=\"12\" r=\"10\"></circle>\n",
       "                        <line x1=\"8\" y1=\"12\" x2=\"16\" y2=\"12\"></line>\n",
       "                    </svg>\n",
       "                    <span style=\"margin-left: 5px;\">Smaller</span>\n",
       "                </button>\n",
       "            </div>\n",
       "        </div>\n",
       "        \n",
       "        <table id=\"text-comparison-56f43885\">\n",
       "            <thead>\n",
       "                <tr>\n",
       "                    <th>Id</th>\n",
       "                    <th>Original</th>\n",
       "                    <th>Distill</th>\n",
       "                </tr>\n",
       "            </thead>\n",
       "            <tbody>\n",
       "    \n",
       "        <tr>\n",
       "            <td class=\"row-id\">EN_CC-0000006806</td>\n",
       "            <td><div class=\"text-cell\">Advanced level course in the archaeology of ancient Greece, at the Swedish Institute at Athens (15 ECTS)\n",
       "\n",
       "Fall semester 2021\n",
       "\n",
       "2021-03-19\n",
       "\n",
       "The course aims to deepen advanced students' understanding of ancient Greece, ranging from Prehistory to historical periods. Through excursions, lectures, and library study, this is a great opportunity for students to acquire a contextualized in situ knowledge of archaeological material, excavation sites, monuments, and museum collections in Greece.</div></td>\n",
       "            <td><div class=\"text-cell\">An advanced-level archaeology course focused on ancient Greece, offered by the Swedish Institute at Athens in the fall of 2021, carries 15 ECTS credits. The course, commencing on March 19, 2021, seeks to enhance students' advanced understanding of ancient Greece, spanning from Prehistory to historical periods. Through a blend of excursions, lectures, and library study, the course provides students with an in-depth, contextualized, and firsthand knowledge of archaeological artifacts, excavation sites, monuments, and museum collections within Greece.</div></td>\n",
       "        </tr>\n",
       "        \n",
       "            </tbody>\n",
       "        </table>\n",
       "        <div id=\"text-comparison-56f43885-footer\">\n",
       "            Use mouse wheel to scroll each cell independently\n",
       "        </div>\n",
       "    </div>\n",
       "    \n",
       "    <script>\n",
       "        function toggleWordWrap(widgetId) {\n",
       "            const cells = document.querySelectorAll(`#${widgetId} .text-cell`);\n",
       "            cells.forEach(cell => {\n",
       "                if (cell.style.whiteSpace === 'nowrap') {\n",
       "                    cell.style.whiteSpace = 'pre-wrap';\n",
       "                } else {\n",
       "                    cell.style.whiteSpace = 'nowrap';\n",
       "                }\n",
       "            });\n",
       "        }\n",
       "        \n",
       "        function increaseFontSize(widgetId) {\n",
       "            const cells = document.querySelectorAll(`#${widgetId} .text-cell`);\n",
       "            cells.forEach(cell => {\n",
       "                const currentSize = window.getComputedStyle(cell).fontSize;\n",
       "                const newSize = parseFloat(currentSize) + 1;\n",
       "                cell.style.fontSize = `${newSize}px`;\n",
       "            });\n",
       "        }\n",
       "        \n",
       "        function decreaseFontSize(widgetId) {\n",
       "            const cells = document.querySelectorAll(`#${widgetId} .text-cell`);\n",
       "            cells.forEach(cell => {\n",
       "                const currentSize = window.getComputedStyle(cell).fontSize;\n",
       "                const newSize = Math.max(10, parseFloat(currentSize) - 1);\n",
       "                cell.style.fontSize = `${newSize}px`;\n",
       "            });\n",
       "        }\n",
       "    </script>\n",
       "    "
      ],
      "text/plain": [
       "<IPython.core.display.HTML object>"
      ]
     },
     "execution_count": 30,
     "metadata": {},
     "output_type": "execute_result"
    }
   ],
   "source": [
    "from viz.text_comparison_widget import compare_row_by_id\n",
    "\n",
    "high_quality_exmaple = \"EN_CC-0000006806\"\n",
    "\n",
    "compare_row_by_id(\n",
    "    final,\n",
    "    row_id=high_quality_exmaple,    # Change the row id to see different examples\n",
    "    id_column='id',               \n",
    "    col1='text',                  \n",
    "    col2='distill',              # Choose between diverse_qa, distill, extract_knowledge, knowledge_list\n",
    "    title1='Original',            \n",
    "    title2='Distill',\n",
    "    max_height='800px',\n",
    "    width='100%',\n",
    "    theme='nvidia'\n",
    ")"
   ]
  },
  {
   "cell_type": "code",
   "execution_count": null,
   "id": "7189f505",
   "metadata": {},
   "outputs": [],
   "source": []
  }
 ],
 "metadata": {
  "kernelspec": {
   "display_name": "Python 3",
   "language": "python",
   "name": "python3"
  },
  "language_info": {
   "codemirror_mode": {
    "name": "ipython",
    "version": 3
   },
   "file_extension": ".py",
   "mimetype": "text/x-python",
   "name": "python",
   "nbconvert_exporter": "python",
   "pygments_lexer": "ipython3",
   "version": "3.12.3"
  }
 },
 "nbformat": 4,
 "nbformat_minor": 5
}
