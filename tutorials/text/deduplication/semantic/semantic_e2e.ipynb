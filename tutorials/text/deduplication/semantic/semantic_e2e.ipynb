{
 "cells": [
  {
   "cell_type": "markdown",
   "id": "1f8ffd0e",
   "metadata": {},
   "source": [
    "# Semantic Deduplication on Text\n",
    "\n",
    "GPU accelerated implementation of [SemDeDup: Data-efficient learning at web-scale through semantic deduplication](https://arxiv.org/abs/2303.09540)  "
   ]
  },
  {
   "cell_type": "code",
   "execution_count": null,
   "id": "58c0cc09",
   "metadata": {},
   "outputs": [],
   "source": [
    "import os\n",
    "\n",
    "os.environ[\"LOGURU_LEVEL\"] = \"ERROR\"\n",
    "\n",
    "import pandas as pd\n",
    "\n",
    "input_path_to_data = \"/path/to/data\"\n",
    "semantic_out_dir = os.path.abspath(\"./output/e2e\")\n",
    "output_path = os.path.join(semantic_out_dir, \"output\")\n",
    "cache_path = os.path.join(semantic_out_dir, \"cache\")\n",
    "input_filetype = \"parquet\"  # this can be either of jsonl or parquet\n",
    "output_filetype = \"parquet\"  # this can be either of jsonl or parquet"
   ]
  },
  {
   "cell_type": "markdown",
   "id": "9fd4cadb",
   "metadata": {},
   "source": [
    "## Running as a single stage (e2e)\n",
    "\n",
    "The workflow does all of things behind the scenes\n",
    "1. Read original dataset\n",
    "2. Run Embedding Generation \n",
    "3. Use KMeans to cluster the embeddings\n",
    "4. Compute pairwise similarity inside each of the clusters\n",
    "5. Identify duplicates based on `eps` provided (and `ranking_strategy`)\n",
    "6. Remove duplites from the original dataset\n",
    "\n",
    "We also allow users to also run these steps indepedently, which can be seen in the tutorial semantic_step_by_step.ipynb [TODO: Can we add link to it?]\n"
   ]
  },
  {
   "cell_type": "code",
   "execution_count": 2,
   "id": "11448dfb",
   "metadata": {},
   "outputs": [],
   "source": [
    "from nemo_curator.stages.deduplication.semantic import RankingStrategy\n",
    "from nemo_curator.stages.text.deduplication.semantic import TextSemanticDeduplicationWorkflow\n",
    "\n",
    "workflow = TextSemanticDeduplicationWorkflow(\n",
    "    input_path=input_path_to_data,\n",
    "    output_path=output_path,\n",
    "    cache_path=cache_path,\n",
    "    perform_removal=True,\n",
    "    # Embedding generation parameters\n",
    "    text_field=\"text\",\n",
    "    model_identifier=\"sentence-transformers/all-MiniLM-L6-v2\",\n",
    "    embedding_max_seq_length=512,\n",
    "    embedding_max_chars=None,\n",
    "    embedding_pooling=\"mean_pooling\",\n",
    "    embedding_model_inference_batch_size=256,\n",
    "    # Semantic deduplication parameters\n",
    "    n_clusters=100,  # this number can be much higher when the data is large\n",
    "    # For large scale data we should use CURATOR_DEDUP_ID_STR if we are\n",
    "    # also performing removal.\n",
    "    id_field=\"id\",\n",
    "    eps=0.01,\n",
    "    # K-means clustering parameters\n",
    "    ranking_strategy=RankingStrategy(metadata_cols=[\"cosine_dist_to_cent\"], ascending=True),\n",
    "    pairwise_batch_size=1024,\n",
    "    # ID generator parameters\n",
    "    # For large scale data we should set use_id_generator to True if we are performing removal.\n",
    "    use_id_generator=False,\n",
    "    id_generator_state_file=None,\n",
    "    # I/O parameters\n",
    "    input_filetype=input_filetype,\n",
    "    input_files_per_partition=1,\n",
    "    output_filetype=output_filetype,\n",
    "    verbose=True,\n",
    "    clear_output=True,\n",
    ")"
   ]
  },
  {
   "cell_type": "code",
   "execution_count": 3,
   "id": "7672bd73",
   "metadata": {},
   "outputs": [
    {
     "name": "stderr",
     "output_type": "stream",
     "text": [
      "2025-09-16 11:59:48,062\tINFO worker.py:1630 -- Using address 127.0.1.1:6379 set in the environment variable RAY_ADDRESS\n",
      "2025-09-16 11:59:48,065\tINFO worker.py:1771 -- Connecting to existing Ray cluster at address: 127.0.1.1:6379...\n"
     ]
    },
    {
     "name": "stdout",
     "output_type": "stream",
     "text": [
      "2025-09-16 11:59:49,211\tINFO usage_lib.py:447 -- Usage stats collection is disabled.\n",
      "2025-09-16 11:59:49,211\tINFO scripts.py:913 -- \u001b[37mLocal node IP\u001b[39m: \u001b[1m127.0.1.1\u001b[22m\n"
     ]
    },
    {
     "name": "stderr",
     "output_type": "stream",
     "text": [
      "2025-09-16 11:59:52,222\tINFO worker.py:1942 -- Connected to Ray cluster. View the dashboard at \u001b[1m\u001b[32mhttp://127.0.0.1:8265 \u001b[39m\u001b[22m\n"
     ]
    },
    {
     "name": "stdout",
     "output_type": "stream",
     "text": [
      "2025-09-16 11:59:52,148\tSUCC scripts.py:949 -- \u001b[32m--------------------\u001b[39m\n",
      "2025-09-16 11:59:52,148\tSUCC scripts.py:950 -- \u001b[32mRay runtime started.\u001b[39m\n",
      "2025-09-16 11:59:52,148\tSUCC scripts.py:951 -- \u001b[32m--------------------\u001b[39m\n",
      "2025-09-16 11:59:52,148\tINFO scripts.py:953 -- \u001b[36mNext steps\u001b[39m\n",
      "2025-09-16 11:59:52,148\tINFO scripts.py:956 -- To add another node to this Ray cluster, run\n",
      "2025-09-16 11:59:52,148\tINFO scripts.py:959 -- \u001b[1m  ray start --address='127.0.1.1:6379'\u001b[22m\n",
      "2025-09-16 11:59:52,148\tINFO scripts.py:968 -- To connect to this Ray cluster:\n",
      "2025-09-16 11:59:52,148\tINFO scripts.py:970 -- \u001b[35mimport\u001b[39m\u001b[26m ray\n",
      "2025-09-16 11:59:52,148\tINFO scripts.py:971 -- ray\u001b[35m.\u001b[39m\u001b[26minit(_node_ip_address\u001b[35m=\u001b[39m\u001b[26m\u001b[33m'127.0.1.1'\u001b[39m\u001b[26m)\n",
      "2025-09-16 11:59:52,148\tINFO scripts.py:983 -- To submit a Ray job using the Ray Jobs CLI:\n",
      "2025-09-16 11:59:52,148\tINFO scripts.py:984 -- \u001b[1m  RAY_API_SERVER_ADDRESS='http://127.0.0.1:8265' ray job submit --working-dir . -- python my_script.py\u001b[22m\n",
      "2025-09-16 11:59:52,148\tINFO scripts.py:993 -- See https://docs.ray.io/en/latest/cluster/running-applications/job-submission/index.html \n",
      "2025-09-16 11:59:52,149\tINFO scripts.py:997 -- for more information on submitting Ray jobs to the Ray cluster.\n",
      "2025-09-16 11:59:52,149\tINFO scripts.py:1002 -- To terminate the Ray runtime, run\n",
      "2025-09-16 11:59:52,149\tINFO scripts.py:1003 -- \u001b[1m  ray stop\u001b[22m\n",
      "2025-09-16 11:59:52,149\tINFO scripts.py:1006 -- To view the status of the cluster, use\n",
      "2025-09-16 11:59:52,149\tINFO scripts.py:1007 --   \u001b[1mray status\u001b[22m\u001b[26m\n",
      "2025-09-16 11:59:52,149\tINFO scripts.py:1011 -- To monitor and debug Ray, view the dashboard at \n",
      "2025-09-16 11:59:52,149\tINFO scripts.py:1012 --   \u001b[1m127.0.0.1:8265\u001b[22m\u001b[26m\n",
      "2025-09-16 11:59:52,149\tINFO scripts.py:1019 -- \u001b[4mIf connection to the dashboard fails, check your firewall settings and network configuration.\u001b[24m\n",
      "2025-09-16 11:59:52,149\tINFO scripts.py:1123 -- \u001b[36m\u001b[1m--block\u001b[22m\u001b[39m\n",
      "2025-09-16 11:59:52,149\tINFO scripts.py:1124 -- This command will now block forever until terminated by a signal.\n",
      "2025-09-16 11:59:52,149\tINFO scripts.py:1127 -- Running subprocesses are monitored and a message will be printed if any of them terminate unexpectedly. Subprocesses exit with SIGTERM will be treated as graceful, thus NOT reported.\n"
     ]
    },
    {
     "name": "stderr",
     "output_type": "stream",
     "text": [
      "2025-09-16 11:59:52,917\tINFO worker.py:1630 -- Using address 127.0.1.1:6379 set in the environment variable RAY_ADDRESS\n",
      "2025-09-16 11:59:52,919\tINFO worker.py:1771 -- Connecting to existing Ray cluster at address: 127.0.1.1:6379...\n",
      "2025-09-16 11:59:52,919\tINFO worker.py:1789 -- Calling ray.init() again after it has already been called.\n",
      "Fetching 30 files: 100%|██████████| 30/30 [00:00<00:00, 11242.77it/s]\n",
      "Fetching 30 files: 100%|██████████| 30/30 [00:00<00:00, 29495.81it/s]\n",
      "2025-09-16 12:03:06,910\tINFO worker.py:1630 -- Using address 127.0.1.1:6379 set in the environment variable RAY_ADDRESS\n",
      "2025-09-16 12:03:06,912\tINFO worker.py:1771 -- Connecting to existing Ray cluster at address: 127.0.1.1:6379...\n",
      "2025-09-16 12:03:06,919\tINFO worker.py:1942 -- Connected to Ray cluster. View the dashboard at \u001b[1m\u001b[32mhttp://127.0.0.1:8265 \u001b[39m\u001b[22m\n"
     ]
    },
    {
     "name": "stdout",
     "output_type": "stream",
     "text": [
      "\u001b[36m(KMeansReadFitWriteStage pid=1854069)\u001b[0m 203520000\n",
      "\u001b[36m(KMeansReadFitWriteStage pid=1854070)\u001b[0m 203323776\n",
      "\u001b[36m(KMeansReadFitWriteStage pid=1854071)\u001b[0m 203520000\n",
      "\u001b[36m(KMeansReadFitWriteStage pid=1854072)\u001b[0m 203520000\n"
     ]
    },
    {
     "name": "stderr",
     "output_type": "stream",
     "text": [
      "2025-09-16 12:03:35,546\tINFO worker.py:1630 -- Using address 127.0.1.1:6379 set in the environment variable RAY_ADDRESS\n",
      "2025-09-16 12:03:35,548\tINFO worker.py:1771 -- Connecting to existing Ray cluster at address: 127.0.1.1:6379...\n",
      "2025-09-16 12:03:35,554\tINFO worker.py:1942 -- Connected to Ray cluster. View the dashboard at \u001b[1m\u001b[32mhttp://127.0.0.1:8265 \u001b[39m\u001b[22m\n",
      "2025-09-16 12:03:35,581\tINFO worker.py:1630 -- Using address 127.0.1.1:6379 set in the environment variable RAY_ADDRESS\n",
      "2025-09-16 12:03:35,583\tINFO worker.py:1771 -- Connecting to existing Ray cluster at address: 127.0.1.1:6379...\n",
      "2025-09-16 12:03:35,583\tINFO worker.py:1789 -- Calling ray.init() again after it has already been called.\n",
      "2025-09-16 12:04:02,497\tINFO worker.py:1630 -- Using address 127.0.1.1:6379 set in the environment variable RAY_ADDRESS\n",
      "2025-09-16 12:04:02,498\tINFO worker.py:1771 -- Connecting to existing Ray cluster at address: 127.0.1.1:6379...\n",
      "2025-09-16 12:04:02,505\tINFO worker.py:1942 -- Connected to Ray cluster. View the dashboard at \u001b[1m\u001b[32mhttp://127.0.0.1:8265 \u001b[39m\u001b[22m\n",
      "2025-09-16 12:04:02,521\tINFO worker.py:1630 -- Using address 127.0.1.1:6379 set in the environment variable RAY_ADDRESS\n",
      "2025-09-16 12:04:02,522\tINFO worker.py:1771 -- Connecting to existing Ray cluster at address: 127.0.1.1:6379...\n",
      "2025-09-16 12:04:02,523\tINFO worker.py:1789 -- Calling ray.init() again after it has already been called.\n"
     ]
    }
   ],
   "source": [
    "from nemo_curator.core.client import RayClient\n",
    "\n",
    "client = RayClient(num_cpus=64, num_gpus=4)\n",
    "client.start()\n",
    "try:\n",
    "    workflow.run()\n",
    "finally:\n",
    "    client.stop()"
   ]
  },
  {
   "cell_type": "markdown",
   "id": "0cb61451",
   "metadata": {},
   "source": [
    "### Looking at output / cache paths"
   ]
  },
  {
   "cell_type": "markdown",
   "id": "adb343b3",
   "metadata": {},
   "source": [
    "#### Embeddings\n",
    "\n",
    "1. `id` : The id field from our original dataset. \n",
    "    - For all subsequent steps this is assumed to be the  `id_field`\n",
    "    - If you had set `use_id_generator` to `True` then instead of this you would see the `_curator_dedup_id` spcified. \n",
    "        - The id in that field is generated using our IdGenerator which assigns integer ids to each row in input data that later is used in removal. \n",
    "2. `embeddings` : The embedding generated by the model we used above."
   ]
  },
  {
   "cell_type": "code",
   "execution_count": 4,
   "id": "ef31ee41",
   "metadata": {},
   "outputs": [
    {
     "data": {
      "text/html": [
       "<div>\n",
       "<style scoped>\n",
       "    .dataframe tbody tr th:only-of-type {\n",
       "        vertical-align: middle;\n",
       "    }\n",
       "\n",
       "    .dataframe tbody tr th {\n",
       "        vertical-align: top;\n",
       "    }\n",
       "\n",
       "    .dataframe thead th {\n",
       "        text-align: right;\n",
       "    }\n",
       "</style>\n",
       "<table border=\"1\" class=\"dataframe\">\n",
       "  <thead>\n",
       "    <tr style=\"text-align: right;\">\n",
       "      <th></th>\n",
       "      <th>id</th>\n",
       "      <th>embeddings</th>\n",
       "    </tr>\n",
       "  </thead>\n",
       "  <tbody>\n",
       "    <tr>\n",
       "      <th>0</th>\n",
       "      <td>TinyStories-train.txt-1050000</td>\n",
       "      <td>[-0.03838138282299042, 0.047589678317308426, 0...</td>\n",
       "    </tr>\n",
       "    <tr>\n",
       "      <th>1</th>\n",
       "      <td>TinyStories-train.txt-1050001</td>\n",
       "      <td>[0.012109456583857536, 0.05599193274974823, 0....</td>\n",
       "    </tr>\n",
       "    <tr>\n",
       "      <th>2</th>\n",
       "      <td>TinyStories-train.txt-1050002</td>\n",
       "      <td>[-0.021665604785084724, 0.06978840380907059, 0...</td>\n",
       "    </tr>\n",
       "    <tr>\n",
       "      <th>3</th>\n",
       "      <td>TinyStories-train.txt-1050003</td>\n",
       "      <td>[-0.07565540075302124, -0.032156478613615036, ...</td>\n",
       "    </tr>\n",
       "    <tr>\n",
       "      <th>4</th>\n",
       "      <td>TinyStories-train.txt-1050004</td>\n",
       "      <td>[-0.016478808596730232, 0.07793284207582474, 0...</td>\n",
       "    </tr>\n",
       "  </tbody>\n",
       "</table>\n",
       "</div>"
      ],
      "text/plain": [
       "                              id  \\\n",
       "0  TinyStories-train.txt-1050000   \n",
       "1  TinyStories-train.txt-1050001   \n",
       "2  TinyStories-train.txt-1050002   \n",
       "3  TinyStories-train.txt-1050003   \n",
       "4  TinyStories-train.txt-1050004   \n",
       "\n",
       "                                          embeddings  \n",
       "0  [-0.03838138282299042, 0.047589678317308426, 0...  \n",
       "1  [0.012109456583857536, 0.05599193274974823, 0....  \n",
       "2  [-0.021665604785084724, 0.06978840380907059, 0...  \n",
       "3  [-0.07565540075302124, -0.032156478613615036, ...  \n",
       "4  [-0.016478808596730232, 0.07793284207582474, 0...  "
      ]
     },
     "execution_count": 4,
     "metadata": {},
     "output_type": "execute_result"
    }
   ],
   "source": [
    "embeddings_path = os.path.join(cache_path, \"embeddings\")\n",
    "\n",
    "pd.read_parquet(os.path.join(embeddings_path, os.listdir(embeddings_path)[0])).head()"
   ]
  },
  {
   "cell_type": "markdown",
   "id": "bd5057fe",
   "metadata": {},
   "source": [
    "#### KMeans Results\n",
    "\n",
    "1. `id` : The ids of the rows that belong to the cluster.\n",
    "2. `embeddings` : These are later used for pairwise similarity\n",
    "3. `l2_dist_to_cent` / `cosine_dist_to_cent` : This represents how far (l2 distance or cosine distance) is from our clusters centroid.\n",
    "    - These fields help us define how we want to prioritize ranking within our cluster. See `RankingStratergy`\n",
    "    - If we had other `metadata_fields` provided they would be used here instead.\n"
   ]
  },
  {
   "cell_type": "code",
   "execution_count": 5,
   "id": "02c7c9ab",
   "metadata": {},
   "outputs": [
    {
     "data": {
      "text/html": [
       "<div>\n",
       "<style scoped>\n",
       "    .dataframe tbody tr th:only-of-type {\n",
       "        vertical-align: middle;\n",
       "    }\n",
       "\n",
       "    .dataframe tbody tr th {\n",
       "        vertical-align: top;\n",
       "    }\n",
       "\n",
       "    .dataframe thead th {\n",
       "        text-align: right;\n",
       "    }\n",
       "</style>\n",
       "<table border=\"1\" class=\"dataframe\">\n",
       "  <thead>\n",
       "    <tr style=\"text-align: right;\">\n",
       "      <th></th>\n",
       "      <th>id</th>\n",
       "      <th>embeddings</th>\n",
       "      <th>l2_dist_to_cent</th>\n",
       "      <th>cosine_dist_to_cent</th>\n",
       "    </tr>\n",
       "  </thead>\n",
       "  <tbody>\n",
       "    <tr>\n",
       "      <th>0</th>\n",
       "      <td>TinyStories-train.txt-1320022</td>\n",
       "      <td>[-0.056338035, 0.05346775, 0.03180039, -0.0028...</td>\n",
       "      <td>0.734287</td>\n",
       "      <td>0.314044</td>\n",
       "    </tr>\n",
       "    <tr>\n",
       "      <th>1</th>\n",
       "      <td>TinyStories-train.txt-1321453</td>\n",
       "      <td>[-0.058759537, 0.0917165, 0.057991754, 0.01050...</td>\n",
       "      <td>0.629261</td>\n",
       "      <td>0.222772</td>\n",
       "    </tr>\n",
       "    <tr>\n",
       "      <th>2</th>\n",
       "      <td>TinyStories-train.txt-1321597</td>\n",
       "      <td>[-0.023847684, 0.036328573, 0.025864411, 0.090...</td>\n",
       "      <td>0.608941</td>\n",
       "      <td>0.206736</td>\n",
       "    </tr>\n",
       "    <tr>\n",
       "      <th>3</th>\n",
       "      <td>TinyStories-train.txt-1321609</td>\n",
       "      <td>[-0.09930863, 0.08990324, 0.020131571, -0.0005...</td>\n",
       "      <td>0.551234</td>\n",
       "      <td>0.164066</td>\n",
       "    </tr>\n",
       "    <tr>\n",
       "      <th>4</th>\n",
       "      <td>TinyStories-train.txt-1321616</td>\n",
       "      <td>[-0.07285272, 0.058476895, 0.026692118, -0.011...</td>\n",
       "      <td>0.683624</td>\n",
       "      <td>0.268260</td>\n",
       "    </tr>\n",
       "  </tbody>\n",
       "</table>\n",
       "</div>"
      ],
      "text/plain": [
       "                              id  \\\n",
       "0  TinyStories-train.txt-1320022   \n",
       "1  TinyStories-train.txt-1321453   \n",
       "2  TinyStories-train.txt-1321597   \n",
       "3  TinyStories-train.txt-1321609   \n",
       "4  TinyStories-train.txt-1321616   \n",
       "\n",
       "                                          embeddings  l2_dist_to_cent  \\\n",
       "0  [-0.056338035, 0.05346775, 0.03180039, -0.0028...         0.734287   \n",
       "1  [-0.058759537, 0.0917165, 0.057991754, 0.01050...         0.629261   \n",
       "2  [-0.023847684, 0.036328573, 0.025864411, 0.090...         0.608941   \n",
       "3  [-0.09930863, 0.08990324, 0.020131571, -0.0005...         0.551234   \n",
       "4  [-0.07285272, 0.058476895, 0.026692118, -0.011...         0.683624   \n",
       "\n",
       "   cosine_dist_to_cent  \n",
       "0             0.314044  \n",
       "1             0.222772  \n",
       "2             0.206736  \n",
       "3             0.164066  \n",
       "4             0.268260  "
      ]
     },
     "execution_count": 5,
     "metadata": {},
     "output_type": "execute_result"
    }
   ],
   "source": [
    "kmeans_path_first_centroid = os.path.join(cache_path, \"semantic_dedup\", \"kmeans_results\", \"centroid=0\")\n",
    "\n",
    "pd.read_parquet(os.path.join(kmeans_path_first_centroid, os.listdir(kmeans_path_first_centroid)[0])).head()"
   ]
  },
  {
   "cell_type": "markdown",
   "id": "27aaac0b",
   "metadata": {},
   "source": [
    "#### Pairwise Similarity Result\n",
    "\n",
    "1. `id` : The identifier for the duplicate row.\n",
    "2. `max_id` : The closest pair for the duplicate row.\n",
    "3. `cosine_sim_score` : The cosine similarity between the two points\n"
   ]
  },
  {
   "cell_type": "code",
   "execution_count": 6,
   "id": "4f741101",
   "metadata": {},
   "outputs": [
    {
     "data": {
      "text/html": [
       "<div>\n",
       "<style scoped>\n",
       "    .dataframe tbody tr th:only-of-type {\n",
       "        vertical-align: middle;\n",
       "    }\n",
       "\n",
       "    .dataframe tbody tr th {\n",
       "        vertical-align: top;\n",
       "    }\n",
       "\n",
       "    .dataframe thead th {\n",
       "        text-align: right;\n",
       "    }\n",
       "</style>\n",
       "<table border=\"1\" class=\"dataframe\">\n",
       "  <thead>\n",
       "    <tr style=\"text-align: right;\">\n",
       "      <th></th>\n",
       "      <th>id</th>\n",
       "      <th>max_id</th>\n",
       "      <th>cosine_sim_score</th>\n",
       "    </tr>\n",
       "  </thead>\n",
       "  <tbody>\n",
       "    <tr>\n",
       "      <th>0</th>\n",
       "      <td>TinyStories-train.txt-2036969</td>\n",
       "      <td>TinyStories-train.txt-2036969</td>\n",
       "      <td>0.000000</td>\n",
       "    </tr>\n",
       "    <tr>\n",
       "      <th>1</th>\n",
       "      <td>TinyStories-train.txt-578142</td>\n",
       "      <td>TinyStories-train.txt-2036969</td>\n",
       "      <td>0.832831</td>\n",
       "    </tr>\n",
       "    <tr>\n",
       "      <th>2</th>\n",
       "      <td>TinyStories-train.txt-2108502</td>\n",
       "      <td>TinyStories-train.txt-578142</td>\n",
       "      <td>1.000000</td>\n",
       "    </tr>\n",
       "    <tr>\n",
       "      <th>3</th>\n",
       "      <td>TinyStories-train.txt-649801</td>\n",
       "      <td>TinyStories-train.txt-2036969</td>\n",
       "      <td>0.863873</td>\n",
       "    </tr>\n",
       "    <tr>\n",
       "      <th>4</th>\n",
       "      <td>TinyStories-train.txt-899672</td>\n",
       "      <td>TinyStories-train.txt-649801</td>\n",
       "      <td>1.000000</td>\n",
       "    </tr>\n",
       "  </tbody>\n",
       "</table>\n",
       "</div>"
      ],
      "text/plain": [
       "                              id                         max_id  \\\n",
       "0  TinyStories-train.txt-2036969  TinyStories-train.txt-2036969   \n",
       "1   TinyStories-train.txt-578142  TinyStories-train.txt-2036969   \n",
       "2  TinyStories-train.txt-2108502   TinyStories-train.txt-578142   \n",
       "3   TinyStories-train.txt-649801  TinyStories-train.txt-2036969   \n",
       "4   TinyStories-train.txt-899672   TinyStories-train.txt-649801   \n",
       "\n",
       "   cosine_sim_score  \n",
       "0          0.000000  \n",
       "1          0.832831  \n",
       "2          1.000000  \n",
       "3          0.863873  \n",
       "4          1.000000  "
      ]
     },
     "execution_count": 6,
     "metadata": {},
     "output_type": "execute_result"
    }
   ],
   "source": [
    "pairwise_path = os.path.join(cache_path, \"semantic_dedup\", \"pairwise_results\")\n",
    "\n",
    "pd.read_parquet(os.path.join(pairwise_path, \"cluster_0.parquet\")).head()"
   ]
  },
  {
   "cell_type": "markdown",
   "id": "b5bd81da",
   "metadata": {},
   "source": [
    "##### Visualizing Similarity in our dataset\n",
    "\n",
    "Depending on our dataset size we can read through all of the files and plot how much data is similar to one another.\n",
    "Here we show how to read file by file and then perform a reduce. \n",
    "\n",
    "In our dataset we can see that ~20% of our data has cosine_similarity of 0.9 or more.\n",
    "\n",
    "Based on the analysis here we can decide what our `eps` should be. \n",
    "However in this tutorial we pre-ran with eps set and perform_removal to be True.\n",
    "\n",
    "However ideally, users do this analysis, inspect the duplicates, come up with an `eps` and then run a pipeline that includes the `IdentifyDuplicates` stage.\n",
    "\n",
    "And finally perform removal.\n",
    "\n",
    "**NOTE : If you run with `use_id_generator=False` (which affects removal performance at large scale) you will see the actual ids of instead of the int ids. You can then also inspect the original dataset for those ids, and that can also help your decision for `eps`**"
   ]
  },
  {
   "cell_type": "code",
   "execution_count": 7,
   "id": "a548c4fa",
   "metadata": {},
   "outputs": [],
   "source": [
    "from collections import Counter\n",
    "from functools import reduce\n",
    "\n",
    "import numpy as np\n",
    "\n",
    "\n",
    "def get_bins(df: pd.DataFrame, num_bins: int = 1_000) -> dict[float, int]:\n",
    "    bins = np.linspace(0, 1.01, num_bins)\n",
    "\n",
    "    return Counter(\n",
    "        pd.cut(df[\"cosine_sim_score\"], bins=bins, labels=bins[1:], retbins=False, include_lowest=True, right=True)\n",
    "        .value_counts()\n",
    "        .to_dict()\n",
    "    )\n",
    "\n",
    "\n",
    "similarity_across_dataset = reduce(\n",
    "    lambda x, y: x + y,\n",
    "    [\n",
    "        get_bins(pd.read_parquet(os.path.join(pairwise_path, f), columns=[\"cosine_sim_score\"]), num_bins=1000)\n",
    "        for f in os.listdir(pairwise_path)\n",
    "    ],\n",
    ")"
   ]
  },
  {
   "cell_type": "code",
   "execution_count": 8,
   "id": "2db46cf5",
   "metadata": {},
   "outputs": [
    {
     "data": {
      "image/png": "[encoded data removed]",
      "text/plain": [
       "<Figure size 640x480 with 1 Axes>"
      ]
     },
     "metadata": {},
     "output_type": "display_data"
    }
   ],
   "source": [
    "import matplotlib.pyplot as plt\n",
    "\n",
    "plt.ecdf(x=similarity_across_dataset.keys(), weights=similarity_across_dataset.values())\n",
    "plt.xticks(np.linspace(0, 1, 11))\n",
    "plt.yticks(np.linspace(0, 1, 11))\n",
    "plt.xlabel(\"Cosine Similarity\")\n",
    "plt.ylabel(\"Ratio of dataset above the similarity score\")\n",
    "plt.grid()\n",
    "plt.show()"
   ]
  },
  {
   "cell_type": "markdown",
   "id": "dd43865d",
   "metadata": {},
   "source": [
    "#### Looking at duplicates\n",
    "\n",
    "- `id` : This is a list of all ids that are above our similarity threshold `eps`."
   ]
  },
  {
   "cell_type": "code",
   "execution_count": 9,
   "id": "2578b143",
   "metadata": {},
   "outputs": [
    {
     "data": {
      "text/html": [
       "<div>\n",
       "<style scoped>\n",
       "    .dataframe tbody tr th:only-of-type {\n",
       "        vertical-align: middle;\n",
       "    }\n",
       "\n",
       "    .dataframe tbody tr th {\n",
       "        vertical-align: top;\n",
       "    }\n",
       "\n",
       "    .dataframe thead th {\n",
       "        text-align: right;\n",
       "    }\n",
       "</style>\n",
       "<table border=\"1\" class=\"dataframe\">\n",
       "  <thead>\n",
       "    <tr style=\"text-align: right;\">\n",
       "      <th></th>\n",
       "      <th>id</th>\n",
       "    </tr>\n",
       "  </thead>\n",
       "  <tbody>\n",
       "    <tr>\n",
       "      <th>0</th>\n",
       "      <td>TinyStories-train.txt-1000109</td>\n",
       "    </tr>\n",
       "    <tr>\n",
       "      <th>1</th>\n",
       "      <td>TinyStories-train.txt-1000111</td>\n",
       "    </tr>\n",
       "    <tr>\n",
       "      <th>2</th>\n",
       "      <td>TinyStories-train.txt-1000112</td>\n",
       "    </tr>\n",
       "    <tr>\n",
       "      <th>3</th>\n",
       "      <td>TinyStories-train.txt-1000117</td>\n",
       "    </tr>\n",
       "    <tr>\n",
       "      <th>4</th>\n",
       "      <td>TinyStories-train.txt-1000119</td>\n",
       "    </tr>\n",
       "  </tbody>\n",
       "</table>\n",
       "</div>"
      ],
      "text/plain": [
       "                              id\n",
       "0  TinyStories-train.txt-1000109\n",
       "1  TinyStories-train.txt-1000111\n",
       "2  TinyStories-train.txt-1000112\n",
       "3  TinyStories-train.txt-1000117\n",
       "4  TinyStories-train.txt-1000119"
      ]
     },
     "execution_count": 9,
     "metadata": {},
     "output_type": "execute_result"
    }
   ],
   "source": [
    "duplicates_path = os.path.join(output_path, \"duplicates\")\n",
    "\n",
    "pd.read_parquet(os.path.join(duplicates_path, os.listdir(duplicates_path)[0])).head()"
   ]
  },
  {
   "cell_type": "markdown",
   "id": "98c21b65",
   "metadata": {},
   "source": [
    "#### Looking at deduplicated dataset\n",
    "\n",
    "Here we see all the original columns. \n",
    "\n",
    "We can control the schema of this by specifying the `output_fields` arg in the workflow definition.\n",
    "\n",
    "If you had set use_id_generator then you'd see `_curator_dedup_id` here as well."
   ]
  },
  {
   "cell_type": "code",
   "execution_count": 10,
   "id": "ee288d0c",
   "metadata": {},
   "outputs": [
    {
     "data": {
      "text/html": [
       "<div>\n",
       "<style scoped>\n",
       "    .dataframe tbody tr th:only-of-type {\n",
       "        vertical-align: middle;\n",
       "    }\n",
       "\n",
       "    .dataframe tbody tr th {\n",
       "        vertical-align: top;\n",
       "    }\n",
       "\n",
       "    .dataframe thead th {\n",
       "        text-align: right;\n",
       "    }\n",
       "</style>\n",
       "<table border=\"1\" class=\"dataframe\">\n",
       "  <thead>\n",
       "    <tr style=\"text-align: right;\">\n",
       "      <th></th>\n",
       "      <th>text</th>\n",
       "      <th>filename</th>\n",
       "      <th>id</th>\n",
       "    </tr>\n",
       "  </thead>\n",
       "  <tbody>\n",
       "    <tr>\n",
       "      <th>0</th>\n",
       "      <td>Once upon a time there was a frog. He lived i...</td>\n",
       "      <td>TinyStories-train.txt</td>\n",
       "      <td>TinyStories-train.txt-100000</td>\n",
       "    </tr>\n",
       "    <tr>\n",
       "      <th>1</th>\n",
       "      <td>Once there was a tired mule. He was tired fro...</td>\n",
       "      <td>TinyStories-train.txt</td>\n",
       "      <td>TinyStories-train.txt-100001</td>\n",
       "    </tr>\n",
       "    <tr>\n",
       "      <th>2</th>\n",
       "      <td>Once upon a time, there was a big family. Eve...</td>\n",
       "      <td>TinyStories-train.txt</td>\n",
       "      <td>TinyStories-train.txt-100002</td>\n",
       "    </tr>\n",
       "    <tr>\n",
       "      <th>3</th>\n",
       "      <td>One day, a young girl was singing in the park...</td>\n",
       "      <td>TinyStories-train.txt</td>\n",
       "      <td>TinyStories-train.txt-100003</td>\n",
       "    </tr>\n",
       "    <tr>\n",
       "      <th>4</th>\n",
       "      <td>One day, Timmy was excited to learn something...</td>\n",
       "      <td>TinyStories-train.txt</td>\n",
       "      <td>TinyStories-train.txt-100004</td>\n",
       "    </tr>\n",
       "  </tbody>\n",
       "</table>\n",
       "</div>"
      ],
      "text/plain": [
       "                                                text               filename  \\\n",
       "0   Once upon a time there was a frog. He lived i...  TinyStories-train.txt   \n",
       "1   Once there was a tired mule. He was tired fro...  TinyStories-train.txt   \n",
       "2   Once upon a time, there was a big family. Eve...  TinyStories-train.txt   \n",
       "3   One day, a young girl was singing in the park...  TinyStories-train.txt   \n",
       "4   One day, Timmy was excited to learn something...  TinyStories-train.txt   \n",
       "\n",
       "                             id  \n",
       "0  TinyStories-train.txt-100000  \n",
       "1  TinyStories-train.txt-100001  \n",
       "2  TinyStories-train.txt-100002  \n",
       "3  TinyStories-train.txt-100003  \n",
       "4  TinyStories-train.txt-100004  "
      ]
     },
     "execution_count": 10,
     "metadata": {},
     "output_type": "execute_result"
    }
   ],
   "source": [
    "deduplicated_path = os.path.join(output_path, \"deduplicated\")\n",
    "\n",
    "pd.read_parquet(os.path.join(deduplicated_path, os.listdir(deduplicated_path)[0])).head()"
   ]
  }
 ],
 "metadata": {
  "kernelspec": {
   "display_name": "Python 3",
   "language": "python",
   "name": "python3"
  },
  "language_info": {
   "codemirror_mode": {
    "name": "ipython",
    "version": 3
   },
   "file_extension": ".py",
   "mimetype": "text/x-python",
   "name": "python",
   "nbconvert_exporter": "python",
   "pygments_lexer": "ipython3",
   "version": "3.12.11"
  }
 },
 "nbformat": 4,
 "nbformat_minor": 5
}
