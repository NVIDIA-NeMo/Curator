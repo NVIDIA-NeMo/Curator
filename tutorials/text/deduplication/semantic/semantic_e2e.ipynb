{
 "cells": [
  {
   "cell_type": "markdown",
   "id": "1f8ffd0e",
   "metadata": {},
   "source": [
    "# Semantic Deduplication on Text\n",
    "\n",
    "GPU accelerated implementation of [SemDeDup: Data-efficient learning at web-scale through semantic deduplication](https://arxiv.org/abs/2303.09540)  "
   ]
  },
  {
   "cell_type": "code",
   "execution_count": null,
   "id": "58c0cc09",
   "metadata": {},
   "outputs": [],
   "source": [
    "import os\n",
    "\n",
    "os.environ[\"LOGURU_LEVEL\"] = \"ERROR\"\n",
    "\n",
    "import pandas as pd\n",
    "import pyarrow.parquet as pq\n",
    "\n",
    "input_path = os.path.abspath(\"./input\")\n",
    "semantic_out_dir = os.path.abspath(\"./output/e2e\")\n",
    "output_path = os.path.join(semantic_out_dir, \"output\")\n",
    "cache_path = os.path.join(semantic_out_dir, \"cache\")\n",
    "# this can be either of jsonl or parquet\n",
    "input_filetype = \"parquet\"\n",
    "output_filetype = \"parquet\"  # this can be either of jsonl or parquet"
   ]
  },
  {
   "cell_type": "markdown",
   "id": "ca4fbbbc",
   "metadata": {},
   "source": [
    "## Generate Input Data\n",
    "\n",
    "1. We generate input data if we don't have files in the path above\n",
    " - We load the tinystories dataset (just the train partition) which has 2,119,719 rows\n",
    " - We split into shards s.t. no shard has more than 10,000 rows.\n",
    " - We create a new id column which is UUID\n",
    " - We write out ~212 files"
   ]
  },
  {
   "cell_type": "code",
   "execution_count": 4,
   "id": "7f43245f",
   "metadata": {},
   "outputs": [
    {
     "name": "stdout",
     "output_type": "stream",
     "text": [
      "Created 212 files\n"
     ]
    }
   ],
   "source": [
    "from nemo_curator.utils.file_utils import get_all_file_paths_under\n",
    "\n",
    "if len(get_all_file_paths_under(input_path)) == 0:\n",
    "    import os\n",
    "    import uuid\n",
    "\n",
    "    import numpy as np\n",
    "    from datasets import load_dataset\n",
    "\n",
    "    input_df = load_dataset(\"roneneldan/TinyStories\", split=\"train\").to_pandas()\n",
    "    num_rows_per_file = 10_000\n",
    "\n",
    "    os.makedirs(input_path, exist_ok=True)\n",
    "\n",
    "    for i, start_idx in enumerate(range(0, len(input_df), num_rows_per_file)):\n",
    "        end_idx = min(len(input_df), start_idx + num_rows_per_file)\n",
    "        subset_df = input_df.iloc[start_idx:end_idx].copy()\n",
    "        subset_df[\"id\"] = [str(uuid.uuid4()) for _ in range(len(subset_df))]\n",
    "        subset_df.to_parquet(os.path.join(input_path, f\"part_{i}.parquet\"), index=False)\n",
    "\n",
    "    print(f\"Created {len(os.listdir(input_path))} files\")"
   ]
  },
  {
   "cell_type": "markdown",
   "id": "9fd4cadb",
   "metadata": {},
   "source": [
    "## Running as a single stage (e2e)\n",
    "\n",
    "The workflow does all of things behind the scenes\n",
    "1. Read original dataset\n",
    "2. Run Embedding Generation \n",
    "3. Use KMeans to cluster the embeddings\n",
    "4. Compute pairwise similarity inside each of the clusters\n",
    "5. Identify duplicates based on `eps` provided (and `ranking_strategy`)\n",
    "6. Remove duplites from the original dataset\n",
    "\n",
    "We also allow users to also run these steps indepedently, which can be seen in the tutorial semantic_step_by_step.ipynb [TODO: Can we add link to it?]\n",
    "\n",
    "\n",
    "### Performance Notes\n",
    "1. Please ensure we set id_generator=True if we want to perform large scale removal also i.e. `perform_removal=True`"
   ]
  },
  {
   "cell_type": "code",
   "execution_count": 5,
   "id": "11448dfb",
   "metadata": {},
   "outputs": [],
   "source": [
    "from nemo_curator.stages.deduplication.semantic import RankingStrategy\n",
    "from nemo_curator.stages.text.deduplication.semantic import TextSemanticDeduplicationWorkflow\n",
    "\n",
    "workflow = TextSemanticDeduplicationWorkflow(\n",
    "    input_path=input_path,\n",
    "    output_path=output_path,\n",
    "    cache_path=cache_path,\n",
    "    perform_removal=True,\n",
    "    # Embedding generation parameters\n",
    "    text_field=\"text\",\n",
    "    model_identifier=\"sentence-transformers/all-MiniLM-L6-v2\",\n",
    "    embedding_max_seq_length=512,\n",
    "    embedding_max_chars=None,\n",
    "    embedding_pooling=\"mean_pooling\",\n",
    "    embedding_model_inference_batch_size=256,\n",
    "    # Semantic deduplication parameters\n",
    "    n_clusters=100,  # this number can be much higher when the data is large\n",
    "    # For large scale data we should use CURATOR_DEDUP_ID_STR if we are\n",
    "    # also performing removal.\n",
    "    id_field=\"id\",\n",
    "    eps=0.01,\n",
    "    # K-means clustering parameters\n",
    "    ranking_strategy=RankingStrategy(metadata_cols=[\"cosine_dist_to_cent\"], ascending=True),\n",
    "    pairwise_batch_size=1024,\n",
    "    # ID generator parameters\n",
    "    # For large scale data we should set use_id_generator to True if we are performing removal.\n",
    "    use_id_generator=False,\n",
    "    id_generator_state_file=None,\n",
    "    # I/O parameters\n",
    "    input_filetype=input_filetype,\n",
    "    input_files_per_partition=1,\n",
    "    output_filetype=output_filetype,\n",
    "    verbose=True,\n",
    "    clear_output=True,\n",
    ")"
   ]
  },
  {
   "cell_type": "code",
   "execution_count": 6,
   "id": "7672bd73",
   "metadata": {},
   "outputs": [
    {
     "name": "stderr",
     "output_type": "stream",
     "text": [
      "2025-09-16 13:02:57,716\tINFO worker.py:1630 -- Using address 127.0.1.1:6379 set in the environment variable RAY_ADDRESS\n",
      "2025-09-16 13:02:57,720\tINFO worker.py:1771 -- Connecting to existing Ray cluster at address: 127.0.1.1:6379...\n"
     ]
    },
    {
     "name": "stdout",
     "output_type": "stream",
     "text": [
      "2025-09-16 13:02:58,831\tINFO usage_lib.py:447 -- Usage stats collection is disabled.\n",
      "2025-09-16 13:02:58,831\tINFO scripts.py:913 -- \u001b[37mLocal node IP\u001b[39m: \u001b[1m127.0.1.1\u001b[22m\n"
     ]
    },
    {
     "name": "stderr",
     "output_type": "stream",
     "text": [
      "2025-09-16 13:03:01,880\tINFO worker.py:1942 -- Connected to Ray cluster. View the dashboard at \u001b[1m\u001b[32mhttp://127.0.0.1:8265 \u001b[39m\u001b[22m\n"
     ]
    },
    {
     "name": "stdout",
     "output_type": "stream",
     "text": [
      "2025-09-16 13:03:01,744\tSUCC scripts.py:949 -- \u001b[32m--------------------\u001b[39m\n",
      "2025-09-16 13:03:01,744\tSUCC scripts.py:950 -- \u001b[32mRay runtime started.\u001b[39m\n",
      "2025-09-16 13:03:01,745\tSUCC scripts.py:951 -- \u001b[32m--------------------\u001b[39m\n",
      "2025-09-16 13:03:01,745\tINFO scripts.py:953 -- \u001b[36mNext steps\u001b[39m\n",
      "2025-09-16 13:03:01,745\tINFO scripts.py:956 -- To add another node to this Ray cluster, run\n",
      "2025-09-16 13:03:01,745\tINFO scripts.py:959 -- \u001b[1m  ray start --address='127.0.1.1:6379'\u001b[22m\n",
      "2025-09-16 13:03:01,745\tINFO scripts.py:968 -- To connect to this Ray cluster:\n",
      "2025-09-16 13:03:01,745\tINFO scripts.py:970 -- \u001b[35mimport\u001b[39m\u001b[26m ray\n",
      "2025-09-16 13:03:01,745\tINFO scripts.py:971 -- ray\u001b[35m.\u001b[39m\u001b[26minit(_node_ip_address\u001b[35m=\u001b[39m\u001b[26m\u001b[33m'127.0.1.1'\u001b[39m\u001b[26m)\n",
      "2025-09-16 13:03:01,745\tINFO scripts.py:983 -- To submit a Ray job using the Ray Jobs CLI:\n",
      "2025-09-16 13:03:01,745\tINFO scripts.py:984 -- \u001b[1m  RAY_API_SERVER_ADDRESS='http://127.0.0.1:8265' ray job submit --working-dir . -- python my_script.py\u001b[22m\n",
      "2025-09-16 13:03:01,745\tINFO scripts.py:993 -- See https://docs.ray.io/en/latest/cluster/running-applications/job-submission/index.html \n",
      "2025-09-16 13:03:01,745\tINFO scripts.py:997 -- for more information on submitting Ray jobs to the Ray cluster.\n",
      "2025-09-16 13:03:01,745\tINFO scripts.py:1002 -- To terminate the Ray runtime, run\n",
      "2025-09-16 13:03:01,745\tINFO scripts.py:1003 -- \u001b[1m  ray stop\u001b[22m\n",
      "2025-09-16 13:03:01,745\tINFO scripts.py:1006 -- To view the status of the cluster, use\n",
      "2025-09-16 13:03:01,745\tINFO scripts.py:1007 --   \u001b[1mray status\u001b[22m\u001b[26m\n",
      "2025-09-16 13:03:01,745\tINFO scripts.py:1011 -- To monitor and debug Ray, view the dashboard at \n",
      "2025-09-16 13:03:01,745\tINFO scripts.py:1012 --   \u001b[1m127.0.0.1:8265\u001b[22m\u001b[26m\n",
      "2025-09-16 13:03:01,745\tINFO scripts.py:1019 -- \u001b[4mIf connection to the dashboard fails, check your firewall settings and network configuration.\u001b[24m\n",
      "2025-09-16 13:03:01,745\tINFO scripts.py:1123 -- \u001b[36m\u001b[1m--block\u001b[22m\u001b[39m\n",
      "2025-09-16 13:03:01,746\tINFO scripts.py:1124 -- This command will now block forever until terminated by a signal.\n",
      "2025-09-16 13:03:01,746\tINFO scripts.py:1127 -- Running subprocesses are monitored and a message will be printed if any of them terminate unexpectedly. Subprocesses exit with SIGTERM will be treated as graceful, thus NOT reported.\n"
     ]
    },
    {
     "name": "stderr",
     "output_type": "stream",
     "text": [
      "2025-09-16 13:03:02,684\tINFO worker.py:1630 -- Using address 127.0.1.1:6379 set in the environment variable RAY_ADDRESS\n",
      "2025-09-16 13:03:02,686\tINFO worker.py:1771 -- Connecting to existing Ray cluster at address: 127.0.1.1:6379...\n",
      "2025-09-16 13:03:02,687\tINFO worker.py:1789 -- Calling ray.init() again after it has already been called.\n",
      "Fetching 30 files: 100%|██████████| 30/30 [00:00<00:00, 10890.52it/s]\n",
      "Fetching 30 files: 100%|██████████| 30/30 [00:00<00:00, 10035.82it/s]\n",
      "2025-09-16 13:06:14,877\tINFO worker.py:1630 -- Using address 127.0.1.1:6379 set in the environment variable RAY_ADDRESS\n",
      "2025-09-16 13:06:14,879\tINFO worker.py:1771 -- Connecting to existing Ray cluster at address: 127.0.1.1:6379...\n",
      "2025-09-16 13:06:14,886\tINFO worker.py:1942 -- Connected to Ray cluster. View the dashboard at \u001b[1m\u001b[32mhttp://127.0.0.1:8265 \u001b[39m\u001b[22m\n"
     ]
    },
    {
     "name": "stdout",
     "output_type": "stream",
     "text": [
      "\u001b[36m(KMeansReadFitWriteStage pid=2184127)\u001b[0m 203520000\n",
      "\u001b[36m(KMeansReadFitWriteStage pid=2184128)\u001b[0m 203412096\n",
      "\u001b[36m(KMeansReadFitWriteStage pid=2184129)\u001b[0m 203520000\n",
      "\u001b[36m(KMeansReadFitWriteStage pid=2184132)\u001b[0m 203520000\n"
     ]
    },
    {
     "name": "stderr",
     "output_type": "stream",
     "text": [
      "2025-09-16 13:06:42,912\tINFO worker.py:1630 -- Using address 127.0.1.1:6379 set in the environment variable RAY_ADDRESS\n",
      "2025-09-16 13:06:42,914\tINFO worker.py:1771 -- Connecting to existing Ray cluster at address: 127.0.1.1:6379...\n",
      "2025-09-16 13:06:42,921\tINFO worker.py:1942 -- Connected to Ray cluster. View the dashboard at \u001b[1m\u001b[32mhttp://127.0.0.1:8265 \u001b[39m\u001b[22m\n",
      "2025-09-16 13:06:42,936\tINFO worker.py:1630 -- Using address 127.0.1.1:6379 set in the environment variable RAY_ADDRESS\n",
      "2025-09-16 13:06:42,938\tINFO worker.py:1771 -- Connecting to existing Ray cluster at address: 127.0.1.1:6379...\n",
      "2025-09-16 13:06:42,939\tINFO worker.py:1789 -- Calling ray.init() again after it has already been called.\n",
      "2025-09-16 13:07:10,047\tINFO worker.py:1630 -- Using address 127.0.1.1:6379 set in the environment variable RAY_ADDRESS\n",
      "2025-09-16 13:07:10,049\tINFO worker.py:1771 -- Connecting to existing Ray cluster at address: 127.0.1.1:6379...\n",
      "2025-09-16 13:07:10,056\tINFO worker.py:1942 -- Connected to Ray cluster. View the dashboard at \u001b[1m\u001b[32mhttp://127.0.0.1:8265 \u001b[39m\u001b[22m\n",
      "2025-09-16 13:07:10,071\tINFO worker.py:1630 -- Using address 127.0.1.1:6379 set in the environment variable RAY_ADDRESS\n",
      "2025-09-16 13:07:10,073\tINFO worker.py:1771 -- Connecting to existing Ray cluster at address: 127.0.1.1:6379...\n",
      "2025-09-16 13:07:10,074\tINFO worker.py:1789 -- Calling ray.init() again after it has already been called.\n"
     ]
    }
   ],
   "source": [
    "from nemo_curator.core.client import RayClient\n",
    "\n",
    "client = RayClient(num_cpus=64, num_gpus=4)\n",
    "client.start()\n",
    "try:\n",
    "    workflow.run()\n",
    "finally:\n",
    "    client.stop()"
   ]
  },
  {
   "cell_type": "markdown",
   "id": "0cb61451",
   "metadata": {},
   "source": [
    "### Looking at output / cache paths"
   ]
  },
  {
   "cell_type": "markdown",
   "id": "adb343b3",
   "metadata": {},
   "source": [
    "#### Embeddings\n",
    "\n",
    "1. `id` : The id field from our original dataset. \n",
    "    - For all subsequent steps this is assumed to be the  `id_field`\n",
    "    - If you had set `use_id_generator` to `True` then instead of this you would see the `_curator_dedup_id` spcified. \n",
    "        - The id in that field is generated using our IdGenerator which assigns integer ids to each row in input data that later is used in removal. \n",
    "2. `embeddings` : The embedding generated by the model we used above."
   ]
  },
  {
   "cell_type": "code",
   "execution_count": 7,
   "id": "ef31ee41",
   "metadata": {},
   "outputs": [
    {
     "data": {
      "text/html": [
       "<div>\n",
       "<style scoped>\n",
       "    .dataframe tbody tr th:only-of-type {\n",
       "        vertical-align: middle;\n",
       "    }\n",
       "\n",
       "    .dataframe tbody tr th {\n",
       "        vertical-align: top;\n",
       "    }\n",
       "\n",
       "    .dataframe thead th {\n",
       "        text-align: right;\n",
       "    }\n",
       "</style>\n",
       "<table border=\"1\" class=\"dataframe\">\n",
       "  <thead>\n",
       "    <tr style=\"text-align: right;\">\n",
       "      <th></th>\n",
       "      <th>id</th>\n",
       "      <th>embeddings</th>\n",
       "    </tr>\n",
       "  </thead>\n",
       "  <tbody>\n",
       "    <tr>\n",
       "      <th>0</th>\n",
       "      <td>f7a857b6-f2d8-4991-80ed-324f41496829</td>\n",
       "      <td>[-0.12394736707210541, 0.010744917206466198, 0...</td>\n",
       "    </tr>\n",
       "    <tr>\n",
       "      <th>1</th>\n",
       "      <td>298917d8-e269-4aef-9b60-d841fbc0ef6d</td>\n",
       "      <td>[-0.07273813337087631, 0.06685175746679306, 0....</td>\n",
       "    </tr>\n",
       "    <tr>\n",
       "      <th>2</th>\n",
       "      <td>249f2256-a10b-4dba-afb7-4d95b60636ee</td>\n",
       "      <td>[-0.04823765903711319, 0.11327654868364334, -0...</td>\n",
       "    </tr>\n",
       "    <tr>\n",
       "      <th>3</th>\n",
       "      <td>2afdfed3-f399-4d25-b23e-27f643870e07</td>\n",
       "      <td>[-0.08059918135404587, 0.024182168766856194, -...</td>\n",
       "    </tr>\n",
       "    <tr>\n",
       "      <th>4</th>\n",
       "      <td>c12efa85-804d-46fe-a6ac-940c5e6bb94e</td>\n",
       "      <td>[-0.031761009246110916, 0.02613956294953823, 0...</td>\n",
       "    </tr>\n",
       "  </tbody>\n",
       "</table>\n",
       "</div>"
      ],
      "text/plain": [
       "                                     id  \\\n",
       "0  f7a857b6-f2d8-4991-80ed-324f41496829   \n",
       "1  298917d8-e269-4aef-9b60-d841fbc0ef6d   \n",
       "2  249f2256-a10b-4dba-afb7-4d95b60636ee   \n",
       "3  2afdfed3-f399-4d25-b23e-27f643870e07   \n",
       "4  c12efa85-804d-46fe-a6ac-940c5e6bb94e   \n",
       "\n",
       "                                          embeddings  \n",
       "0  [-0.12394736707210541, 0.010744917206466198, 0...  \n",
       "1  [-0.07273813337087631, 0.06685175746679306, 0....  \n",
       "2  [-0.04823765903711319, 0.11327654868364334, -0...  \n",
       "3  [-0.08059918135404587, 0.024182168766856194, -...  \n",
       "4  [-0.031761009246110916, 0.02613956294953823, 0...  "
      ]
     },
     "execution_count": 7,
     "metadata": {},
     "output_type": "execute_result"
    }
   ],
   "source": [
    "embeddings_path = os.path.join(cache_path, \"embeddings\")\n",
    "\n",
    "pd.read_parquet(os.path.join(embeddings_path, os.listdir(embeddings_path)[0])).head()"
   ]
  },
  {
   "cell_type": "markdown",
   "id": "bd5057fe",
   "metadata": {},
   "source": [
    "#### KMeans Results\n",
    "\n",
    "1. `id` : The ids of the rows that belong to the cluster.\n",
    "2. `embeddings` : These are later used for pairwise similarity\n",
    "3. `l2_dist_to_cent` / `cosine_dist_to_cent` : This represents how far (l2 distance or cosine distance) is from our clusters centroid.\n",
    "    - These fields help us define how we want to prioritize ranking within our cluster. See `RankingStratergy`\n",
    "    - If we had other `metadata_fields` provided they would be used here instead.\n"
   ]
  },
  {
   "cell_type": "code",
   "execution_count": 8,
   "id": "02c7c9ab",
   "metadata": {},
   "outputs": [
    {
     "data": {
      "text/html": [
       "<div>\n",
       "<style scoped>\n",
       "    .dataframe tbody tr th:only-of-type {\n",
       "        vertical-align: middle;\n",
       "    }\n",
       "\n",
       "    .dataframe tbody tr th {\n",
       "        vertical-align: top;\n",
       "    }\n",
       "\n",
       "    .dataframe thead th {\n",
       "        text-align: right;\n",
       "    }\n",
       "</style>\n",
       "<table border=\"1\" class=\"dataframe\">\n",
       "  <thead>\n",
       "    <tr style=\"text-align: right;\">\n",
       "      <th></th>\n",
       "      <th>id</th>\n",
       "      <th>embeddings</th>\n",
       "      <th>l2_dist_to_cent</th>\n",
       "      <th>cosine_dist_to_cent</th>\n",
       "    </tr>\n",
       "  </thead>\n",
       "  <tbody>\n",
       "    <tr>\n",
       "      <th>0</th>\n",
       "      <td>d9ea3653-4995-428a-82bd-fbdddf3a3f07</td>\n",
       "      <td>[-0.045619637, 0.02869307, 0.04971463, 0.04870...</td>\n",
       "      <td>0.666160</td>\n",
       "      <td>0.252270</td>\n",
       "    </tr>\n",
       "    <tr>\n",
       "      <th>1</th>\n",
       "      <td>67347027-46e8-4f9a-9d6a-89f5caa9a146</td>\n",
       "      <td>[-0.033726413, 0.06598548, 0.034210414, 0.0044...</td>\n",
       "      <td>0.646775</td>\n",
       "      <td>0.236389</td>\n",
       "    </tr>\n",
       "    <tr>\n",
       "      <th>2</th>\n",
       "      <td>3a319825-3d81-4c85-9887-b5f83e3a10d5</td>\n",
       "      <td>[-0.0750781, 0.01703193, 0.062773034, -0.01165...</td>\n",
       "      <td>0.516329</td>\n",
       "      <td>0.141716</td>\n",
       "    </tr>\n",
       "    <tr>\n",
       "      <th>3</th>\n",
       "      <td>e1c8648d-7e77-4081-b050-64eb5ddff708</td>\n",
       "      <td>[-0.022374246, 0.045000467, 0.08037134, 0.1068...</td>\n",
       "      <td>0.638294</td>\n",
       "      <td>0.229588</td>\n",
       "    </tr>\n",
       "    <tr>\n",
       "      <th>4</th>\n",
       "      <td>b9010c1d-522f-4eb1-9a97-f55874f25e5b</td>\n",
       "      <td>[-0.058193002, 0.01640579, 0.03337666, 0.04800...</td>\n",
       "      <td>0.603638</td>\n",
       "      <td>0.202732</td>\n",
       "    </tr>\n",
       "  </tbody>\n",
       "</table>\n",
       "</div>"
      ],
      "text/plain": [
       "                                     id  \\\n",
       "0  d9ea3653-4995-428a-82bd-fbdddf3a3f07   \n",
       "1  67347027-46e8-4f9a-9d6a-89f5caa9a146   \n",
       "2  3a319825-3d81-4c85-9887-b5f83e3a10d5   \n",
       "3  e1c8648d-7e77-4081-b050-64eb5ddff708   \n",
       "4  b9010c1d-522f-4eb1-9a97-f55874f25e5b   \n",
       "\n",
       "                                          embeddings  l2_dist_to_cent  \\\n",
       "0  [-0.045619637, 0.02869307, 0.04971463, 0.04870...         0.666160   \n",
       "1  [-0.033726413, 0.06598548, 0.034210414, 0.0044...         0.646775   \n",
       "2  [-0.0750781, 0.01703193, 0.062773034, -0.01165...         0.516329   \n",
       "3  [-0.022374246, 0.045000467, 0.08037134, 0.1068...         0.638294   \n",
       "4  [-0.058193002, 0.01640579, 0.03337666, 0.04800...         0.603638   \n",
       "\n",
       "   cosine_dist_to_cent  \n",
       "0             0.252270  \n",
       "1             0.236389  \n",
       "2             0.141716  \n",
       "3             0.229588  \n",
       "4             0.202732  "
      ]
     },
     "execution_count": 8,
     "metadata": {},
     "output_type": "execute_result"
    }
   ],
   "source": [
    "kmeans_path_first_centroid = os.path.join(cache_path, \"semantic_dedup\", \"kmeans_results\", \"centroid=0\")\n",
    "\n",
    "pd.read_parquet(os.path.join(kmeans_path_first_centroid, os.listdir(kmeans_path_first_centroid)[0])).head()"
   ]
  },
  {
   "cell_type": "markdown",
   "id": "27aaac0b",
   "metadata": {},
   "source": [
    "#### Pairwise Similarity Result\n",
    "\n",
    "1. `id` : The identifier for the duplicate row.\n",
    "2. `max_id` : The closest pair for the duplicate row.\n",
    "3. `cosine_sim_score` : The cosine similarity between the two points\n"
   ]
  },
  {
   "cell_type": "code",
   "execution_count": 27,
   "id": "4f741101",
   "metadata": {},
   "outputs": [
    {
     "data": {
      "text/html": [
       "<div>\n",
       "<style scoped>\n",
       "    .dataframe tbody tr th:only-of-type {\n",
       "        vertical-align: middle;\n",
       "    }\n",
       "\n",
       "    .dataframe tbody tr th {\n",
       "        vertical-align: top;\n",
       "    }\n",
       "\n",
       "    .dataframe thead th {\n",
       "        text-align: right;\n",
       "    }\n",
       "</style>\n",
       "<table border=\"1\" class=\"dataframe\">\n",
       "  <thead>\n",
       "    <tr style=\"text-align: right;\">\n",
       "      <th></th>\n",
       "      <th>id</th>\n",
       "      <th>max_id</th>\n",
       "      <th>cosine_sim_score</th>\n",
       "    </tr>\n",
       "  </thead>\n",
       "  <tbody>\n",
       "    <tr>\n",
       "      <th>0</th>\n",
       "      <td>6bd1477c-1303-451b-8a99-6b5d02f89778</td>\n",
       "      <td>6bd1477c-1303-451b-8a99-6b5d02f89778</td>\n",
       "      <td>0.000000</td>\n",
       "    </tr>\n",
       "    <tr>\n",
       "      <th>1</th>\n",
       "      <td>0a7d2ba8-af4a-4d0d-ba17-a4bae1523269</td>\n",
       "      <td>6bd1477c-1303-451b-8a99-6b5d02f89778</td>\n",
       "      <td>0.932138</td>\n",
       "    </tr>\n",
       "    <tr>\n",
       "      <th>2</th>\n",
       "      <td>53f75eff-d45e-4c76-9ce7-c0a3bfa6ac5f</td>\n",
       "      <td>6bd1477c-1303-451b-8a99-6b5d02f89778</td>\n",
       "      <td>0.936246</td>\n",
       "    </tr>\n",
       "    <tr>\n",
       "      <th>3</th>\n",
       "      <td>dc45be58-58e3-4358-90db-541ad00faf8f</td>\n",
       "      <td>6bd1477c-1303-451b-8a99-6b5d02f89778</td>\n",
       "      <td>0.915550</td>\n",
       "    </tr>\n",
       "    <tr>\n",
       "      <th>4</th>\n",
       "      <td>a6cadb30-44a7-48cb-8966-da3a1e3607d7</td>\n",
       "      <td>6bd1477c-1303-451b-8a99-6b5d02f89778</td>\n",
       "      <td>0.928383</td>\n",
       "    </tr>\n",
       "  </tbody>\n",
       "</table>\n",
       "</div>"
      ],
      "text/plain": [
       "                                     id                                max_id  \\\n",
       "0  6bd1477c-1303-451b-8a99-6b5d02f89778  6bd1477c-1303-451b-8a99-6b5d02f89778   \n",
       "1  0a7d2ba8-af4a-4d0d-ba17-a4bae1523269  6bd1477c-1303-451b-8a99-6b5d02f89778   \n",
       "2  53f75eff-d45e-4c76-9ce7-c0a3bfa6ac5f  6bd1477c-1303-451b-8a99-6b5d02f89778   \n",
       "3  dc45be58-58e3-4358-90db-541ad00faf8f  6bd1477c-1303-451b-8a99-6b5d02f89778   \n",
       "4  a6cadb30-44a7-48cb-8966-da3a1e3607d7  6bd1477c-1303-451b-8a99-6b5d02f89778   \n",
       "\n",
       "   cosine_sim_score  \n",
       "0          0.000000  \n",
       "1          0.932138  \n",
       "2          0.936246  \n",
       "3          0.915550  \n",
       "4          0.928383  "
      ]
     },
     "execution_count": 27,
     "metadata": {},
     "output_type": "execute_result"
    }
   ],
   "source": [
    "pairwise_path = os.path.join(cache_path, \"semantic_dedup\", \"pairwise_results\")\n",
    "\n",
    "pd.read_parquet(os.path.join(pairwise_path, \"cluster_0.parquet\")).head()"
   ]
  },
  {
   "cell_type": "markdown",
   "id": "5ee21190",
   "metadata": {},
   "source": [
    "##### Looking at similar results\n",
    "\n",
    "We can look at two rows and see why the embedding model thinks they're similar.\n",
    "We can use this to guide our decision about the `eps` parameter.\n",
    "\n",
    "We use two `0a7d2ba8-af4a-4d0d-ba17-a4bae1523269` and\t`6bd1477c-1303-451b-8a99-6b5d02f89778` which have cosine similarity of\t`0.932138`.\n",
    "\n",
    "And we notice that the theme of the data is very similar. \n",
    "\n",
    "**NOTE : If you run with `use_id_generator=True` (which is important to perform removal at large scale) you will see the ids which were generated internally, and there won't be a way to perform this step, as there is no simple way of getting old mapping of id to new mapping of id. **"
   ]
  },
  {
   "cell_type": "code",
   "execution_count": 49,
   "id": "d1abf127",
   "metadata": {},
   "outputs": [
    {
     "name": "stdout",
     "output_type": "stream",
     "text": [
      "[{'id': '0a7d2ba8-af4a-4d0d-ba17-a4bae1523269',\n",
      "  'text': 'Once upon a time, there was a little girl named Lily. She lived in '\n",
      "          \"a big house with her mommy and daddy. One day, Lily's mommy said, \"\n",
      "          '\"Lily, we need to hurry and get ready to go to the park.\"\\n'\n",
      "          '\\n'\n",
      "          'Lily replied, \"Okay mommy, I will be very fast.\" She put on her '\n",
      "          'shoes and ran to the car.\\n'\n",
      "          '\\n'\n",
      "          'When they got to the park, Lily saw lots of other kids playing. One '\n",
      "          'boy was playing with a ball and accidentally hit it towards Lily. '\n",
      "          '\"I\\'m sorry,\" he said in a thoughtful voice.\\n'\n",
      "          '\\n'\n",
      "          '\"It\\'s okay,\" Lily said with a smile. \"Let\\'s play together!\"\\n'\n",
      "          '\\n'\n",
      "          'They played together for a long time and had so much fun. Lily was '\n",
      "          'happy to have made a new friend from a different nation. When it '\n",
      "          'was time to go home, Lily said goodbye to her new friend and '\n",
      "          'thanked her mommy and daddy for taking her to the park.'},\n",
      " {'id': '6bd1477c-1303-451b-8a99-6b5d02f89778',\n",
      "  'text': 'Once upon a time, there was a little girl named Lily. She loved to '\n",
      "          'play with her toys all day long, but sometimes she felt lonely. One '\n",
      "          'day, her mommy said, \"Lily, let\\'s go to the park and play with '\n",
      "          'other kids.\" Lily was so happy and excited!\\n'\n",
      "          '\\n'\n",
      "          'At the park, Lily saw many kids playing, but they all seemed so '\n",
      "          \"distant from her. She didn't know how to join in. Suddenly, a kind \"\n",
      "          'boy came up to her and said, \"Hi, do you want to play with us?\" '\n",
      "          'Lily smiled and said, \"Yes, please!\" The boy provided her with a '\n",
      "          'ball, and they all started to play together.\\n'\n",
      "          '\\n'\n",
      "          \"Lily had so much fun playing with her new friends. She didn't want \"\n",
      "          'the time to end, but eventually, it was time to go home. Lily said '\n",
      "          'goodbye to her new friends, feeling happy and grateful for the fun '\n",
      "          'time they had together.'}]\n"
     ]
    }
   ],
   "source": [
    "from pprint import pprint\n",
    "\n",
    "pprint(\n",
    "    pd.read_parquet(\n",
    "        input_path,\n",
    "        filters=[(\"id\", \"in\", {\"0a7d2ba8-af4a-4d0d-ba17-a4bae1523269\", \"6bd1477c-1303-451b-8a99-6b5d02f89778\"})],\n",
    "    ).to_dict(orient=\"records\")\n",
    ")"
   ]
  },
  {
   "cell_type": "markdown",
   "id": "0c446a67",
   "metadata": {},
   "source": [
    "##### Visualizing Similarity in our dataset\n",
    "\n",
    "\n",
    "Depending on our dataset size we can read through all of the files and plot how much data is similar to one another.\n",
    "Here we show how to read file by file and then perform a reduce. \n",
    "\n",
    "In our dataset we can see that ~20% of our data has cosine_similarity of 0.9 or more.\n",
    "\n",
    "Based on the analysis here and above (where we see similar text fields) we can decide what our `eps` should be. \n",
    "However in this tutorial we pre-ran with eps set and perform_removal to be True.\n",
    "\n",
    "However ideally, users do this analysis, inspect the duplicates, come up with an `eps` and then run a pipeline that includes the `IdentifyDuplicates` stage; and finally perform removal."
   ]
  },
  {
   "cell_type": "code",
   "execution_count": 51,
   "id": "a548c4fa",
   "metadata": {},
   "outputs": [],
   "source": [
    "from collections import Counter\n",
    "from functools import reduce\n",
    "\n",
    "import numpy as np\n",
    "\n",
    "\n",
    "def get_bins(df: pd.DataFrame, num_bins: int = 1_000) -> dict[float, int]:\n",
    "    bins = np.linspace(0, 1.01, num_bins)\n",
    "\n",
    "    return Counter(\n",
    "        pd.cut(df[\"cosine_sim_score\"], bins=bins, labels=bins[1:], retbins=False, include_lowest=True, right=True)\n",
    "        .value_counts()\n",
    "        .to_dict()\n",
    "    )\n",
    "\n",
    "\n",
    "similarity_across_dataset = reduce(\n",
    "    lambda x, y: x + y,\n",
    "    [\n",
    "        get_bins(pd.read_parquet(os.path.join(pairwise_path, f), columns=[\"cosine_sim_score\"]), num_bins=1000)\n",
    "        for f in os.listdir(pairwise_path)\n",
    "    ],\n",
    ")"
   ]
  },
  {
   "cell_type": "code",
   "execution_count": null,
   "id": "2db46cf5",
   "metadata": {},
   "outputs": [
    {
     "data": {
      "image/png": "[encoded data removed]",
      "text/plain": [
       "<Figure size 640x480 with 1 Axes>"
      ]
     },
     "metadata": {},
     "output_type": "display_data"
    }
   ],
   "source": [
    "import matplotlib.pyplot as plt\n",
    "\n",
    "plt.ecdf(x=similarity_across_dataset.keys(), weights=similarity_across_dataset.values())\n",
    "plt.xticks(np.linspace(0, 1, 11))\n",
    "plt.yticks(np.linspace(0, 1, 11))\n",
    "plt.xlabel(\"Cosine Similarity\")\n",
    "plt.ylabel(\"Ratio of dataset below the similarity score\")\n",
    "plt.grid()\n",
    "plt.show()"
   ]
  },
  {
   "cell_type": "markdown",
   "id": "dd43865d",
   "metadata": {},
   "source": [
    "#### Looking at duplicates\n",
    "\n",
    "- `id` : This is a list of all ids that are above our similarity threshold `eps`."
   ]
  },
  {
   "cell_type": "code",
   "execution_count": 53,
   "id": "2578b143",
   "metadata": {},
   "outputs": [
    {
     "data": {
      "text/html": [
       "<div>\n",
       "<style scoped>\n",
       "    .dataframe tbody tr th:only-of-type {\n",
       "        vertical-align: middle;\n",
       "    }\n",
       "\n",
       "    .dataframe tbody tr th {\n",
       "        vertical-align: top;\n",
       "    }\n",
       "\n",
       "    .dataframe thead th {\n",
       "        text-align: right;\n",
       "    }\n",
       "</style>\n",
       "<table border=\"1\" class=\"dataframe\">\n",
       "  <thead>\n",
       "    <tr style=\"text-align: right;\">\n",
       "      <th></th>\n",
       "      <th>id</th>\n",
       "    </tr>\n",
       "  </thead>\n",
       "  <tbody>\n",
       "    <tr>\n",
       "      <th>0</th>\n",
       "      <td>0000262b-4ec2-46cb-899d-9a11764bbeda</td>\n",
       "    </tr>\n",
       "    <tr>\n",
       "      <th>1</th>\n",
       "      <td>000470c9-d4ab-4804-9141-b059da860694</td>\n",
       "    </tr>\n",
       "    <tr>\n",
       "      <th>2</th>\n",
       "      <td>0005a527-9792-4ff1-8d3e-5c4b320487a5</td>\n",
       "    </tr>\n",
       "    <tr>\n",
       "      <th>3</th>\n",
       "      <td>0005dbd4-94bb-48a1-96dc-ef4d363d2750</td>\n",
       "    </tr>\n",
       "    <tr>\n",
       "      <th>4</th>\n",
       "      <td>0006d2d0-945a-4d56-972b-5ae308621f0d</td>\n",
       "    </tr>\n",
       "  </tbody>\n",
       "</table>\n",
       "</div>"
      ],
      "text/plain": [
       "                                     id\n",
       "0  0000262b-4ec2-46cb-899d-9a11764bbeda\n",
       "1  000470c9-d4ab-4804-9141-b059da860694\n",
       "2  0005a527-9792-4ff1-8d3e-5c4b320487a5\n",
       "3  0005dbd4-94bb-48a1-96dc-ef4d363d2750\n",
       "4  0006d2d0-945a-4d56-972b-5ae308621f0d"
      ]
     },
     "execution_count": 53,
     "metadata": {},
     "output_type": "execute_result"
    }
   ],
   "source": [
    "duplicates_path = os.path.join(output_path, \"duplicates\")\n",
    "\n",
    "pd.read_parquet(os.path.join(duplicates_path, os.listdir(duplicates_path)[0])).head()"
   ]
  },
  {
   "cell_type": "code",
   "execution_count": 63,
   "id": "018bf976",
   "metadata": {},
   "outputs": [
    {
     "name": "stdout",
     "output_type": "stream",
     "text": [
      "We found 320,464 duplicates in the dataset\n"
     ]
    }
   ],
   "source": [
    "num_duplicates = sum(pq.read_metadata(os.path.join(duplicates_path, f)).num_rows for f in os.listdir(duplicates_path))\n",
    "print(f\"We found {num_duplicates:,} duplicates in the dataset\")"
   ]
  },
  {
   "cell_type": "markdown",
   "id": "98c21b65",
   "metadata": {},
   "source": [
    "#### Looking at deduplicated dataset\n",
    "\n",
    "Here we see all the original columns. \n",
    "\n",
    "We can control the schema of this by specifying the `output_fields` arg in the workflow definition.\n",
    "\n",
    "If you had set use_id_generator then you'd see `_curator_dedup_id` here as well."
   ]
  },
  {
   "cell_type": "code",
   "execution_count": 64,
   "id": "ee288d0c",
   "metadata": {},
   "outputs": [
    {
     "data": {
      "text/html": [
       "<div>\n",
       "<style scoped>\n",
       "    .dataframe tbody tr th:only-of-type {\n",
       "        vertical-align: middle;\n",
       "    }\n",
       "\n",
       "    .dataframe tbody tr th {\n",
       "        vertical-align: top;\n",
       "    }\n",
       "\n",
       "    .dataframe thead th {\n",
       "        text-align: right;\n",
       "    }\n",
       "</style>\n",
       "<table border=\"1\" class=\"dataframe\">\n",
       "  <thead>\n",
       "    <tr style=\"text-align: right;\">\n",
       "      <th></th>\n",
       "      <th>text</th>\n",
       "      <th>id</th>\n",
       "    </tr>\n",
       "  </thead>\n",
       "  <tbody>\n",
       "    <tr>\n",
       "      <th>0</th>\n",
       "      <td>Once upon a time, there was a big dog named Ma...</td>\n",
       "      <td>6ad1b334-45b4-4a03-a4a9-73f130b52b0a</td>\n",
       "    </tr>\n",
       "    <tr>\n",
       "      <th>1</th>\n",
       "      <td>Once upon a time, there was a shy little girl ...</td>\n",
       "      <td>f7ca673a-ed1e-43f1-82b9-ed9c373a166d</td>\n",
       "    </tr>\n",
       "    <tr>\n",
       "      <th>2</th>\n",
       "      <td>Once upon a time, there was a little boy named...</td>\n",
       "      <td>eefa6898-5edd-4d29-ad7b-6cf7af418b07</td>\n",
       "    </tr>\n",
       "    <tr>\n",
       "      <th>3</th>\n",
       "      <td>Once upon a time, there was a little girl name...</td>\n",
       "      <td>315b7ead-1c98-4e21-a22a-dd5140822613</td>\n",
       "    </tr>\n",
       "    <tr>\n",
       "      <th>4</th>\n",
       "      <td>Once upon a time, there was a little girl name...</td>\n",
       "      <td>ad2f7f66-d20a-4bd5-9263-a5f96aa5bca8</td>\n",
       "    </tr>\n",
       "  </tbody>\n",
       "</table>\n",
       "</div>"
      ],
      "text/plain": [
       "                                                text  \\\n",
       "0  Once upon a time, there was a big dog named Ma...   \n",
       "1  Once upon a time, there was a shy little girl ...   \n",
       "2  Once upon a time, there was a little boy named...   \n",
       "3  Once upon a time, there was a little girl name...   \n",
       "4  Once upon a time, there was a little girl name...   \n",
       "\n",
       "                                     id  \n",
       "0  6ad1b334-45b4-4a03-a4a9-73f130b52b0a  \n",
       "1  f7ca673a-ed1e-43f1-82b9-ed9c373a166d  \n",
       "2  eefa6898-5edd-4d29-ad7b-6cf7af418b07  \n",
       "3  315b7ead-1c98-4e21-a22a-dd5140822613  \n",
       "4  ad2f7f66-d20a-4bd5-9263-a5f96aa5bca8  "
      ]
     },
     "execution_count": 64,
     "metadata": {},
     "output_type": "execute_result"
    }
   ],
   "source": [
    "deduplicated_path = os.path.join(output_path, \"deduplicated\")\n",
    "\n",
    "pd.read_parquet(os.path.join(deduplicated_path, os.listdir(deduplicated_path)[0])).head()"
   ]
  },
  {
   "cell_type": "code",
   "execution_count": 65,
   "id": "66cfca8f",
   "metadata": {},
   "outputs": [
    {
     "name": "stdout",
     "output_type": "stream",
     "text": [
      "Our final dataset has 1,799,255 rows\n"
     ]
    }
   ],
   "source": [
    "num_deduplicated = sum(\n",
    "    pq.read_metadata(os.path.join(deduplicated_path, f)).num_rows for f in os.listdir(deduplicated_path)\n",
    ")\n",
    "print(f\"Our final dataset has {num_deduplicated:,} rows\")"
   ]
  }
 ],
 "metadata": {
  "kernelspec": {
   "display_name": "Python 3",
   "language": "python",
   "name": "python3"
  },
  "language_info": {
   "codemirror_mode": {
    "name": "ipython",
    "version": 3
   },
   "file_extension": ".py",
   "mimetype": "text/x-python",
   "name": "python",
   "nbconvert_exporter": "python",
   "pygments_lexer": "ipython3",
   "version": "3.12.11"
  }
 },
 "nbformat": 4,
 "nbformat_minor": 5
}
