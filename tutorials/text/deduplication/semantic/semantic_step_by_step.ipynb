{
 "cells": [
  {
   "cell_type": "markdown",
   "id": "54c8fe16",
   "metadata": {},
   "source": [
    "# Semantic Deduplication on Text\n",
    "\n",
    "GPU accelerated implementation of [SemDeDup: Data-efficient learning at web-scale through semantic deduplication](https://arxiv.org/abs/2303.09540)  "
   ]
  },
  {
   "cell_type": "code",
   "execution_count": null,
   "id": "8a2c97d2",
   "metadata": {},
   "outputs": [],
   "source": [
    "import os\n",
    "\n",
    "os.environ[\"LOGURU_LEVEL\"] = \"ERROR\"\n",
    "\n",
    "import pandas as pd\n",
    "\n",
    "input_path_to_data = \"/path/to/data\"\n",
    "semantic_out_dir = os.path.abspath(\"./output/step_by_step\")\n",
    "output_path = os.path.join(semantic_out_dir, \"output\")\n",
    "cache_path = os.path.join(semantic_out_dir, \"cache\")\n",
    "input_filetype = \"parquet\"  # this can be either of jsonl or parquet\n",
    "output_filetype = \"parquet\"  # this can be either of jsonl or parquet"
   ]
  },
  {
   "cell_type": "markdown",
   "id": "9f9e2c0f",
   "metadata": {},
   "source": [
    "# Running SemDedup workflow by workflow\n",
    "\n",
    "Here we intentionally break it down into executing three workflows. \n",
    "\n",
    "We also use id generator to show it works when running it separately.\n",
    "\n",
    "1. Create id generator.\n",
    "2. Running embedding generation\n",
    "3. Running kmeans + pairwise (without duplicate identification)\n",
    "4. Run duplicate identification\n",
    "5. Run removal\n",
    "\n",
    "Both steps 2 and 5 require the use of id generator created in step 1. "
   ]
  },
  {
   "cell_type": "code",
   "execution_count": null,
   "id": "9235be51",
   "metadata": {},
   "outputs": [
    {
     "name": "stdout",
     "output_type": "stream",
     "text": [
      "2025-09-16 12:09:02,134\tINFO usage_lib.py:447 -- Usage stats collection is disabled.\n",
      "2025-09-16 12:09:02,134\tINFO scripts.py:913 -- \u001b[37mLocal node IP\u001b[39m: \u001b[1m127.0.1.1\u001b[22m\n"
     ]
    }
   ],
   "source": [
    "from nemo_curator.core.client import RayClient\n",
    "\n",
    "client = RayClient(num_cpus=64, num_gpus=4)\n",
    "client.start()"
   ]
  },
  {
   "cell_type": "markdown",
   "id": "edbbe35f",
   "metadata": {},
   "source": [
    "## Create Id Generator\n",
    "\n",
    "1. This just creates a Ray Actor in the background.\n",
    "2. When we read our dataset now, this actor in the background is used to assign monotonically increasing int ids to each row. "
   ]
  },
  {
   "cell_type": "code",
   "execution_count": 3,
   "id": "57b8e36b",
   "metadata": {},
   "outputs": [
    {
     "name": "stderr",
     "output_type": "stream",
     "text": [
      "2025-09-16 12:09:02,673\tINFO worker.py:1630 -- Using address 127.0.1.1:6379 set in the environment variable RAY_ADDRESS\n",
      "2025-09-16 12:09:02,677\tINFO worker.py:1771 -- Connecting to existing Ray cluster at address: 127.0.1.1:6379...\n",
      "2025-09-16 12:09:05,149\tINFO worker.py:1942 -- Connected to Ray cluster. View the dashboard at \u001b[1m\u001b[32mhttp://127.0.0.1:8265 \u001b[39m\u001b[22m\n"
     ]
    },
    {
     "name": "stdout",
     "output_type": "stream",
     "text": [
      "2025-09-16 12:09:05,014\tSUCC scripts.py:949 -- \u001b[32m--------------------\u001b[39m\n",
      "2025-09-16 12:09:05,014\tSUCC scripts.py:950 -- \u001b[32mRay runtime started.\u001b[39m\n",
      "2025-09-16 12:09:05,014\tSUCC scripts.py:951 -- \u001b[32m--------------------\u001b[39m\n",
      "2025-09-16 12:09:05,014\tINFO scripts.py:953 -- \u001b[36mNext steps\u001b[39m\n",
      "2025-09-16 12:09:05,014\tINFO scripts.py:956 -- To add another node to this Ray cluster, run\n",
      "2025-09-16 12:09:05,015\tINFO scripts.py:959 -- \u001b[1m  ray start --address='127.0.1.1:6379'\u001b[22m\n",
      "2025-09-16 12:09:05,015\tINFO scripts.py:968 -- To connect to this Ray cluster:\n",
      "2025-09-16 12:09:05,015\tINFO scripts.py:970 -- \u001b[35mimport\u001b[39m\u001b[26m ray\n",
      "2025-09-16 12:09:05,015\tINFO scripts.py:971 -- ray\u001b[35m.\u001b[39m\u001b[26minit(_node_ip_address\u001b[35m=\u001b[39m\u001b[26m\u001b[33m'127.0.1.1'\u001b[39m\u001b[26m)\n",
      "2025-09-16 12:09:05,015\tINFO scripts.py:983 -- To submit a Ray job using the Ray Jobs CLI:\n",
      "2025-09-16 12:09:05,015\tINFO scripts.py:984 -- \u001b[1m  RAY_API_SERVER_ADDRESS='http://127.0.0.1:8265' ray job submit --working-dir . -- python my_script.py\u001b[22m\n",
      "2025-09-16 12:09:05,015\tINFO scripts.py:993 -- See https://docs.ray.io/en/latest/cluster/running-applications/job-submission/index.html \n",
      "2025-09-16 12:09:05,015\tINFO scripts.py:997 -- for more information on submitting Ray jobs to the Ray cluster.\n",
      "2025-09-16 12:09:05,015\tINFO scripts.py:1002 -- To terminate the Ray runtime, run\n",
      "2025-09-16 12:09:05,015\tINFO scripts.py:1003 -- \u001b[1m  ray stop\u001b[22m\n",
      "2025-09-16 12:09:05,015\tINFO scripts.py:1006 -- To view the status of the cluster, use\n",
      "2025-09-16 12:09:05,015\tINFO scripts.py:1007 --   \u001b[1mray status\u001b[22m\u001b[26m\n",
      "2025-09-16 12:09:05,015\tINFO scripts.py:1011 -- To monitor and debug Ray, view the dashboard at \n",
      "2025-09-16 12:09:05,015\tINFO scripts.py:1012 --   \u001b[1m127.0.0.1:8265\u001b[22m\u001b[26m\n",
      "2025-09-16 12:09:05,015\tINFO scripts.py:1019 -- \u001b[4mIf connection to the dashboard fails, check your firewall settings and network configuration.\u001b[24m\n",
      "2025-09-16 12:09:05,015\tINFO scripts.py:1123 -- \u001b[36m\u001b[1m--block\u001b[22m\u001b[39m\n",
      "2025-09-16 12:09:05,015\tINFO scripts.py:1124 -- This command will now block forever until terminated by a signal.\n",
      "2025-09-16 12:09:05,015\tINFO scripts.py:1127 -- Running subprocesses are monitored and a message will be printed if any of them terminate unexpectedly. Subprocesses exit with SIGTERM will be treated as graceful, thus NOT reported.\n"
     ]
    }
   ],
   "source": [
    "from nemo_curator.stages.deduplication.id_generator import create_id_generator_actor\n",
    "\n",
    "create_id_generator_actor()"
   ]
  },
  {
   "cell_type": "markdown",
   "id": "0d24e9ed",
   "metadata": {},
   "source": [
    "## Run Embedding Generation\n",
    "\n",
    "1. We output as parquet because that way we can read more smartly during our KMeans step. This is the recommended file format before you run KMeans.\n"
   ]
  },
  {
   "cell_type": "code",
   "execution_count": 4,
   "id": "271b0a1e",
   "metadata": {},
   "outputs": [
    {
     "name": "stderr",
     "output_type": "stream",
     "text": [
      "2025-09-16 12:09:16,142\tINFO worker.py:1630 -- Using address 127.0.1.1:6379 set in the environment variable RAY_ADDRESS\n",
      "2025-09-16 12:09:16,144\tINFO worker.py:1771 -- Connecting to existing Ray cluster at address: 127.0.1.1:6379...\n",
      "2025-09-16 12:09:16,151\tINFO worker.py:1942 -- Connected to Ray cluster. View the dashboard at \u001b[1m\u001b[32mhttp://127.0.0.1:8265 \u001b[39m\u001b[22m\n",
      "2025-09-16 12:09:16,166\tINFO worker.py:1630 -- Using address 127.0.1.1:6379 set in the environment variable RAY_ADDRESS\n",
      "2025-09-16 12:09:16,168\tINFO worker.py:1771 -- Connecting to existing Ray cluster at address: 127.0.1.1:6379...\n",
      "2025-09-16 12:09:16,168\tINFO worker.py:1789 -- Calling ray.init() again after it has already been called.\n",
      "Fetching 30 files: 100%|██████████| 30/30 [00:00<00:00, 9859.67it/s]\n",
      "Fetching 30 files: 100%|██████████| 30/30 [00:00<00:00, 11292.21it/s]\n"
     ]
    }
   ],
   "source": [
    "from nemo_curator.pipeline import Pipeline\n",
    "from nemo_curator.stages.text.embedders import EmbeddingCreatorStage\n",
    "from nemo_curator.stages.text.io.reader import ParquetReader\n",
    "from nemo_curator.stages.text.io.writer import ParquetWriter\n",
    "\n",
    "embedding_output_path = os.path.join(cache_path, \"embeddings\")\n",
    "\n",
    "embedding_pipeline = Pipeline(\n",
    "    name=\"embedding_pipeline\",\n",
    "    stages=[\n",
    "        # We specify _generate_ids=True to use the id generator we created in step 1.\n",
    "        ParquetReader(file_paths=input_path_to_data, files_per_partition=1, fields=[\"text\"], _generate_ids=True),\n",
    "        EmbeddingCreatorStage(\n",
    "            model_identifier=\"sentence-transformers/all-MiniLM-L6-v2\",\n",
    "            text_field=\"text\",\n",
    "            max_seq_length=None,\n",
    "            max_chars=None,\n",
    "            embedding_pooling=\"mean_pooling\",\n",
    "            model_inference_batch_size=256,\n",
    "        ),\n",
    "        # We specify the fields out so that we also don't end up writing the `text` field, which is no longer needed.\n",
    "        ParquetWriter(\n",
    "            path=embedding_output_path, fields=[\"_curator_dedup_id\", \"input_ids\", \"attention_mask\", \"embeddings\"]\n",
    "        ),\n",
    "    ],\n",
    ")\n",
    "\n",
    "embedding_out = embedding_pipeline.run()"
   ]
  },
  {
   "cell_type": "markdown",
   "id": "6f8044ba",
   "metadata": {},
   "source": [
    "### Save Id Generator to disk and kill the actor"
   ]
  },
  {
   "cell_type": "code",
   "execution_count": null,
   "id": "24bc3d06",
   "metadata": {},
   "outputs": [
    {
     "name": "stderr",
     "output_type": "stream",
     "text": [
      "2025-09-16 12:14:33,178\tINFO worker.py:1630 -- Using address 127.0.1.1:6379 set in the environment variable RAY_ADDRESS\n",
      "2025-09-16 12:14:33,182\tINFO worker.py:1771 -- Connecting to existing Ray cluster at address: 127.0.1.1:6379...\n",
      "2025-09-16 12:14:33,191\tINFO worker.py:1942 -- Connected to Ray cluster. View the dashboard at \u001b[1m\u001b[32mhttp://127.0.0.1:8265 \u001b[39m\u001b[22m\n"
     ]
    },
    {
     "name": "stdout",
     "output_type": "stream",
     "text": [
      "\u001b[36m(KMeansReadFitWriteStage pid=1900678)\u001b[0m 203520000\n",
      "\u001b[36m(KMeansReadFitWriteStage pid=1900684)\u001b[0m 203520000\n",
      "\u001b[36m(KMeansReadFitWriteStage pid=1900677)\u001b[0m 203520000\n",
      "\u001b[36m(KMeansReadFitWriteStage pid=1900681)\u001b[0m 203323776\n"
     ]
    }
   ],
   "source": [
    "from nemo_curator.stages.deduplication.id_generator import kill_id_generator_actor, write_id_generator_to_disk\n",
    "\n",
    "id_generator_actor_path = os.path.join(output_path, \"semantic_id_generator.json\")\n",
    "write_id_generator_to_disk(id_generator_actor_path)\n",
    "kill_id_generator_actor()"
   ]
  },
  {
   "cell_type": "markdown",
   "id": "7a600100",
   "metadata": {},
   "source": [
    "#### Embeddings\n",
    "\n",
    "1. `id` : The id field from our original dataset. \n",
    "    - For all subsequent steps this is assumed to be the  `id_field`\n",
    "    - If you had set `use_id_generator` to `True` then instead of this you would see the `_curator_dedup_id` spcified. The id in that field is generated using our IdGenerator which assigns integer ids to each row in input data that later is used in removal. \n",
    "2. `embeddings` : The embedding generated by the model we used above."
   ]
  },
  {
   "cell_type": "code",
   "execution_count": 6,
   "id": "736cd36a",
   "metadata": {},
   "outputs": [
    {
     "data": {
      "text/html": [
       "<div>\n",
       "<style scoped>\n",
       "    .dataframe tbody tr th:only-of-type {\n",
       "        vertical-align: middle;\n",
       "    }\n",
       "\n",
       "    .dataframe tbody tr th {\n",
       "        vertical-align: top;\n",
       "    }\n",
       "\n",
       "    .dataframe thead th {\n",
       "        text-align: right;\n",
       "    }\n",
       "</style>\n",
       "<table border=\"1\" class=\"dataframe\">\n",
       "  <thead>\n",
       "    <tr style=\"text-align: right;\">\n",
       "      <th></th>\n",
       "      <th>_curator_dedup_id</th>\n",
       "      <th>input_ids</th>\n",
       "      <th>attention_mask</th>\n",
       "      <th>embeddings</th>\n",
       "    </tr>\n",
       "  </thead>\n",
       "  <tbody>\n",
       "    <tr>\n",
       "      <th>0</th>\n",
       "      <td>50000</td>\n",
       "      <td>[101, 2320, 2045, 2001, 1037, 4206, 3203, 1012...</td>\n",
       "      <td>[1, 1, 1, 1, 1, 1, 1, 1, 1, 1, 1, 1, 1, 1, 1, ...</td>\n",
       "      <td>[-0.03838138282299042, 0.047589678317308426, 0...</td>\n",
       "    </tr>\n",
       "    <tr>\n",
       "      <th>1</th>\n",
       "      <td>50001</td>\n",
       "      <td>[101, 2320, 2588, 1037, 2051, 2045, 2001, 1037...</td>\n",
       "      <td>[1, 1, 1, 1, 1, 1, 1, 1, 1, 1, 1, 1, 1, 1, 1, ...</td>\n",
       "      <td>[0.012109456583857536, 0.05599193274974823, 0....</td>\n",
       "    </tr>\n",
       "    <tr>\n",
       "      <th>2</th>\n",
       "      <td>50002</td>\n",
       "      <td>[101, 2320, 2588, 1037, 2051, 2045, 2001, 1037...</td>\n",
       "      <td>[1, 1, 1, 1, 1, 1, 1, 1, 1, 1, 1, 1, 1, 1, 1, ...</td>\n",
       "      <td>[-0.021665604785084724, 0.06978840380907059, 0...</td>\n",
       "    </tr>\n",
       "    <tr>\n",
       "      <th>3</th>\n",
       "      <td>50003</td>\n",
       "      <td>[101, 2320, 2045, 2001, 1037, 2210, 2611, 2315...</td>\n",
       "      <td>[1, 1, 1, 1, 1, 1, 1, 1, 1, 1, 1, 1, 1, 1, 1, ...</td>\n",
       "      <td>[-0.07565540075302124, -0.032156478613615036, ...</td>\n",
       "    </tr>\n",
       "    <tr>\n",
       "      <th>4</th>\n",
       "      <td>50004</td>\n",
       "      <td>[101, 8410, 1996, 7481, 4845, 3866, 2000, 8145...</td>\n",
       "      <td>[1, 1, 1, 1, 1, 1, 1, 1, 1, 1, 1, 1, 1, 1, 1, ...</td>\n",
       "      <td>[-0.016478808596730232, 0.07793284207582474, 0...</td>\n",
       "    </tr>\n",
       "  </tbody>\n",
       "</table>\n",
       "</div>"
      ],
      "text/plain": [
       "   _curator_dedup_id                                          input_ids  \\\n",
       "0              50000  [101, 2320, 2045, 2001, 1037, 4206, 3203, 1012...   \n",
       "1              50001  [101, 2320, 2588, 1037, 2051, 2045, 2001, 1037...   \n",
       "2              50002  [101, 2320, 2588, 1037, 2051, 2045, 2001, 1037...   \n",
       "3              50003  [101, 2320, 2045, 2001, 1037, 2210, 2611, 2315...   \n",
       "4              50004  [101, 8410, 1996, 7481, 4845, 3866, 2000, 8145...   \n",
       "\n",
       "                                      attention_mask  \\\n",
       "0  [1, 1, 1, 1, 1, 1, 1, 1, 1, 1, 1, 1, 1, 1, 1, ...   \n",
       "1  [1, 1, 1, 1, 1, 1, 1, 1, 1, 1, 1, 1, 1, 1, 1, ...   \n",
       "2  [1, 1, 1, 1, 1, 1, 1, 1, 1, 1, 1, 1, 1, 1, 1, ...   \n",
       "3  [1, 1, 1, 1, 1, 1, 1, 1, 1, 1, 1, 1, 1, 1, 1, ...   \n",
       "4  [1, 1, 1, 1, 1, 1, 1, 1, 1, 1, 1, 1, 1, 1, 1, ...   \n",
       "\n",
       "                                          embeddings  \n",
       "0  [-0.03838138282299042, 0.047589678317308426, 0...  \n",
       "1  [0.012109456583857536, 0.05599193274974823, 0....  \n",
       "2  [-0.021665604785084724, 0.06978840380907059, 0...  \n",
       "3  [-0.07565540075302124, -0.032156478613615036, ...  \n",
       "4  [-0.016478808596730232, 0.07793284207582474, 0...  "
      ]
     },
     "execution_count": 6,
     "metadata": {},
     "output_type": "execute_result"
    }
   ],
   "source": [
    "embeddings_path = os.path.join(cache_path, \"embeddings\")\n",
    "\n",
    "pd.read_parquet(os.path.join(embeddings_path, os.listdir(embeddings_path)[0])).head()"
   ]
  },
  {
   "cell_type": "markdown",
   "id": "8bec854a",
   "metadata": {},
   "source": [
    "## Run Semantic Dedup workflow (w/o specifying `eps`)\n",
    "\n",
    "1. We intentionally don't specify `eps` so that we can show how to run `IdentifyDuplicates` as a separate stage."
   ]
  },
  {
   "cell_type": "code",
   "execution_count": 7,
   "id": "e069a223",
   "metadata": {},
   "outputs": [
    {
     "name": "stderr",
     "output_type": "stream",
     "text": [
      "2025-09-16 12:14:38,372\tINFO worker.py:1630 -- Using address 127.0.1.1:6379 set in the environment variable RAY_ADDRESS\n",
      "2025-09-16 12:14:38,374\tINFO worker.py:1771 -- Connecting to existing Ray cluster at address: 127.0.1.1:6379...\n",
      "2025-09-16 12:14:38,375\tINFO worker.py:1789 -- Calling ray.init() again after it has already been called.\n",
      "2025-09-16 12:15:04,622\tINFO worker.py:1630 -- Using address 127.0.1.1:6379 set in the environment variable RAY_ADDRESS\n",
      "2025-09-16 12:15:04,624\tINFO worker.py:1771 -- Connecting to existing Ray cluster at address: 127.0.1.1:6379...\n",
      "2025-09-16 12:15:04,632\tINFO worker.py:1942 -- Connected to Ray cluster. View the dashboard at \u001b[1m\u001b[32mhttp://127.0.0.1:8265 \u001b[39m\u001b[22m\n",
      "2025-09-16 12:15:04,647\tINFO worker.py:1630 -- Using address 127.0.1.1:6379 set in the environment variable RAY_ADDRESS\n",
      "2025-09-16 12:15:04,649\tINFO worker.py:1771 -- Connecting to existing Ray cluster at address: 127.0.1.1:6379...\n",
      "2025-09-16 12:15:04,649\tINFO worker.py:1789 -- Calling ray.init() again after it has already been called.\n"
     ]
    }
   ],
   "source": [
    "from nemo_curator.stages.deduplication.semantic import RankingStrategy, SemanticDeduplicationWorkflow\n",
    "\n",
    "semantic_workflow_path = os.path.join(cache_path, \"semantic_dedup\")\n",
    "\n",
    "workflow = SemanticDeduplicationWorkflow(\n",
    "    input_path=embedding_output_path,\n",
    "    output_path=semantic_workflow_path,\n",
    "    n_clusters=100,\n",
    "    # Since we use Id Generator in the embedding generation step, we need to specify the id field as `_curator_dedup_id`\n",
    "    id_field=\"_curator_dedup_id\",\n",
    "    embedding_field=\"embeddings\",\n",
    "    ranking_strategy=RankingStrategy(metadata_cols=[\"cosine_dist_to_cent\"], ascending=True),\n",
    "    # if eps is specified then it'll also run IdentifyDuplicates stage\n",
    "    eps=None,\n",
    ")\n",
    "semantic_out = workflow.run()"
   ]
  },
  {
   "cell_type": "markdown",
   "id": "a8743b9f",
   "metadata": {},
   "source": [
    "#### KMeans Results\n",
    "\n",
    "1. `_curator_dedup_id` : The ids of the rows that belong to the cluster.\n",
    "2. `embeddings` : These are later used for pairwise similarity\n",
    "3. `l2_dist_to_cent` / `cosine_dist_to_cent` : This represents how far (l2 distance or cosine distance) is from our clusters centroid.\n",
    "    - These fields help us define how we want to prioritize ranking within our cluster. See `RankingStratergy`\n",
    "    - If we had other `metadata_fields` provided they would be used here instead.\n"
   ]
  },
  {
   "cell_type": "code",
   "execution_count": 8,
   "id": "f7527710",
   "metadata": {},
   "outputs": [
    {
     "data": {
      "text/html": [
       "<div>\n",
       "<style scoped>\n",
       "    .dataframe tbody tr th:only-of-type {\n",
       "        vertical-align: middle;\n",
       "    }\n",
       "\n",
       "    .dataframe tbody tr th {\n",
       "        vertical-align: top;\n",
       "    }\n",
       "\n",
       "    .dataframe thead th {\n",
       "        text-align: right;\n",
       "    }\n",
       "</style>\n",
       "<table border=\"1\" class=\"dataframe\">\n",
       "  <thead>\n",
       "    <tr style=\"text-align: right;\">\n",
       "      <th></th>\n",
       "      <th>_curator_dedup_id</th>\n",
       "      <th>embeddings</th>\n",
       "      <th>l2_dist_to_cent</th>\n",
       "      <th>cosine_dist_to_cent</th>\n",
       "    </tr>\n",
       "  </thead>\n",
       "  <tbody>\n",
       "    <tr>\n",
       "      <th>0</th>\n",
       "      <td>1559534</td>\n",
       "      <td>[-0.11826241, 0.08439316, 0.0113494955, -0.025...</td>\n",
       "      <td>0.592360</td>\n",
       "      <td>0.194041</td>\n",
       "    </tr>\n",
       "    <tr>\n",
       "      <th>1</th>\n",
       "      <td>1559710</td>\n",
       "      <td>[-0.052437697, 0.04991796, -0.03742547, 0.0304...</td>\n",
       "      <td>0.687144</td>\n",
       "      <td>0.271335</td>\n",
       "    </tr>\n",
       "    <tr>\n",
       "      <th>2</th>\n",
       "      <td>1559720</td>\n",
       "      <td>[-0.07459514, 0.031523816, 0.049211908, -0.003...</td>\n",
       "      <td>0.558832</td>\n",
       "      <td>0.169442</td>\n",
       "    </tr>\n",
       "    <tr>\n",
       "      <th>3</th>\n",
       "      <td>1559748</td>\n",
       "      <td>[-0.09493365, 0.09627606, -0.006429509, 0.0233...</td>\n",
       "      <td>0.633781</td>\n",
       "      <td>0.226411</td>\n",
       "    </tr>\n",
       "    <tr>\n",
       "      <th>4</th>\n",
       "      <td>1560061</td>\n",
       "      <td>[-0.08274115, 0.1369494, 0.007629799, -0.01132...</td>\n",
       "      <td>0.572499</td>\n",
       "      <td>0.179296</td>\n",
       "    </tr>\n",
       "  </tbody>\n",
       "</table>\n",
       "</div>"
      ],
      "text/plain": [
       "   _curator_dedup_id                                         embeddings  \\\n",
       "0            1559534  [-0.11826241, 0.08439316, 0.0113494955, -0.025...   \n",
       "1            1559710  [-0.052437697, 0.04991796, -0.03742547, 0.0304...   \n",
       "2            1559720  [-0.07459514, 0.031523816, 0.049211908, -0.003...   \n",
       "3            1559748  [-0.09493365, 0.09627606, -0.006429509, 0.0233...   \n",
       "4            1560061  [-0.08274115, 0.1369494, 0.007629799, -0.01132...   \n",
       "\n",
       "   l2_dist_to_cent  cosine_dist_to_cent  \n",
       "0         0.592360             0.194041  \n",
       "1         0.687144             0.271335  \n",
       "2         0.558832             0.169442  \n",
       "3         0.633781             0.226411  \n",
       "4         0.572499             0.179296  "
      ]
     },
     "execution_count": 8,
     "metadata": {},
     "output_type": "execute_result"
    }
   ],
   "source": [
    "kmeans_path_first_centroid = os.path.join(semantic_workflow_path, \"kmeans_results\", \"centroid=0\")\n",
    "\n",
    "pd.read_parquet(os.path.join(kmeans_path_first_centroid, os.listdir(kmeans_path_first_centroid)[0])).head()"
   ]
  },
  {
   "cell_type": "markdown",
   "id": "9a8e14ef",
   "metadata": {},
   "source": [
    "#### Pairwise Similarity Result\n",
    "\n",
    "1. `id` : The identifier for the duplicate row.\n",
    "2. `max_id` : The closest pair for the duplicate row.\n",
    "3. `cosine_sim_score` : The cosine similarity between the two points\n"
   ]
  },
  {
   "cell_type": "code",
   "execution_count": 9,
   "id": "db2cf58f",
   "metadata": {},
   "outputs": [
    {
     "data": {
      "text/html": [
       "<div>\n",
       "<style scoped>\n",
       "    .dataframe tbody tr th:only-of-type {\n",
       "        vertical-align: middle;\n",
       "    }\n",
       "\n",
       "    .dataframe tbody tr th {\n",
       "        vertical-align: top;\n",
       "    }\n",
       "\n",
       "    .dataframe thead th {\n",
       "        text-align: right;\n",
       "    }\n",
       "</style>\n",
       "<table border=\"1\" class=\"dataframe\">\n",
       "  <thead>\n",
       "    <tr style=\"text-align: right;\">\n",
       "      <th></th>\n",
       "      <th>id</th>\n",
       "      <th>max_id</th>\n",
       "      <th>cosine_sim_score</th>\n",
       "    </tr>\n",
       "  </thead>\n",
       "  <tbody>\n",
       "    <tr>\n",
       "      <th>0</th>\n",
       "      <td>1176969</td>\n",
       "      <td>1176969</td>\n",
       "      <td>0.000000</td>\n",
       "    </tr>\n",
       "    <tr>\n",
       "      <th>1</th>\n",
       "      <td>1657631</td>\n",
       "      <td>1176969</td>\n",
       "      <td>0.832831</td>\n",
       "    </tr>\n",
       "    <tr>\n",
       "      <th>2</th>\n",
       "      <td>1258502</td>\n",
       "      <td>1657631</td>\n",
       "      <td>1.000000</td>\n",
       "    </tr>\n",
       "    <tr>\n",
       "      <th>3</th>\n",
       "      <td>2009161</td>\n",
       "      <td>1176969</td>\n",
       "      <td>0.863873</td>\n",
       "    </tr>\n",
       "    <tr>\n",
       "      <th>4</th>\n",
       "      <td>1739290</td>\n",
       "      <td>2009161</td>\n",
       "      <td>1.000000</td>\n",
       "    </tr>\n",
       "  </tbody>\n",
       "</table>\n",
       "</div>"
      ],
      "text/plain": [
       "        id   max_id  cosine_sim_score\n",
       "0  1176969  1176969          0.000000\n",
       "1  1657631  1176969          0.832831\n",
       "2  1258502  1657631          1.000000\n",
       "3  2009161  1176969          0.863873\n",
       "4  1739290  2009161          1.000000"
      ]
     },
     "execution_count": 9,
     "metadata": {},
     "output_type": "execute_result"
    }
   ],
   "source": [
    "pairwise_path = os.path.join(cache_path, \"semantic_dedup\", \"pairwise_results\")\n",
    "\n",
    "pd.read_parquet(os.path.join(pairwise_path, \"cluster_0.parquet\")).head()"
   ]
  },
  {
   "cell_type": "markdown",
   "id": "1dec1875",
   "metadata": {},
   "source": [
    "#### Investigate results of Semantic Workflow\n",
    "\n",
    "Depending on our dataset size we can read through all of the files and plot how much data is similar to one another.\n",
    "Here we show how to read file by file and then perform a reduce. \n",
    "\n",
    "Based on the analysis here we can decide what our `eps`, and proceed to identify the duplicates and then perform removal.\n",
    "\n",
    "**NOTE : If you run with `use_id_generator=False` (which affects removal performance at large scale) you will see the actual ids of instead of the int ids. You can then also inspect the original dataset for those ids, and that can also help your decision for `eps`**"
   ]
  },
  {
   "cell_type": "code",
   "execution_count": 10,
   "id": "32d68935",
   "metadata": {},
   "outputs": [],
   "source": [
    "from collections import Counter\n",
    "from functools import reduce\n",
    "\n",
    "import numpy as np\n",
    "\n",
    "pairwise_path = os.path.join(semantic_workflow_path, \"pairwise_results\")\n",
    "\n",
    "\n",
    "def get_bins(df: pd.DataFrame, num_bins: int = 1_000) -> dict[float, int]:\n",
    "    bins = np.linspace(0, 1.01, num_bins)\n",
    "\n",
    "    return Counter(\n",
    "        pd.cut(df[\"cosine_sim_score\"], bins=bins, labels=bins[1:], retbins=False, include_lowest=True, right=True)\n",
    "        .value_counts()\n",
    "        .to_dict()\n",
    "    )\n",
    "\n",
    "\n",
    "similarity_across_dataset = reduce(\n",
    "    lambda x, y: x + y,\n",
    "    [\n",
    "        get_bins(pd.read_parquet(os.path.join(pairwise_path, f), columns=[\"cosine_sim_score\"]), num_bins=1000)\n",
    "        for f in os.listdir(pairwise_path)\n",
    "    ],\n",
    ")"
   ]
  },
  {
   "cell_type": "markdown",
   "id": "0cc077ee",
   "metadata": {},
   "source": [
    "Looking at the graph below we see 20% of our dataset is above 0.9 cosine similarity. So for the purpose of this tutorial we can use 0.1 (1 - 0.9) as our `eps` parameter."
   ]
  },
  {
   "cell_type": "code",
   "execution_count": 11,
   "id": "fdf55383",
   "metadata": {},
   "outputs": [
    {
     "data": {
      "image/png": "[encoded data removed]",
      "text/plain": [
       "<Figure size 640x480 with 1 Axes>"
      ]
     },
     "metadata": {},
     "output_type": "display_data"
    }
   ],
   "source": [
    "import matplotlib.pyplot as plt\n",
    "\n",
    "plt.ecdf(x=similarity_across_dataset.keys(), weights=similarity_across_dataset.values())\n",
    "plt.xticks(np.linspace(0, 1, 11))\n",
    "plt.yticks(np.linspace(0, 1, 11))\n",
    "plt.xlabel(\"Cosine Similarity\")\n",
    "plt.ylabel(\"Ratio of dataset above the similarity score\")\n",
    "plt.grid()\n",
    "plt.show()"
   ]
  },
  {
   "cell_type": "markdown",
   "id": "90340b55",
   "metadata": {},
   "source": [
    "## Identify Duplicates\n",
    "\n",
    "We will create a simple pipeline that now identifies duplicates and writes them out."
   ]
  },
  {
   "cell_type": "code",
   "execution_count": 12,
   "id": "53e5b2ae",
   "metadata": {},
   "outputs": [
    {
     "name": "stderr",
     "output_type": "stream",
     "text": [
      "2025-09-16 12:17:17,367\tINFO worker.py:1630 -- Using address 127.0.1.1:6379 set in the environment variable RAY_ADDRESS\n",
      "2025-09-16 12:17:17,370\tINFO worker.py:1771 -- Connecting to existing Ray cluster at address: 127.0.1.1:6379...\n",
      "2025-09-16 12:17:17,379\tINFO worker.py:1942 -- Connected to Ray cluster. View the dashboard at \u001b[1m\u001b[32mhttp://127.0.0.1:8265 \u001b[39m\u001b[22m\n",
      "2025-09-16 12:17:17,395\tINFO worker.py:1630 -- Using address 127.0.1.1:6379 set in the environment variable RAY_ADDRESS\n",
      "2025-09-16 12:17:17,397\tINFO worker.py:1771 -- Connecting to existing Ray cluster at address: 127.0.1.1:6379...\n",
      "2025-09-16 12:17:17,397\tINFO worker.py:1789 -- Calling ray.init() again after it has already been called.\n",
      "\u001b[36m(pid=1955162)\u001b[0m [2025-09-16 12:17:20,462 E 1955162 1959591] core_worker.cc:4075: Mismatched ActorID: ignoring KillActor for previous actor 4c7bc8a18801268188a389b305000000, current actor ID: NIL_ID\n",
      "\u001b[36m(pid=1955126)\u001b[0m [2025-09-16 12:17:20,462 E 1955126 1959516] core_worker.cc:4075: Mismatched ActorID: ignoring KillActor for previous actor 85951ba0297c464b2e62d2ed05000000, current actor ID: NIL_ID\u001b[32m [repeated 2x across cluster] (Ray deduplicates logs by default. Set RAY_DEDUP_LOGS=0 to disable log deduplication, or see https://docs.ray.io/en/master/ray-observability/user-guides/configure-logging.html#log-deduplication for more options.)\u001b[0m\n"
     ]
    }
   ],
   "source": [
    "from nemo_curator.pipeline import Pipeline\n",
    "from nemo_curator.stages.deduplication.semantic import IdentifyDuplicatesStage\n",
    "from nemo_curator.stages.file_partitioning import FilePartitioningStage\n",
    "from nemo_curator.utils.file_utils import create_or_overwrite_dir\n",
    "\n",
    "duplicates_output_path = os.path.join(output_path, \"duplicates\")\n",
    "create_or_overwrite_dir(duplicates_output_path)\n",
    "\n",
    "identify_duplicates_pipeline = Pipeline(\n",
    "    name=\"identify_duplicates_pipeline\",\n",
    "    stages=[\n",
    "        FilePartitioningStage(\n",
    "            file_paths=pairwise_path,\n",
    "            # we select files per partition to be 1, because IdentifyDuplicates has default batch_size of 10\n",
    "            # this means it'll process 10 files at a time\n",
    "            files_per_partition=1,\n",
    "        ),\n",
    "        IdentifyDuplicatesStage(\n",
    "            output_path=duplicates_output_path,\n",
    "            eps=0.1,\n",
    "        ),\n",
    "    ],\n",
    ")\n",
    "\n",
    "identify_duplicates_out = identify_duplicates_pipeline.run()"
   ]
  },
  {
   "cell_type": "markdown",
   "id": "b47ce381",
   "metadata": {},
   "source": [
    "#### Looking at duplicates\n",
    "\n",
    "- `id` : This is a list of all ids that are above our similarity threshold `eps`."
   ]
  },
  {
   "cell_type": "code",
   "execution_count": 13,
   "id": "865a9273",
   "metadata": {},
   "outputs": [
    {
     "data": {
      "text/html": [
       "<div>\n",
       "<style scoped>\n",
       "    .dataframe tbody tr th:only-of-type {\n",
       "        vertical-align: middle;\n",
       "    }\n",
       "\n",
       "    .dataframe tbody tr th {\n",
       "        vertical-align: top;\n",
       "    }\n",
       "\n",
       "    .dataframe thead th {\n",
       "        text-align: right;\n",
       "    }\n",
       "</style>\n",
       "<table border=\"1\" class=\"dataframe\">\n",
       "  <thead>\n",
       "    <tr style=\"text-align: right;\">\n",
       "      <th></th>\n",
       "      <th>id</th>\n",
       "    </tr>\n",
       "  </thead>\n",
       "  <tbody>\n",
       "    <tr>\n",
       "      <th>0</th>\n",
       "      <td>656</td>\n",
       "    </tr>\n",
       "    <tr>\n",
       "      <th>1</th>\n",
       "      <td>711</td>\n",
       "    </tr>\n",
       "    <tr>\n",
       "      <th>2</th>\n",
       "      <td>807</td>\n",
       "    </tr>\n",
       "    <tr>\n",
       "      <th>3</th>\n",
       "      <td>842</td>\n",
       "    </tr>\n",
       "    <tr>\n",
       "      <th>4</th>\n",
       "      <td>868</td>\n",
       "    </tr>\n",
       "  </tbody>\n",
       "</table>\n",
       "</div>"
      ],
      "text/plain": [
       "    id\n",
       "0  656\n",
       "1  711\n",
       "2  807\n",
       "3  842\n",
       "4  868"
      ]
     },
     "execution_count": 13,
     "metadata": {},
     "output_type": "execute_result"
    }
   ],
   "source": [
    "pd.read_parquet(os.path.join(duplicates_output_path, os.listdir(duplicates_output_path)[0])).head()"
   ]
  },
  {
   "cell_type": "markdown",
   "id": "88140f70",
   "metadata": {},
   "source": [
    "## Removing Duplicates\n",
    "\n",
    "1. We load the persisted id generator\n",
    "2. Run the removal workflow\n",
    "3. Kill the id generator\n",
    "\n",
    "### Notes\n",
    "1. When running removal workflow, we must specify the same input configuration as we did when we \"generated ids\".\n",
    "2. In this tutorial that happened at the embedding generation step.\n",
    "3. Therefore its required that we match the saame arguments of filepath, filetype and files_per_partition / blocksize.\n",
    "4. This is required because ids are generated based on hash(filenames) in each task. If the same hash is not found in the id generator it'll error out.\n",
    "\n",
    "### Performance\n",
    "1. If you notice OOMs during this stage you can try using RayDataActor\n",
    "\n",
    "\n",
    "### How TextDuplicatesRemovalWorkflow works\n",
    "1. It starts the id generator using `create_id_generator(filepath=???)`\n",
    "1. It runs a pipeline that does [ParquetReader, TextDuplicatesRemovalStage, ParquetWriter] (assuming input/output filetypes are parquet)\n",
    "1. Kills the id generator using `kill_id_generator_actor`\n"
   ]
  },
  {
   "cell_type": "code",
   "execution_count": 14,
   "id": "185aa65d",
   "metadata": {},
   "outputs": [
    {
     "name": "stderr",
     "output_type": "stream",
     "text": [
      "2025-09-16 12:18:13,253\tINFO worker.py:1630 -- Using address 127.0.1.1:6379 set in the environment variable RAY_ADDRESS\n",
      "2025-09-16 12:18:13,255\tINFO worker.py:1771 -- Connecting to existing Ray cluster at address: 127.0.1.1:6379...\n",
      "2025-09-16 12:18:13,263\tINFO worker.py:1942 -- Connected to Ray cluster. View the dashboard at \u001b[1m\u001b[32mhttp://127.0.0.1:8265 \u001b[39m\u001b[22m\n",
      "2025-09-16 12:18:13,570\tINFO worker.py:1630 -- Using address 127.0.1.1:6379 set in the environment variable RAY_ADDRESS\n",
      "2025-09-16 12:18:13,572\tINFO worker.py:1771 -- Connecting to existing Ray cluster at address: 127.0.1.1:6379...\n",
      "2025-09-16 12:18:13,579\tINFO worker.py:1942 -- Connected to Ray cluster. View the dashboard at \u001b[1m\u001b[32mhttp://127.0.0.1:8265 \u001b[39m\u001b[22m\n",
      "2025-09-16 12:18:13,595\tINFO worker.py:1630 -- Using address 127.0.1.1:6379 set in the environment variable RAY_ADDRESS\n",
      "2025-09-16 12:18:13,597\tINFO worker.py:1771 -- Connecting to existing Ray cluster at address: 127.0.1.1:6379...\n",
      "2025-09-16 12:18:13,598\tINFO worker.py:1789 -- Calling ray.init() again after it has already been called.\n",
      "2025-09-16 12:18:28,110\tINFO worker.py:1630 -- Using address 127.0.1.1:6379 set in the environment variable RAY_ADDRESS\n",
      "2025-09-16 12:18:28,112\tINFO worker.py:1771 -- Connecting to existing Ray cluster at address: 127.0.1.1:6379...\n",
      "2025-09-16 12:18:28,120\tINFO worker.py:1942 -- Connected to Ray cluster. View the dashboard at \u001b[1m\u001b[32mhttp://127.0.0.1:8265 \u001b[39m\u001b[22m\n"
     ]
    }
   ],
   "source": [
    "from nemo_curator.stages.text.deduplication.removal_workflow import TextDuplicatesRemovalWorkflow\n",
    "\n",
    "duplicates_output_path = os.path.join(output_path, \"duplicates\")\n",
    "\n",
    "# The workflow starts from a new IdGenerator from the persisted id generator\n",
    "# This helps it assign the same ids back to the same file\n",
    "# It is important the we read again the same dataset using the same file path and files_per_partition / blocksize arguments\n",
    "id_generator_path = os.path.join(output_path, \"semantic_id_generator.json\")\n",
    "\n",
    "removal_workflow = TextDuplicatesRemovalWorkflow(\n",
    "    input_path=input_path_to_data,\n",
    "    ids_to_remove_path=duplicates_output_path,\n",
    "    output_path=os.path.join(output_path, \"deduplicated\"),\n",
    "    # input args\n",
    "    input_filetype=input_filetype,\n",
    "    input_fields=[\"text\"],\n",
    "    input_files_per_partition=1,\n",
    "    # output args\n",
    "    output_filetype=output_filetype,\n",
    "    output_fields=[\"text\", \"_curator_dedup_id\"],\n",
    "    # id args\n",
    "    ids_to_remove_duplicate_id_field=\"id\",  # this is the field that contains the ids of the duplicates\n",
    "    id_generator_path=id_generator_path,\n",
    ")\n",
    "\n",
    "removal_out = removal_workflow.run()"
   ]
  },
  {
   "cell_type": "markdown",
   "id": "a850d116",
   "metadata": {},
   "source": [
    "### Looking at deduplicated dataset"
   ]
  },
  {
   "cell_type": "code",
   "execution_count": 15,
   "id": "e4ebf5c6",
   "metadata": {},
   "outputs": [
    {
     "data": {
      "text/html": [
       "<div>\n",
       "<style scoped>\n",
       "    .dataframe tbody tr th:only-of-type {\n",
       "        vertical-align: middle;\n",
       "    }\n",
       "\n",
       "    .dataframe tbody tr th {\n",
       "        vertical-align: top;\n",
       "    }\n",
       "\n",
       "    .dataframe thead th {\n",
       "        text-align: right;\n",
       "    }\n",
       "</style>\n",
       "<table border=\"1\" class=\"dataframe\">\n",
       "  <thead>\n",
       "    <tr style=\"text-align: right;\">\n",
       "      <th></th>\n",
       "      <th>text</th>\n",
       "      <th>_curator_dedup_id</th>\n",
       "    </tr>\n",
       "  </thead>\n",
       "  <tbody>\n",
       "    <tr>\n",
       "      <th>0</th>\n",
       "      <td>Once upon a time there was a frog. He lived i...</td>\n",
       "      <td>80000</td>\n",
       "    </tr>\n",
       "    <tr>\n",
       "      <th>1</th>\n",
       "      <td>Once there was a tired mule. He was tired fro...</td>\n",
       "      <td>80001</td>\n",
       "    </tr>\n",
       "    <tr>\n",
       "      <th>2</th>\n",
       "      <td>Once upon a time, there was a big family. Eve...</td>\n",
       "      <td>80002</td>\n",
       "    </tr>\n",
       "    <tr>\n",
       "      <th>3</th>\n",
       "      <td>One day, a young girl was singing in the park...</td>\n",
       "      <td>80003</td>\n",
       "    </tr>\n",
       "    <tr>\n",
       "      <th>4</th>\n",
       "      <td>One day, Timmy was excited to learn something...</td>\n",
       "      <td>80004</td>\n",
       "    </tr>\n",
       "  </tbody>\n",
       "</table>\n",
       "</div>"
      ],
      "text/plain": [
       "                                                text  _curator_dedup_id\n",
       "0   Once upon a time there was a frog. He lived i...              80000\n",
       "1   Once there was a tired mule. He was tired fro...              80001\n",
       "2   Once upon a time, there was a big family. Eve...              80002\n",
       "3   One day, a young girl was singing in the park...              80003\n",
       "4   One day, Timmy was excited to learn something...              80004"
      ]
     },
     "execution_count": 15,
     "metadata": {},
     "output_type": "execute_result"
    }
   ],
   "source": [
    "deduplicated_path = os.path.join(output_path, \"deduplicated\")\n",
    "\n",
    "pd.read_parquet(os.path.join(deduplicated_path, os.listdir(deduplicated_path)[0])).head()"
   ]
  },
  {
   "cell_type": "markdown",
   "id": "8bd1c200",
   "metadata": {},
   "source": [
    "## Printing statistics of the dataset"
   ]
  },
  {
   "cell_type": "code",
   "execution_count": 16,
   "id": "d175ae31",
   "metadata": {},
   "outputs": [
    {
     "name": "stdout",
     "output_type": "stream",
     "text": [
      "Number of input rows\t: 2,119,489\n",
      "Number of output rows\t: 1,682,787\n",
      "Number of removed rows\t: 436,702\n",
      "Ratio of removed rows\t: 20.60%\n"
     ]
    }
   ],
   "source": [
    "number_of_input_rows = sum(task._stage_perf[1].num_items_processed for task in removal_out)\n",
    "number_of_output_rows = sum([task._stage_perf[2].num_items_processed for task in removal_out])\n",
    "number_of_removed_rows = sum([task._metadata.get(\"num_removed\") for task in removal_out])\n",
    "\n",
    "print(f\"Number of input rows\\t: {number_of_input_rows:,}\")\n",
    "print(f\"Number of output rows\\t: {number_of_output_rows:,}\")\n",
    "print(f\"Number of removed rows\\t: {number_of_removed_rows:,}\")\n",
    "print(f\"Ratio of removed rows\\t: {(number_of_removed_rows * 100 / number_of_input_rows):.2f}%\")"
   ]
  },
  {
   "cell_type": "markdown",
   "id": "e016262f",
   "metadata": {},
   "source": [
    "## Stop the cluster"
   ]
  },
  {
   "cell_type": "code",
   "execution_count": null,
   "id": "753c72a9",
   "metadata": {},
   "outputs": [
    {
     "ename": "",
     "evalue": "",
     "output_type": "error",
     "traceback": [
      "\u001b[1;31mThe Kernel crashed while executing code in the current cell or a previous cell. \n",
      "\u001b[1;31mPlease review the code in the cell(s) to identify a possible cause of the failure. \n",
      "\u001b[1;31mClick <a href='https://aka.ms/vscodeJupyterKernelCrash'>here</a> for more info. \n",
      "\u001b[1;31mView Jupyter <a href='command:jupyter.viewOutput'>log</a> for further details."
     ]
    }
   ],
   "source": [
    "client.stop()"
   ]
  }
 ],
 "metadata": {
  "kernelspec": {
   "display_name": "Python 3",
   "language": "python",
   "name": "python3"
  },
  "language_info": {
   "codemirror_mode": {
    "name": "ipython",
    "version": 3
   },
   "file_extension": ".py",
   "mimetype": "text/x-python",
   "name": "python",
   "nbconvert_exporter": "python",
   "pygments_lexer": "ipython3",
   "version": "3.12.11"
  }
 },
 "nbformat": 4,
 "nbformat_minor": 5
}
