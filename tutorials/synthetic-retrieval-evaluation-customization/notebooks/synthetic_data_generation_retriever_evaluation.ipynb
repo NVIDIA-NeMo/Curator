{
 "cells": [
  {
   "cell_type": "code",
   "execution_count": 6,
   "metadata": {},
   "outputs": [
    {
     "name": "stderr",
     "output_type": "stream",
     "text": [
      "/home/vinay/.local/lib/python3.10/site-packages/dask/dataframe/__init__.py:42: FutureWarning: \n",
      "Dask dataframe query planning is disabled because dask-expr is not installed.\n",
      "\n",
      "You can install it with `pip install dask[dataframe]` or `conda install dask`.\n",
      "This will raise in a future version.\n",
      "\n",
      "  warnings.warn(msg, FutureWarning)\n"
     ]
    }
   ],
   "source": [
    "import os\n",
    "\n",
    "os.environ['NVIDIA_API_KEY'] = \"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\"\n",
    "from omegaconf import OmegaConf\n",
    "import sys\n",
    "sys.path.append(\"../\")\n",
    "sys.path.append(\"../../../\")\n",
    "from retriever_evalset_generator import RetrieverEvalSetGenerator\n",
    "from filters import EasinessFilter, AnswerabilityFilter\n",
    "from nemo_curator.modules.filter import ScoreFilter, Score\n",
    "from nemo_curator.datasets import DocumentDataset\n",
    "import warnings\n",
    "warnings.filterwarnings('ignore')\n"
   ]
  },
  {
   "cell_type": "code",
   "execution_count": 7,
   "metadata": {},
   "outputs": [],
   "source": [
    "import pandas as pd\n",
    "df = pd.read_json(\"../data/nq_test.jsonl\", lines=True)\n",
    "df = df[:5]"
   ]
  },
  {
   "cell_type": "code",
   "execution_count": 8,
   "metadata": {},
   "outputs": [],
   "source": [
    "cfg = OmegaConf.load(\"../config/retriever_eval_sdg.yaml\")\n",
    "retrieval_evalset_generator = RetrieverEvalSetGenerator(cfg)\n",
    "retrieval_evalset_generator.init_pipeline_params()"
   ]
  },
  {
   "cell_type": "code",
   "execution_count": 9,
   "metadata": {},
   "outputs": [],
   "source": [
    "dataset = DocumentDataset.from_pandas(df)\n",
    "generated_dataset = retrieval_evalset_generator.run(dataset)"
   ]
  },
  {
   "cell_type": "code",
   "execution_count": 10,
   "metadata": {},
   "outputs": [
    {
     "data": {
      "text/html": [
       "<div>\n",
       "<style scoped>\n",
       "    .dataframe tbody tr th:only-of-type {\n",
       "        vertical-align: middle;\n",
       "    }\n",
       "\n",
       "    .dataframe tbody tr th {\n",
       "        vertical-align: top;\n",
       "    }\n",
       "\n",
       "    .dataframe thead th {\n",
       "        text-align: right;\n",
       "    }\n",
       "</style>\n",
       "<table border=\"1\" class=\"dataframe\">\n",
       "  <thead>\n",
       "    <tr style=\"text-align: right;\">\n",
       "      <th></th>\n",
       "      <th>_id</th>\n",
       "      <th>text</th>\n",
       "      <th>title</th>\n",
       "      <th>question</th>\n",
       "      <th>answer</th>\n",
       "    </tr>\n",
       "  </thead>\n",
       "  <tbody>\n",
       "    <tr>\n",
       "      <th>0</th>\n",
       "      <td>doc6</td>\n",
       "      <td>The fourth season of Chicago Fire, an American...</td>\n",
       "      <td>Chicago Fire (season 4)</td>\n",
       "      <td>Who are the executive producer and producers o...</td>\n",
       "      <td>The executive producer of the fourth season of...</td>\n",
       "    </tr>\n",
       "    <tr>\n",
       "      <th>1</th>\n",
       "      <td>doc6</td>\n",
       "      <td>The fourth season of Chicago Fire, an American...</td>\n",
       "      <td>Chicago Fire (season 4)</td>\n",
       "      <td>When did the fourth season of Chicago Fire pre...</td>\n",
       "      <td>The fourth season of Chicago Fire premiered on...</td>\n",
       "    </tr>\n",
       "    <tr>\n",
       "      <th>2</th>\n",
       "      <td>doc6</td>\n",
       "      <td>The fourth season of Chicago Fire, an American...</td>\n",
       "      <td>Chicago Fire (season 4)</td>\n",
       "      <td>How many episodes were there in the fourth sea...</td>\n",
       "      <td>There were 23 episodes in the fourth season of...</td>\n",
       "    </tr>\n",
       "    <tr>\n",
       "      <th>3</th>\n",
       "      <td>doc10</td>\n",
       "      <td>\"Love Will Keep Us Alive\" is a song written by...</td>\n",
       "      <td>Love Will Keep Us Alive</td>\n",
       "      <td>Who are the songwriters behind \"Love Will Keep...</td>\n",
       "      <td>The songwriters behind \"Love Will Keep Us Aliv...</td>\n",
       "    </tr>\n",
       "    <tr>\n",
       "      <th>4</th>\n",
       "      <td>doc10</td>\n",
       "      <td>\"Love Will Keep Us Alive\" is a song written by...</td>\n",
       "      <td>Love Will Keep Us Alive</td>\n",
       "      <td>Who produced the song \"Love Will Keep Us Alive\"?</td>\n",
       "      <td>The song \"Love Will Keep Us Alive\" was produce...</td>\n",
       "    </tr>\n",
       "  </tbody>\n",
       "</table>\n",
       "</div>"
      ],
      "text/plain": [
       "     _id                                               text  \\\n",
       "0   doc6  The fourth season of Chicago Fire, an American...   \n",
       "1   doc6  The fourth season of Chicago Fire, an American...   \n",
       "2   doc6  The fourth season of Chicago Fire, an American...   \n",
       "3  doc10  \"Love Will Keep Us Alive\" is a song written by...   \n",
       "4  doc10  \"Love Will Keep Us Alive\" is a song written by...   \n",
       "\n",
       "                     title                                           question  \\\n",
       "0  Chicago Fire (season 4)  Who are the executive producer and producers o...   \n",
       "1  Chicago Fire (season 4)  When did the fourth season of Chicago Fire pre...   \n",
       "2  Chicago Fire (season 4)  How many episodes were there in the fourth sea...   \n",
       "3  Love Will Keep Us Alive  Who are the songwriters behind \"Love Will Keep...   \n",
       "4  Love Will Keep Us Alive   Who produced the song \"Love Will Keep Us Alive\"?   \n",
       "\n",
       "                                              answer  \n",
       "0  The executive producer of the fourth season of...  \n",
       "1  The fourth season of Chicago Fire premiered on...  \n",
       "2  There were 23 episodes in the fourth season of...  \n",
       "3  The songwriters behind \"Love Will Keep Us Aliv...  \n",
       "4  The song \"Love Will Keep Us Alive\" was produce...  "
      ]
     },
     "execution_count": 10,
     "metadata": {},
     "output_type": "execute_result"
    }
   ],
   "source": [
    "generated_dataset.df.head(n=5, npartitions=-1)"
   ]
  },
  {
   "cell_type": "code",
   "execution_count": 11,
   "metadata": {},
   "outputs": [],
   "source": [
    "ef = EasinessFilter(cfg)\n",
    "easiness_filter = ScoreFilter(ef,\n",
    "                              text_field = [\"text\", \"question\"],\n",
    "                              score_field = \"scores\")"
   ]
  },
  {
   "cell_type": "code",
   "execution_count": 12,
   "metadata": {},
   "outputs": [
    {
     "data": {
      "text/html": [
       "<div>\n",
       "<style scoped>\n",
       "    .dataframe tbody tr th:only-of-type {\n",
       "        vertical-align: middle;\n",
       "    }\n",
       "\n",
       "    .dataframe tbody tr th {\n",
       "        vertical-align: top;\n",
       "    }\n",
       "\n",
       "    .dataframe thead th {\n",
       "        text-align: right;\n",
       "    }\n",
       "</style>\n",
       "<table border=\"1\" class=\"dataframe\">\n",
       "  <thead>\n",
       "    <tr style=\"text-align: right;\">\n",
       "      <th></th>\n",
       "      <th>_id</th>\n",
       "      <th>text</th>\n",
       "      <th>title</th>\n",
       "      <th>question</th>\n",
       "      <th>answer</th>\n",
       "      <th>scores</th>\n",
       "    </tr>\n",
       "  </thead>\n",
       "  <tbody>\n",
       "    <tr>\n",
       "      <th>0</th>\n",
       "      <td>doc6</td>\n",
       "      <td>The fourth season of Chicago Fire, an American...</td>\n",
       "      <td>Chicago Fire (season 4)</td>\n",
       "      <td>Who are the executive producer and producers o...</td>\n",
       "      <td>The executive producer of the fourth season of...</td>\n",
       "      <td>0.621422</td>\n",
       "    </tr>\n",
       "    <tr>\n",
       "      <th>3</th>\n",
       "      <td>doc10</td>\n",
       "      <td>\"Love Will Keep Us Alive\" is a song written by...</td>\n",
       "      <td>Love Will Keep Us Alive</td>\n",
       "      <td>Who are the songwriters behind \"Love Will Keep...</td>\n",
       "      <td>The songwriters behind \"Love Will Keep Us Aliv...</td>\n",
       "      <td>0.580546</td>\n",
       "    </tr>\n",
       "    <tr>\n",
       "      <th>4</th>\n",
       "      <td>doc10</td>\n",
       "      <td>\"Love Will Keep Us Alive\" is a song written by...</td>\n",
       "      <td>Love Will Keep Us Alive</td>\n",
       "      <td>Who produced the song \"Love Will Keep Us Alive\"?</td>\n",
       "      <td>The song \"Love Will Keep Us Alive\" was produce...</td>\n",
       "      <td>0.576173</td>\n",
       "    </tr>\n",
       "    <tr>\n",
       "      <th>6</th>\n",
       "      <td>doc42</td>\n",
       "      <td>\"Fishin' in the Dark\" is a song written by Wen...</td>\n",
       "      <td>Fishin' in the Dark</td>\n",
       "      <td>Who wrote the song \"Fishin' in the Dark\"?</td>\n",
       "      <td>The song \"Fishin' in the Dark\" was written by ...</td>\n",
       "      <td>0.645659</td>\n",
       "    </tr>\n",
       "    <tr>\n",
       "      <th>7</th>\n",
       "      <td>doc42</td>\n",
       "      <td>\"Fishin' in the Dark\" is a song written by Wen...</td>\n",
       "      <td>Fishin' in the Dark</td>\n",
       "      <td>When was the song \"Fishin' in the Dark\" releas...</td>\n",
       "      <td>The song \"Fishin' in the Dark\" was released as...</td>\n",
       "      <td>0.647324</td>\n",
       "    </tr>\n",
       "  </tbody>\n",
       "</table>\n",
       "</div>"
      ],
      "text/plain": [
       "     _id                                               text  \\\n",
       "0   doc6  The fourth season of Chicago Fire, an American...   \n",
       "3  doc10  \"Love Will Keep Us Alive\" is a song written by...   \n",
       "4  doc10  \"Love Will Keep Us Alive\" is a song written by...   \n",
       "6  doc42  \"Fishin' in the Dark\" is a song written by Wen...   \n",
       "7  doc42  \"Fishin' in the Dark\" is a song written by Wen...   \n",
       "\n",
       "                     title                                           question  \\\n",
       "0  Chicago Fire (season 4)  Who are the executive producer and producers o...   \n",
       "3  Love Will Keep Us Alive  Who are the songwriters behind \"Love Will Keep...   \n",
       "4  Love Will Keep Us Alive   Who produced the song \"Love Will Keep Us Alive\"?   \n",
       "6      Fishin' in the Dark          Who wrote the song \"Fishin' in the Dark\"?   \n",
       "7      Fishin' in the Dark  When was the song \"Fishin' in the Dark\" releas...   \n",
       "\n",
       "                                              answer    scores  \n",
       "0  The executive producer of the fourth season of...  0.621422  \n",
       "3  The songwriters behind \"Love Will Keep Us Aliv...  0.580546  \n",
       "4  The song \"Love Will Keep Us Alive\" was produce...  0.576173  \n",
       "6  The song \"Fishin' in the Dark\" was written by ...  0.645659  \n",
       "7  The song \"Fishin' in the Dark\" was released as...  0.647324  "
      ]
     },
     "execution_count": 12,
     "metadata": {},
     "output_type": "execute_result"
    }
   ],
   "source": [
    "filtered_dataset = easiness_filter(generated_dataset)\n",
    "filtered_dataset.df.head(n=5, npartitions=-1)"
   ]
  },
  {
   "cell_type": "code",
   "execution_count": null,
   "metadata": {},
   "outputs": [],
   "source": []
  }
 ],
 "metadata": {
  "kernelspec": {
   "display_name": "Python 3",
   "language": "python",
   "name": "python3"
  },
  "language_info": {
   "codemirror_mode": {
    "name": "ipython",
    "version": 3
   },
   "file_extension": ".py",
   "mimetype": "text/x-python",
   "name": "python",
   "nbconvert_exporter": "python",
   "pygments_lexer": "ipython3",
   "version": "3.10.14"
  }
 },
 "nbformat": 4,
 "nbformat_minor": 2
}
